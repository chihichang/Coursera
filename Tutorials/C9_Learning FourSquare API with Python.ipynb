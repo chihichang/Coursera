{
    "cells": [
        {
            "cell_type": "markdown",
            "metadata": {
                "button": false,
                "new_sheet": false,
                "run_control": {
                    "read_only": false
                }
            },
            "source": "<a href=\"https://cognitiveclass.ai\"><img src = \"https://ibm.box.com/shared/static/9gegpsmnsoo25ikkbl4qzlvlyjbgxs5x.png\" width = 400> </a>\n\n<h1 align=center><font size = 5>Learning FourSquare API with Python</font></h1>"
        },
        {
            "cell_type": "markdown",
            "metadata": {
                "button": false,
                "new_sheet": false,
                "run_control": {
                    "read_only": false
                }
            },
            "source": "   "
        },
        {
            "cell_type": "markdown",
            "metadata": {
                "button": false,
                "new_sheet": false,
                "run_control": {
                    "read_only": false
                }
            },
            "source": "## Introduction\n\nIn this lab, you will learn in details how to make calls to the Foursquare API for different purposes. You will learn how to construct a URL to send a request to the API to search for a specific type of venues, to explore a particular venue, to explore a Foursquare user, to explore a geographical location, and to get trending venues around a location. Also, you will learn how to use the visualization library, Folium, to visualize the results."
        },
        {
            "cell_type": "markdown",
            "metadata": {
                "button": false,
                "new_sheet": false,
                "run_control": {
                    "read_only": false
                }
            },
            "source": "## Table of Contents\n\n1. <a href=\"#item1\">Foursquare API Search Function</a>\n2. <a href=\"#item2\">Explore a Given Venue</a>  \n3. <a href=\"#item3\">Explore a User</a>  \n4. <a href=\"#item4\">Foursquare API Explore Function</a>  \n5. <a href=\"#item5\">Get Trending Venues</a>  "
        },
        {
            "cell_type": "markdown",
            "metadata": {
                "button": false,
                "new_sheet": false,
                "run_control": {
                    "read_only": false
                }
            },
            "source": "### Import necessary Libraries"
        },
        {
            "cell_type": "code",
            "execution_count": 1,
            "metadata": {
                "button": false,
                "jupyter": {
                    "outputs_hidden": false
                },
                "new_sheet": false,
                "run_control": {
                    "read_only": false
                }
            },
            "outputs": [
                {
                    "name": "stdout",
                    "output_type": "stream",
                    "text": "Collecting package metadata (current_repodata.json): done\nSolving environment: done\n\n## Package Plan ##\n\n  environment location: /home/jupyterlab/conda/envs/python\n\n  added / updated specs:\n    - geopy\n\n\nThe following packages will be downloaded:\n\n    package                    |            build\n    ---------------------------|-----------------\n    ca-certificates-2020.6.20  |       hecda079_0         145 KB  conda-forge\n    certifi-2020.6.20          |   py36h9f0ad1d_0         151 KB  conda-forge\n    geographiclib-1.50         |             py_0          34 KB  conda-forge\n    geopy-2.0.0                |     pyh9f0ad1d_0          63 KB  conda-forge\n    ------------------------------------------------------------\n                                           Total:         394 KB\n\nThe following NEW packages will be INSTALLED:\n\n  geographiclib      conda-forge/noarch::geographiclib-1.50-py_0\n  geopy              conda-forge/noarch::geopy-2.0.0-pyh9f0ad1d_0\n\nThe following packages will be UPDATED:\n\n  ca-certificates                     2020.4.5.2-hecda079_0 --> 2020.6.20-hecda079_0\n  certifi                         2020.4.5.2-py36h9f0ad1d_0 --> 2020.6.20-py36h9f0ad1d_0\n\n\n\nDownloading and Extracting Packages\ncertifi-2020.6.20    | 151 KB    | ##################################### | 100% \nca-certificates-2020 | 145 KB    | ##################################### | 100% \ngeopy-2.0.0          | 63 KB     | ##################################### | 100% \ngeographiclib-1.50   | 34 KB     | ##################################### | 100% \nPreparing transaction: done\nVerifying transaction: done\nExecuting transaction: done\nCollecting package metadata (current_repodata.json): done\nSolving environment: failed with initial frozen solve. Retrying with flexible solve.\nCollecting package metadata (repodata.json): done\nSolving environment: done\n\n## Package Plan ##\n\n  environment location: /home/jupyterlab/conda/envs/python\n\n  added / updated specs:\n    - folium=0.5.0\n\n\nThe following packages will be downloaded:\n\n    package                    |            build\n    ---------------------------|-----------------\n    altair-4.1.0               |             py_1         614 KB  conda-forge\n    branca-0.4.1               |             py_0          26 KB  conda-forge\n    brotlipy-0.7.0             |py36h8c4c3a4_1000         346 KB  conda-forge\n    chardet-3.0.4              |py36h9f0ad1d_1006         188 KB  conda-forge\n    cryptography-2.9.2         |   py36h45558ae_0         613 KB  conda-forge\n    folium-0.5.0               |             py_0          45 KB  conda-forge\n    idna-2.10                  |     pyh9f0ad1d_0          52 KB  conda-forge\n    pandas-1.0.5               |   py36h830a2c2_0        10.1 MB  conda-forge\n    pysocks-1.7.1              |   py36h9f0ad1d_1          27 KB  conda-forge\n    requests-2.24.0            |     pyh9f0ad1d_0          47 KB  conda-forge\n    toolz-0.10.0               |             py_0          46 KB  conda-forge\n    vincent-0.4.4              |             py_1          28 KB  conda-forge\n    ------------------------------------------------------------\n                                           Total:        12.1 MB\n\nThe following NEW packages will be INSTALLED:\n\n  altair             conda-forge/noarch::altair-4.1.0-py_1\n  attrs              conda-forge/noarch::attrs-19.3.0-py_0\n  branca             conda-forge/noarch::branca-0.4.1-py_0\n  brotlipy           conda-forge/linux-64::brotlipy-0.7.0-py36h8c4c3a4_1000\n  chardet            conda-forge/linux-64::chardet-3.0.4-py36h9f0ad1d_1006\n  cryptography       conda-forge/linux-64::cryptography-2.9.2-py36h45558ae_0\n  entrypoints        conda-forge/linux-64::entrypoints-0.3-py36h9f0ad1d_1001\n  folium             conda-forge/noarch::folium-0.5.0-py_0\n  idna               conda-forge/noarch::idna-2.10-pyh9f0ad1d_0\n  importlib_metadata conda-forge/noarch::importlib_metadata-1.6.1-0\n  jinja2             conda-forge/noarch::jinja2-2.11.2-pyh9f0ad1d_0\n  jsonschema         conda-forge/linux-64::jsonschema-3.2.0-py36h9f0ad1d_1\n  markupsafe         conda-forge/linux-64::markupsafe-1.1.1-py36h8c4c3a4_1\n  pandas             conda-forge/linux-64::pandas-1.0.5-py36h830a2c2_0\n  pyopenssl          conda-forge/noarch::pyopenssl-19.1.0-py_1\n  pyrsistent         conda-forge/linux-64::pyrsistent-0.16.0-py36h8c4c3a4_0\n  pysocks            conda-forge/linux-64::pysocks-1.7.1-py36h9f0ad1d_1\n  pytz               conda-forge/noarch::pytz-2020.1-pyh9f0ad1d_0\n  requests           conda-forge/noarch::requests-2.24.0-pyh9f0ad1d_0\n  toolz              conda-forge/noarch::toolz-0.10.0-py_0\n  urllib3            conda-forge/noarch::urllib3-1.25.9-py_0\n  vincent            conda-forge/noarch::vincent-0.4.4-py_1\n\n\n\nDownloading and Extracting Packages\nidna-2.10            | 52 KB     | ##################################### | 100% \npysocks-1.7.1        | 27 KB     | ##################################### | 100% \ntoolz-0.10.0         | 46 KB     | ##################################### | 100% \nchardet-3.0.4        | 188 KB    | ##################################### | 100% \nfolium-0.5.0         | 45 KB     | ##################################### | 100% \nbranca-0.4.1         | 26 KB     | ##################################### | 100% \ncryptography-2.9.2   | 613 KB    | ##################################### | 100% \nbrotlipy-0.7.0       | 346 KB    | ##################################### | 100% \naltair-4.1.0         | 614 KB    | ##################################### | 100% \nrequests-2.24.0      | 47 KB     | ##################################### | 100% \npandas-1.0.5         | 10.1 MB   | ##################################### | 100% \nvincent-0.4.4        | 28 KB     | ##################################### | 100% \nPreparing transaction: done\nVerifying transaction: done\nExecuting transaction: done\nFolium installed\nLibraries imported.\n"
                }
            ],
            "source": "import requests # library to handle requests\nimport pandas as pd # library for data analsysis\nimport numpy as np # library to handle data in a vectorized manner\nimport random # library for random number generation\n\n!conda install -c conda-forge geopy --yes \nfrom geopy.geocoders import Nominatim # module to convert an address into latitude and longitude values\n\n# libraries for displaying images\nfrom IPython.display import Image \nfrom IPython.core.display import HTML \n    \n# tranforming json file into a pandas dataframe library\nfrom pandas.io.json import json_normalize\n\n!conda install -c conda-forge folium=0.5.0 --yes\nimport folium # plotting library\n\nprint('Folium installed')\nprint('Libraries imported.')"
        },
        {
            "cell_type": "markdown",
            "metadata": {
                "button": false,
                "new_sheet": false,
                "run_control": {
                    "read_only": false
                }
            },
            "source": "### Define Foursquare Credentials and Version"
        },
        {
            "cell_type": "markdown",
            "metadata": {
                "button": false,
                "new_sheet": false,
                "run_control": {
                    "read_only": false
                }
            },
            "source": "##### Make sure that you have created a Foursquare developer account and have your credentials handy"
        },
        {
            "cell_type": "code",
            "execution_count": 2,
            "metadata": {
                "button": false,
                "jupyter": {
                    "outputs_hidden": false
                },
                "new_sheet": false,
                "run_control": {
                    "read_only": false
                }
            },
            "outputs": [],
            "source": "# The code was removed by Watson Studio for sharing."
        },
        {
            "cell_type": "markdown",
            "metadata": {
                "button": false,
                "new_sheet": false,
                "run_control": {
                    "read_only": false
                }
            },
            "source": "  "
        },
        {
            "cell_type": "markdown",
            "metadata": {
                "button": false,
                "new_sheet": false,
                "run_control": {
                    "read_only": false
                }
            },
            "source": "#### Let's again assume that you are staying at the Conrad hotel. So let's start by converting the Contrad Hotel's address to its latitude and longitude coordinates."
        },
        {
            "cell_type": "markdown",
            "metadata": {},
            "source": "In order to define an instance of the geocoder, we need to define a user_agent. We will name our agent <em>foursquare_agent</em>, as shown below."
        },
        {
            "cell_type": "code",
            "execution_count": 3,
            "metadata": {
                "button": false,
                "jupyter": {
                    "outputs_hidden": false
                },
                "new_sheet": false,
                "run_control": {
                    "read_only": false
                }
            },
            "outputs": [
                {
                    "name": "stdout",
                    "output_type": "stream",
                    "text": "40.7151482 -74.0156573\n"
                }
            ],
            "source": "address = '102 North End Ave, New York, NY'\n\ngeolocator = Nominatim(user_agent=\"foursquare_agent\")\nlocation = geolocator.geocode(address)\nlatitude = location.latitude\nlongitude = location.longitude\nprint(latitude, longitude)"
        },
        {
            "cell_type": "markdown",
            "metadata": {
                "button": false,
                "new_sheet": false,
                "run_control": {
                    "read_only": false
                }
            },
            "source": "   "
        },
        {
            "cell_type": "markdown",
            "metadata": {
                "button": false,
                "new_sheet": false,
                "run_control": {
                    "read_only": false
                }
            },
            "source": "<a id=\"item1\"></a>"
        },
        {
            "cell_type": "markdown",
            "metadata": {
                "button": false,
                "new_sheet": false,
                "run_control": {
                    "read_only": false
                }
            },
            "source": "## 1. Search for a specific venue category\n> `https://api.foursquare.com/v2/venues/`**search**`?client_id=`**CLIENT_ID**`&client_secret=`**CLIENT_SECRET**`&ll=`**LATITUDE**`,`**LONGITUDE**`&v=`**VERSION**`&query=`**QUERY**`&radius=`**RADIUS**`&limit=`**LIMIT**"
        },
        {
            "cell_type": "markdown",
            "metadata": {
                "button": false,
                "new_sheet": false,
                "run_control": {
                    "read_only": false
                }
            },
            "source": "#### Now, let's assume that it is lunch time, and you are craving Italian food. So, let's define a query to search for Italian food that is within 500 metres from the Conrad Hotel. "
        },
        {
            "cell_type": "code",
            "execution_count": 4,
            "metadata": {
                "button": false,
                "jupyter": {
                    "outputs_hidden": false
                },
                "new_sheet": false,
                "run_control": {
                    "read_only": false
                },
                "scrolled": true
            },
            "outputs": [
                {
                    "name": "stdout",
                    "output_type": "stream",
                    "text": "Italian .... OK!\n"
                }
            ],
            "source": "search_query = 'Italian'\nradius = 500\nprint(search_query + ' .... OK!')"
        },
        {
            "cell_type": "markdown",
            "metadata": {
                "button": false,
                "new_sheet": false,
                "run_control": {
                    "read_only": false
                }
            },
            "source": "#### Define the corresponding URL"
        },
        {
            "cell_type": "code",
            "execution_count": 5,
            "metadata": {
                "button": false,
                "jupyter": {
                    "outputs_hidden": false
                },
                "new_sheet": false,
                "run_control": {
                    "read_only": false
                }
            },
            "outputs": [],
            "source": "url = 'https://api.foursquare.com/v2/venues/search?client_id={}&client_secret={}&ll={},{}&v={}&query={}&radius={}&limit={}'.format(CLIENT_ID, CLIENT_SECRET, latitude, longitude, VERSION, search_query, radius, LIMIT)"
        },
        {
            "cell_type": "markdown",
            "metadata": {
                "button": false,
                "new_sheet": false,
                "run_control": {
                    "read_only": false
                }
            },
            "source": "#### Send the GET Request and examine the results"
        },
        {
            "cell_type": "code",
            "execution_count": 6,
            "metadata": {
                "button": false,
                "jupyter": {
                    "outputs_hidden": false
                },
                "new_sheet": false,
                "run_control": {
                    "read_only": false
                },
                "scrolled": true
            },
            "outputs": [
                {
                    "data": {
                        "text/plain": "{'meta': {'code': 200, 'requestId': '5eff604b36812b1176d2327b'},\n 'response': {'venues': [{'id': '4fa862b3e4b0ebff2f749f06',\n    'name': \"Harry's Italian Pizza Bar\",\n    'location': {'address': '225 Murray St',\n     'lat': 40.71521779064671,\n     'lng': -74.01473940209351,\n     'labeledLatLngs': [{'label': 'display',\n       'lat': 40.71521779064671,\n       'lng': -74.01473940209351},\n      {'label': 'entrance', 'lat': 40.715361, 'lng': -74.014975}],\n     'distance': 77,\n     'postalCode': '10282',\n     'cc': 'US',\n     'city': 'New York',\n     'state': 'NY',\n     'country': 'United States',\n     'formattedAddress': ['225 Murray St',\n      'New York, NY 10282',\n      'United States']},\n    'categories': [{'id': '4bf58dd8d48988d1ca941735',\n      'name': 'Pizza Place',\n      'pluralName': 'Pizza Places',\n      'shortName': 'Pizza',\n      'icon': {'prefix': 'https://ss3.4sqi.net/img/categories_v2/food/pizza_',\n       'suffix': '.png'},\n      'primary': True}],\n    'referralId': 'v-1593794411',\n    'hasPerk': False},\n   {'id': '4f3232e219836c91c7bfde94',\n    'name': 'Conca Cucina Italian Restaurant',\n    'location': {'address': '63 W Broadway',\n     'lat': 40.714484000000006,\n     'lng': -74.00980600000001,\n     'labeledLatLngs': [{'label': 'display',\n       'lat': 40.714484000000006,\n       'lng': -74.00980600000001}],\n     'distance': 499,\n     'postalCode': '10007',\n     'cc': 'US',\n     'city': 'New York',\n     'state': 'NY',\n     'country': 'United States',\n     'formattedAddress': ['63 W Broadway',\n      'New York, NY 10007',\n      'United States']},\n    'categories': [{'id': '4d4b7105d754a06374d81259',\n      'name': 'Food',\n      'pluralName': 'Food',\n      'shortName': 'Food',\n      'icon': {'prefix': 'https://ss3.4sqi.net/img/categories_v2/food/default_',\n       'suffix': '.png'},\n      'primary': True}],\n    'referralId': 'v-1593794411',\n    'hasPerk': False}]}}"
                    },
                    "execution_count": 6,
                    "metadata": {},
                    "output_type": "execute_result"
                }
            ],
            "source": "results = requests.get(url).json()\nresults"
        },
        {
            "cell_type": "markdown",
            "metadata": {
                "button": false,
                "new_sheet": false,
                "run_control": {
                    "read_only": false
                }
            },
            "source": "#### Get relevant part of JSON and transform it into a *pandas* dataframe"
        },
        {
            "cell_type": "code",
            "execution_count": 7,
            "metadata": {
                "button": false,
                "jupyter": {
                    "outputs_hidden": false
                },
                "new_sheet": false,
                "run_control": {
                    "read_only": false
                }
            },
            "outputs": [
                {
                    "name": "stderr",
                    "output_type": "stream",
                    "text": "/home/jupyterlab/conda/envs/python/lib/python3.6/site-packages/ipykernel_launcher.py:5: FutureWarning: pandas.io.json.json_normalize is deprecated, use pandas.json_normalize instead\n  \"\"\"\n"
                },
                {
                    "data": {
                        "text/html": "<div>\n<style scoped>\n    .dataframe tbody tr th:only-of-type {\n        vertical-align: middle;\n    }\n\n    .dataframe tbody tr th {\n        vertical-align: top;\n    }\n\n    .dataframe thead th {\n        text-align: right;\n    }\n</style>\n<table border=\"1\" class=\"dataframe\">\n  <thead>\n    <tr style=\"text-align: right;\">\n      <th></th>\n      <th>id</th>\n      <th>name</th>\n      <th>categories</th>\n      <th>referralId</th>\n      <th>hasPerk</th>\n      <th>location.address</th>\n      <th>location.lat</th>\n      <th>location.lng</th>\n      <th>location.labeledLatLngs</th>\n      <th>location.distance</th>\n      <th>location.postalCode</th>\n      <th>location.cc</th>\n      <th>location.city</th>\n      <th>location.state</th>\n      <th>location.country</th>\n      <th>location.formattedAddress</th>\n    </tr>\n  </thead>\n  <tbody>\n    <tr>\n      <th>0</th>\n      <td>4fa862b3e4b0ebff2f749f06</td>\n      <td>Harry's Italian Pizza Bar</td>\n      <td>[{'id': '4bf58dd8d48988d1ca941735', 'name': 'P...</td>\n      <td>v-1593794411</td>\n      <td>False</td>\n      <td>225 Murray St</td>\n      <td>40.715218</td>\n      <td>-74.014739</td>\n      <td>[{'label': 'display', 'lat': 40.71521779064671...</td>\n      <td>77</td>\n      <td>10282</td>\n      <td>US</td>\n      <td>New York</td>\n      <td>NY</td>\n      <td>United States</td>\n      <td>[225 Murray St, New York, NY 10282, United Sta...</td>\n    </tr>\n    <tr>\n      <th>1</th>\n      <td>4f3232e219836c91c7bfde94</td>\n      <td>Conca Cucina Italian Restaurant</td>\n      <td>[{'id': '4d4b7105d754a06374d81259', 'name': 'F...</td>\n      <td>v-1593794411</td>\n      <td>False</td>\n      <td>63 W Broadway</td>\n      <td>40.714484</td>\n      <td>-74.009806</td>\n      <td>[{'label': 'display', 'lat': 40.71448400000000...</td>\n      <td>499</td>\n      <td>10007</td>\n      <td>US</td>\n      <td>New York</td>\n      <td>NY</td>\n      <td>United States</td>\n      <td>[63 W Broadway, New York, NY 10007, United Sta...</td>\n    </tr>\n  </tbody>\n</table>\n</div>",
                        "text/plain": "                         id                             name  \\\n0  4fa862b3e4b0ebff2f749f06        Harry's Italian Pizza Bar   \n1  4f3232e219836c91c7bfde94  Conca Cucina Italian Restaurant   \n\n                                          categories    referralId  hasPerk  \\\n0  [{'id': '4bf58dd8d48988d1ca941735', 'name': 'P...  v-1593794411    False   \n1  [{'id': '4d4b7105d754a06374d81259', 'name': 'F...  v-1593794411    False   \n\n  location.address  location.lat  location.lng  \\\n0    225 Murray St     40.715218    -74.014739   \n1    63 W Broadway     40.714484    -74.009806   \n\n                             location.labeledLatLngs  location.distance  \\\n0  [{'label': 'display', 'lat': 40.71521779064671...                 77   \n1  [{'label': 'display', 'lat': 40.71448400000000...                499   \n\n  location.postalCode location.cc location.city location.state  \\\n0               10282          US      New York             NY   \n1               10007          US      New York             NY   \n\n  location.country                          location.formattedAddress  \n0    United States  [225 Murray St, New York, NY 10282, United Sta...  \n1    United States  [63 W Broadway, New York, NY 10007, United Sta...  "
                    },
                    "execution_count": 7,
                    "metadata": {},
                    "output_type": "execute_result"
                }
            ],
            "source": "# assign relevant part of JSON to venues\nvenues = results['response']['venues']\n\n# tranform venues into a dataframe\ndataframe = json_normalize(venues)\ndataframe.head()"
        },
        {
            "cell_type": "markdown",
            "metadata": {
                "button": false,
                "new_sheet": false,
                "run_control": {
                    "read_only": false
                }
            },
            "source": "#### Define information of interest and filter dataframe"
        },
        {
            "cell_type": "code",
            "execution_count": 8,
            "metadata": {
                "button": false,
                "jupyter": {
                    "outputs_hidden": false
                },
                "new_sheet": false,
                "run_control": {
                    "read_only": false
                },
                "scrolled": true
            },
            "outputs": [
                {
                    "data": {
                        "text/html": "<div>\n<style scoped>\n    .dataframe tbody tr th:only-of-type {\n        vertical-align: middle;\n    }\n\n    .dataframe tbody tr th {\n        vertical-align: top;\n    }\n\n    .dataframe thead th {\n        text-align: right;\n    }\n</style>\n<table border=\"1\" class=\"dataframe\">\n  <thead>\n    <tr style=\"text-align: right;\">\n      <th></th>\n      <th>name</th>\n      <th>categories</th>\n      <th>address</th>\n      <th>lat</th>\n      <th>lng</th>\n      <th>labeledLatLngs</th>\n      <th>distance</th>\n      <th>postalCode</th>\n      <th>cc</th>\n      <th>city</th>\n      <th>state</th>\n      <th>country</th>\n      <th>formattedAddress</th>\n      <th>id</th>\n    </tr>\n  </thead>\n  <tbody>\n    <tr>\n      <th>0</th>\n      <td>Harry's Italian Pizza Bar</td>\n      <td>Pizza Place</td>\n      <td>225 Murray St</td>\n      <td>40.715218</td>\n      <td>-74.014739</td>\n      <td>[{'label': 'display', 'lat': 40.71521779064671...</td>\n      <td>77</td>\n      <td>10282</td>\n      <td>US</td>\n      <td>New York</td>\n      <td>NY</td>\n      <td>United States</td>\n      <td>[225 Murray St, New York, NY 10282, United Sta...</td>\n      <td>4fa862b3e4b0ebff2f749f06</td>\n    </tr>\n    <tr>\n      <th>1</th>\n      <td>Conca Cucina Italian Restaurant</td>\n      <td>Food</td>\n      <td>63 W Broadway</td>\n      <td>40.714484</td>\n      <td>-74.009806</td>\n      <td>[{'label': 'display', 'lat': 40.71448400000000...</td>\n      <td>499</td>\n      <td>10007</td>\n      <td>US</td>\n      <td>New York</td>\n      <td>NY</td>\n      <td>United States</td>\n      <td>[63 W Broadway, New York, NY 10007, United Sta...</td>\n      <td>4f3232e219836c91c7bfde94</td>\n    </tr>\n  </tbody>\n</table>\n</div>",
                        "text/plain": "                              name   categories        address        lat  \\\n0        Harry's Italian Pizza Bar  Pizza Place  225 Murray St  40.715218   \n1  Conca Cucina Italian Restaurant         Food  63 W Broadway  40.714484   \n\n         lng                                     labeledLatLngs  distance  \\\n0 -74.014739  [{'label': 'display', 'lat': 40.71521779064671...        77   \n1 -74.009806  [{'label': 'display', 'lat': 40.71448400000000...       499   \n\n  postalCode  cc      city state        country  \\\n0      10282  US  New York    NY  United States   \n1      10007  US  New York    NY  United States   \n\n                                    formattedAddress                        id  \n0  [225 Murray St, New York, NY 10282, United Sta...  4fa862b3e4b0ebff2f749f06  \n1  [63 W Broadway, New York, NY 10007, United Sta...  4f3232e219836c91c7bfde94  "
                    },
                    "execution_count": 8,
                    "metadata": {},
                    "output_type": "execute_result"
                }
            ],
            "source": "# keep only columns that include venue name, and anything that is associated with location\nfiltered_columns = ['name', 'categories'] + [col for col in dataframe.columns if col.startswith('location.')] + ['id']\ndataframe_filtered = dataframe.loc[:, filtered_columns]\n\n# function that extracts the category of the venue\ndef get_category_type(row):\n    try:\n        categories_list = row['categories']\n    except:\n        categories_list = row['venue.categories']\n        \n    if len(categories_list) == 0:\n        return None\n    else:\n        return categories_list[0]['name']\n\n# filter the category for each row\ndataframe_filtered['categories'] = dataframe_filtered.apply(get_category_type, axis=1)\n\n# clean column names by keeping only last term\ndataframe_filtered.columns = [column.split('.')[-1] for column in dataframe_filtered.columns]\n\ndataframe_filtered"
        },
        {
            "cell_type": "markdown",
            "metadata": {
                "button": false,
                "new_sheet": false,
                "run_control": {
                    "read_only": false
                }
            },
            "source": "#### Let's visualize the Italian restaurants that are nearby"
        },
        {
            "cell_type": "code",
            "execution_count": 9,
            "metadata": {
                "button": false,
                "jupyter": {
                    "outputs_hidden": false
                },
                "new_sheet": false,
                "run_control": {
                    "read_only": false
                }
            },
            "outputs": [
                {
                    "data": {
                        "text/plain": "0    Pizza Place\n1           Food\nName: categories, dtype: object"
                    },
                    "execution_count": 9,
                    "metadata": {},
                    "output_type": "execute_result"
                }
            ],
            "source": "dataframe_filtered.name\ndataframe_filtered.categories"
        },
        {
            "cell_type": "code",
            "execution_count": 10,
            "metadata": {
                "button": false,
                "jupyter": {
                    "outputs_hidden": false
                },
                "new_sheet": false,
                "run_control": {
                    "read_only": false
                }
            },
            "outputs": [
                {
                    "data": {
                        "text/html": "<div style=\"width:100%;\"><div style=\"position:relative;width:100%;height:0;padding-bottom:60%;\"><span style=\"color:#565656\">Make this Notebook Trusted to load map: File -> Trust Notebook</span><iframe src=\"about:blank\" style=\"position:absolute;width:100%;height:100%;left:0;top:0;border:none !important;\" data-html=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 onload=\"this.contentDocument.open();this.contentDocument.write(atob(this.getAttribute('data-html')));this.contentDocument.close();\" allowfullscreen webkitallowfullscreen mozallowfullscreen></iframe></div></div>",
                        "text/plain": "<folium.folium.Map at 0x7f128d7017b8>"
                    },
                    "execution_count": 10,
                    "metadata": {},
                    "output_type": "execute_result"
                }
            ],
            "source": "venues_map = folium.Map(location=[latitude, longitude], zoom_start=13) # generate map centred around the Conrad Hotel\n\n# add a red circle marker to represent the Conrad Hotel\nfolium.features.CircleMarker(\n    [latitude, longitude],\n    radius=10,\n    color='red',\n    popup='Conrad Hotel',\n    fill = True,\n    fill_color = 'red',\n    fill_opacity = 0.6\n).add_to(venues_map)\n\n# add the Italian restaurants as blue circle markers\nfor lat, lng, label in zip(dataframe_filtered.lat, dataframe_filtered.lng, dataframe_filtered.categories):\n    folium.features.CircleMarker(\n        [lat, lng],\n        radius=5,\n        color='blue',\n        popup=label,\n        fill = True,\n        fill_color='blue',\n        fill_opacity=0.6\n    ).add_to(venues_map)\n\n# display map\nvenues_map"
        },
        {
            "cell_type": "markdown",
            "metadata": {
                "button": false,
                "new_sheet": false,
                "run_control": {
                    "read_only": false
                }
            },
            "source": "   "
        },
        {
            "cell_type": "markdown",
            "metadata": {
                "button": false,
                "new_sheet": false,
                "run_control": {
                    "read_only": false
                }
            },
            "source": "<a id=\"item2\"></a>"
        },
        {
            "cell_type": "markdown",
            "metadata": {
                "button": false,
                "new_sheet": false,
                "run_control": {
                    "read_only": false
                }
            },
            "source": "## 2. Explore a Given Venue\n> `https://api.foursquare.com/v2/venues/`**VENUE_ID**`?client_id=`**CLIENT_ID**`&client_secret=`**CLIENT_SECRET**`&v=`**VERSION**"
        },
        {
            "cell_type": "markdown",
            "metadata": {
                "button": false,
                "new_sheet": false,
                "run_control": {
                    "read_only": false
                }
            },
            "source": "### A. Let's explore the closest Italian restaurant -- _Harry's Italian Pizza Bar_"
        },
        {
            "cell_type": "code",
            "execution_count": 11,
            "metadata": {
                "button": false,
                "jupyter": {
                    "outputs_hidden": false
                },
                "new_sheet": false,
                "run_control": {
                    "read_only": false
                }
            },
            "outputs": [],
            "source": "venue_id = '4fa862b3e4b0ebff2f749f06' # ID of Harry's Italian Pizza Bar\nurl = 'https://api.foursquare.com/v2/venues/{}?client_id={}&client_secret={}&v={}'.format(venue_id, CLIENT_ID, CLIENT_SECRET, VERSION)"
        },
        {
            "cell_type": "markdown",
            "metadata": {
                "button": false,
                "new_sheet": false,
                "run_control": {
                    "read_only": false
                }
            },
            "source": "#### Send GET request for result"
        },
        {
            "cell_type": "code",
            "execution_count": 12,
            "metadata": {
                "button": false,
                "jupyter": {
                    "outputs_hidden": false
                },
                "new_sheet": false,
                "run_control": {
                    "read_only": false
                }
            },
            "outputs": [
                {
                    "name": "stdout",
                    "output_type": "stream",
                    "text": "dict_keys(['id', 'name', 'contact', 'location', 'canonicalUrl', 'categories', 'verified', 'stats', 'url', 'price', 'hasMenu', 'likes', 'dislike', 'ok', 'rating', 'ratingColor', 'ratingSignals', 'menu', 'allowMenuUrlEdit', 'beenHere', 'specials', 'photos', 'reasons', 'hereNow', 'createdAt', 'tips', 'shortUrl', 'timeZone', 'listed', 'hours', 'popular', 'seasonalHours', 'defaultHours', 'pageUpdates', 'inbox', 'attributes', 'bestPhoto', 'colors'])\n"
                },
                {
                    "data": {
                        "text/plain": "{'id': '4fa862b3e4b0ebff2f749f06',\n 'name': \"Harry's Italian Pizza Bar\",\n 'contact': {'phone': '2126081007', 'formattedPhone': '(212) 608-1007'},\n 'location': {'address': '225 Murray St',\n  'lat': 40.71521779064671,\n  'lng': -74.01473940209351,\n  'labeledLatLngs': [{'label': 'display',\n    'lat': 40.71521779064671,\n    'lng': -74.01473940209351},\n   {'label': 'entrance', 'lat': 40.715361, 'lng': -74.014975}],\n  'postalCode': '10282',\n  'cc': 'US',\n  'city': 'New York',\n  'state': 'NY',\n  'country': 'United States',\n  'formattedAddress': ['225 Murray St',\n   'New York, NY 10282',\n   'United States']},\n 'canonicalUrl': 'https://foursquare.com/v/harrys-italian-pizza-bar/4fa862b3e4b0ebff2f749f06',\n 'categories': [{'id': '4bf58dd8d48988d1ca941735',\n   'name': 'Pizza Place',\n   'pluralName': 'Pizza Places',\n   'shortName': 'Pizza',\n   'icon': {'prefix': 'https://ss3.4sqi.net/img/categories_v2/food/pizza_',\n    'suffix': '.png'},\n   'primary': True},\n  {'id': '4bf58dd8d48988d110941735',\n   'name': 'Italian Restaurant',\n   'pluralName': 'Italian Restaurants',\n   'shortName': 'Italian',\n   'icon': {'prefix': 'https://ss3.4sqi.net/img/categories_v2/food/italian_',\n    'suffix': '.png'}}],\n 'verified': False,\n 'stats': {'tipCount': 57},\n 'url': 'http://harrysitalian.com',\n 'price': {'tier': 2, 'message': 'Moderate', 'currency': '$'},\n 'hasMenu': True,\n 'likes': {'count': 120,\n  'groups': [{'type': 'others', 'count': 120, 'items': []}],\n  'summary': '120 Likes'},\n 'dislike': False,\n 'ok': False,\n 'rating': 6.9,\n 'ratingColor': 'FFC800',\n 'ratingSignals': 212,\n 'menu': {'type': 'Menu',\n  'label': 'Menu',\n  'anchor': 'View Menu',\n  'url': 'https://foursquare.com/v/harrys-italian-pizza-bar/4fa862b3e4b0ebff2f749f06/menu',\n  'mobileUrl': 'https://foursquare.com/v/4fa862b3e4b0ebff2f749f06/device_menu'},\n 'allowMenuUrlEdit': True,\n 'beenHere': {'count': 0,\n  'unconfirmedCount': 0,\n  'marked': False,\n  'lastCheckinExpiredAt': 0},\n 'specials': {'count': 0, 'items': []},\n 'photos': {'count': 146,\n  'groups': [{'type': 'venue',\n    'name': 'Venue photos',\n    'count': 146,\n    'items': [{'id': '4fad980de4b091b4626c3633',\n      'createdAt': 1336776717,\n      'source': {'name': 'Foursquare for Android',\n       'url': 'https://foursquare.com/download/#/android'},\n      'prefix': 'https://fastly.4sqi.net/img/general/',\n      'suffix': '/ya1iQFI7pLjuIJp1PGDKlrZS3OJdHCF7tpILMmjv_2w.jpg',\n      'width': 480,\n      'height': 640,\n      'user': {'id': '13676709',\n       'firstName': 'Leony',\n       'lastName': 'N',\n       'photo': {'prefix': 'https://fastly.4sqi.net/img/user/',\n        'suffix': '/T0ANFNGNMCHUDEUE.jpg'}},\n      'visibility': 'public'},\n     {'id': '503139a5e4b021f7a5e9952a',\n      'createdAt': 1345403301,\n      'source': {'name': 'Foursquare for iOS',\n       'url': 'https://foursquare.com/download/#/iphone'},\n      'prefix': 'https://fastly.4sqi.net/img/general/',\n      'suffix': '/ox3MATx28ULVNhMemzwMx5ivrRPh0aIbowxREaHWzKA.jpg',\n      'width': 720,\n      'height': 540,\n      'user': {'id': '4434246',\n       'firstName': 'Gregory',\n       'lastName': 'L',\n       'photo': {'prefix': 'https://fastly.4sqi.net/img/user/',\n        'suffix': '/4XA1N04BRCPULL2M.jpg'}},\n      'visibility': 'public'}]}]},\n 'reasons': {'count': 1,\n  'items': [{'summary': 'Lots of people like this place',\n    'type': 'general',\n    'reasonName': 'rawLikesReason'}]},\n 'hereNow': {'count': 0, 'summary': 'Nobody here', 'groups': []},\n 'createdAt': 1336435379,\n 'tips': {'count': 57,\n  'groups': [{'type': 'others',\n    'name': 'All tips',\n    'count': 57,\n    'items': [{'id': '53d27909498e0523841340b6',\n      'createdAt': 1406302473,\n      'text': \"Harry's Italian Pizza bar is known for it's amazing pizza, but did you know that the brunches here are amazing too? Try the Nutella French toast and we know you'll be sold.\",\n      'type': 'user',\n      'canonicalUrl': 'https://foursquare.com/item/53d27909498e0523841340b6',\n      'lang': 'en',\n      'likes': {'count': 4,\n       'groups': [{'type': 'others',\n         'count': 4,\n         'items': [{'id': '369426',\n           'firstName': 'P.',\n           'lastName': 'M',\n           'photo': {'prefix': 'https://fastly.4sqi.net/img/user/',\n            'suffix': '/JPQYUWJKUT0H2OO4.jpg'}},\n          {'id': '87587879',\n           'firstName': 'Diane',\n           'lastName': 'D',\n           'photo': {'prefix': 'https://fastly.4sqi.net/img/user/',\n            'suffix': '/87587879-ESLRSZLQ2CBE2P4W.jpg'}},\n          {'id': '87591341',\n           'firstName': 'Tim',\n           'lastName': 'S',\n           'photo': {'prefix': 'https://fastly.4sqi.net/img/user/',\n            'suffix': '/-Z4YK4VKE0JSVXIY1.jpg'}},\n          {'id': '87473404',\n           'firstName': 'TenantKing.com',\n           'photo': {'prefix': 'https://fastly.4sqi.net/img/user/',\n            'suffix': '/87473404-HI5DTBTK0HX401CA.png'},\n           'type': 'page'}]}],\n       'summary': '4 likes'},\n      'logView': True,\n      'agreeCount': 4,\n      'disagreeCount': 0,\n      'todo': {'count': 0},\n      'user': {'id': '87473404',\n       'firstName': 'TenantKing.com',\n       'photo': {'prefix': 'https://fastly.4sqi.net/img/user/',\n        'suffix': '/87473404-HI5DTBTK0HX401CA.png'},\n       'type': 'page'}},\n     {'id': '53962e98498ecd43845cc813',\n      'createdAt': 1402351256,\n      'text': \"I'm not sure if this place is one of the famous pizzerias in NYC but I loved their pizza.\",\n      'type': 'user',\n      'canonicalUrl': 'https://foursquare.com/item/53962e98498ecd43845cc813',\n      'photo': {'id': '53962e9c498e53dbbf59b28e',\n       'createdAt': 1402351260,\n       'source': {'name': 'Foursquare for iOS',\n        'url': 'https://foursquare.com/download/#/iphone'},\n       'prefix': 'https://fastly.4sqi.net/img/general/',\n       'suffix': '/7012699_DCcCtW8oRbhNv62E68gxtLnWn7IgRhapBr8vdnIQjYk.jpg',\n       'width': 720,\n       'height': 720,\n       'visibility': 'public'},\n      'photourl': 'https://fastly.4sqi.net/img/general/original/7012699_DCcCtW8oRbhNv62E68gxtLnWn7IgRhapBr8vdnIQjYk.jpg',\n      'lang': 'en',\n      'likes': {'count': 2,\n       'groups': [{'type': 'others',\n         'count': 2,\n         'items': [{'id': '7012699',\n           'firstName': 'Hani',\n           'lastName': 'A',\n           'photo': {'prefix': 'https://fastly.4sqi.net/img/user/',\n            'suffix': '/7012699_vCXraeWA_FdHlUETPVuDaElNtnp76a2i4JWAyD1JVMMiqitsCujXhqKtV2MQYPdfAVMBI7BRi.jpg'}},\n          {'id': '61939758',\n           'firstName': 'Leena',\n           'lastName': 'R',\n           'photo': {'prefix': 'https://fastly.4sqi.net/img/user/',\n            'suffix': '/61939758_KOpR9NFm_rNQPhjDng4f_qr3PU69nNGFgLnjwS-dM97MnkvrD7h1U2tOojRCPpFLq_B9KVfbh.jpg'}}]}],\n       'summary': '2 likes'},\n      'logView': True,\n      'agreeCount': 2,\n      'disagreeCount': 0,\n      'todo': {'count': 0},\n      'user': {'id': '7012699',\n       'firstName': 'Hani',\n       'lastName': 'A',\n       'photo': {'prefix': 'https://fastly.4sqi.net/img/user/',\n        'suffix': '/7012699_vCXraeWA_FdHlUETPVuDaElNtnp76a2i4JWAyD1JVMMiqitsCujXhqKtV2MQYPdfAVMBI7BRi.jpg'}},\n      'authorInteractionType': 'liked'}]}]},\n 'shortUrl': 'http://4sq.com/JNblHV',\n 'timeZone': 'America/New_York',\n 'listed': {'count': 54,\n  'groups': [{'type': 'others',\n    'name': 'Lists from other people',\n    'count': 54,\n    'items': [{'id': '4fa32fd0e4b04193744746b1',\n      'name': 'Manhattan Haunts',\n      'description': '',\n      'type': 'others',\n      'user': {'id': '24592223',\n       'firstName': 'Becca',\n       'lastName': 'M',\n       'photo': {'prefix': 'https://fastly.4sqi.net/img/user/',\n        'suffix': '/24592223-RAW2UYM0GIB1U40K.jpg'}},\n      'editable': False,\n      'public': True,\n      'collaborative': False,\n      'url': '/becca_mcarthur/list/manhattan-haunts',\n      'canonicalUrl': 'https://foursquare.com/becca_mcarthur/list/manhattan-haunts',\n      'createdAt': 1336094672,\n      'updatedAt': 1380845377,\n      'photo': {'id': '4e8cc9461081e3b3544e12e5',\n       'createdAt': 1317849414,\n       'prefix': 'https://fastly.4sqi.net/img/general/',\n       'suffix': '/0NLVU2HC1JF4DXIMKWUFW3QBUT31DC11EFNYYHMJG3NDWAPS.jpg',\n       'width': 492,\n       'height': 330,\n       'user': {'id': '742542',\n        'firstName': 'Time Out New York',\n        'photo': {'prefix': 'https://fastly.4sqi.net/img/user/',\n         'suffix': '/XXHKCBSQHBORZNSR.jpg'},\n        'type': 'page'},\n       'visibility': 'public'},\n      'followers': {'count': 22},\n      'listItems': {'count': 187,\n       'items': [{'id': 'v4fa862b3e4b0ebff2f749f06',\n         'createdAt': 1342934485}]}},\n     {'id': '4fae817be4b085f6b2a74d19',\n      'name': 'USA NYC MAN FiDi',\n      'description': 'Where to go for decent eats in the restaurant wasteland of Downtown NYC aka FiDi, along with Tribeca & Battery Park City.',\n      'type': 'others',\n      'user': {'id': '12113441',\n       'firstName': 'Kino',\n       'photo': {'prefix': 'https://fastly.4sqi.net/img/user/',\n        'suffix': '/12113441-K5HTHFLU2MUCM0CM.jpg'}},\n      'editable': False,\n      'public': True,\n      'collaborative': False,\n      'url': '/kinosfault/list/usa-nyc-man-fidi',\n      'canonicalUrl': 'https://foursquare.com/kinosfault/list/usa-nyc-man-fidi',\n      'createdAt': 1336836475,\n      'updatedAt': 1556754919,\n      'photo': {'id': '55984992498e13ba75e353bb',\n       'createdAt': 1436043666,\n       'prefix': 'https://fastly.4sqi.net/img/general/',\n       'suffix': '/12113441_iOa6Uh-Xi8bhj2-gpzkkw8MKiAIs7RmOcz_RM7m8ink.jpg',\n       'width': 540,\n       'height': 960,\n       'user': {'id': '12113441',\n        'firstName': 'Kino',\n        'photo': {'prefix': 'https://fastly.4sqi.net/img/user/',\n         'suffix': '/12113441-K5HTHFLU2MUCM0CM.jpg'}},\n       'visibility': 'public'},\n      'followers': {'count': 20},\n      'listItems': {'count': 273,\n       'items': [{'id': 'v4fa862b3e4b0ebff2f749f06',\n         'createdAt': 1373909433}]}},\n     {'id': '4fddeff0e4b0e078037ac0d3',\n      'name': 'NYC Resturants',\n      'description': '',\n      'type': 'others',\n      'user': {'id': '21563126',\n       'firstName': 'Richard',\n       'lastName': 'R',\n       'photo': {'prefix': 'https://fastly.4sqi.net/img/user/',\n        'suffix': '/21563126_v05J1KPw_SVj6Ehq9g8B9jeAGjFUMsU5QGl-NZ8inUQ7pKQm5bKplW37EmR7jS2A7GYPBBAtl.jpg'}},\n      'editable': False,\n      'public': True,\n      'collaborative': True,\n      'url': '/rickr7/list/nyc-resturants',\n      'canonicalUrl': 'https://foursquare.com/rickr7/list/nyc-resturants',\n      'createdAt': 1339944944,\n      'updatedAt': 1591664261,\n      'photo': {'id': '5072dd13e4b09145cdf782d1',\n       'createdAt': 1349704979,\n       'prefix': 'https://fastly.4sqi.net/img/general/',\n       'suffix': '/208205_fGh2OuAZ9qJ4agbAA5wMVNOSIm9kNUlRtNwj1N-adqg.jpg',\n       'width': 800,\n       'height': 800,\n       'user': {'id': '208205',\n        'firstName': 'Thalia',\n        'lastName': 'K',\n        'photo': {'prefix': 'https://fastly.4sqi.net/img/user/',\n         'suffix': '/SNOOLCAW2AG04ZKD.jpg'}},\n       'visibility': 'public'},\n      'followers': {'count': 12},\n      'listItems': {'count': 193,\n       'items': [{'id': 'v4fa862b3e4b0ebff2f749f06',\n         'createdAt': 1581655865}]}},\n     {'id': '5266c68a498e7c667807fe09',\n      'name': 'Foodie Love in NY - 02',\n      'description': '',\n      'type': 'others',\n      'user': {'id': '547977',\n       'firstName': 'WiLL',\n       'photo': {'prefix': 'https://fastly.4sqi.net/img/user/',\n        'suffix': '/-Q5NYGDMFDMOITQRR.jpg'}},\n      'editable': False,\n      'public': True,\n      'collaborative': False,\n      'url': '/sweetiewill/list/foodie-love-in-ny--02',\n      'canonicalUrl': 'https://foursquare.com/sweetiewill/list/foodie-love-in-ny--02',\n      'createdAt': 1382467210,\n      'updatedAt': 1391995585,\n      'followers': {'count': 7},\n      'listItems': {'count': 200,\n       'items': [{'id': 'v4fa862b3e4b0ebff2f749f06',\n         'createdAt': 1386809936}]}}]}]},\n 'hours': {'status': 'Open until Midnight',\n  'richStatus': {'entities': [], 'text': 'Open until Midnight'},\n  'isOpen': True,\n  'isLocalHoliday': False,\n  'dayData': [],\n  'timeframes': [{'days': 'Mon\u2013Wed, Sun',\n    'open': [{'renderedTime': '11:30 AM\u201311:00 PM'}],\n    'segments': []},\n   {'days': 'Thu\u2013Sat',\n    'includesToday': True,\n    'open': [{'renderedTime': '11:30 AM\u2013Midnight'}],\n    'segments': []}]},\n 'popular': {'status': 'Likely open',\n  'richStatus': {'entities': [], 'text': 'Likely open'},\n  'isOpen': True,\n  'isLocalHoliday': False,\n  'timeframes': [{'days': 'Today',\n    'includesToday': True,\n    'open': [{'renderedTime': 'Noon\u20133:00 PM'},\n     {'renderedTime': '5:00 PM\u201311:00 PM'}],\n    'segments': []},\n   {'days': 'Sat',\n    'open': [{'renderedTime': 'Noon\u201311:00 PM'}],\n    'segments': []},\n   {'days': 'Sun',\n    'open': [{'renderedTime': 'Noon\u20133:00 PM'},\n     {'renderedTime': '5:00 PM\u20138:00 PM'}],\n    'segments': []},\n   {'days': 'Mon',\n    'open': [{'renderedTime': 'Noon\u20132:00 PM'},\n     {'renderedTime': '6:00 PM\u20138:00 PM'}],\n    'segments': []},\n   {'days': 'Tue\u2013Thu',\n    'open': [{'renderedTime': 'Noon\u20132:00 PM'},\n     {'renderedTime': '5:00 PM\u201310:00 PM'}],\n    'segments': []}]},\n 'seasonalHours': [],\n 'defaultHours': {'status': 'Open until Midnight',\n  'richStatus': {'entities': [], 'text': 'Open until Midnight'},\n  'isOpen': True,\n  'isLocalHoliday': False,\n  'dayData': [],\n  'timeframes': [{'days': 'Mon\u2013Wed, Sun',\n    'open': [{'renderedTime': '11:30 AM\u201311:00 PM'}],\n    'segments': []},\n   {'days': 'Thu\u2013Sat',\n    'includesToday': True,\n    'open': [{'renderedTime': '11:30 AM\u2013Midnight'}],\n    'segments': []}]},\n 'pageUpdates': {'count': 0, 'items': []},\n 'inbox': {'count': 0, 'items': []},\n 'attributes': {'groups': [{'type': 'price',\n    'name': 'Price',\n    'summary': '$$',\n    'count': 1,\n    'items': [{'displayName': 'Price', 'displayValue': '$$', 'priceTier': 2}]},\n   {'type': 'payments',\n    'name': 'Credit Cards',\n    'summary': 'Credit Cards',\n    'count': 7,\n    'items': [{'displayName': 'Credit Cards',\n      'displayValue': 'Yes (incl. American Express)'}]},\n   {'type': 'outdoorSeating',\n    'name': 'Outdoor Seating',\n    'summary': 'Outdoor Seating',\n    'count': 1,\n    'items': [{'displayName': 'Outdoor Seating', 'displayValue': 'Yes'}]},\n   {'type': 'serves',\n    'name': 'Menus',\n    'summary': 'Happy Hour, Brunch & more',\n    'count': 8,\n    'items': [{'displayName': 'Brunch', 'displayValue': 'Brunch'},\n     {'displayName': 'Lunch', 'displayValue': 'Lunch'},\n     {'displayName': 'Dinner', 'displayValue': 'Dinner'},\n     {'displayName': 'Happy Hour', 'displayValue': 'Happy Hour'}]},\n   {'type': 'drinks',\n    'name': 'Drinks',\n    'summary': 'Beer, Wine & Cocktails',\n    'count': 5,\n    'items': [{'displayName': 'Beer', 'displayValue': 'Beer'},\n     {'displayName': 'Wine', 'displayValue': 'Wine'},\n     {'displayName': 'Cocktails', 'displayValue': 'Cocktails'}]},\n   {'type': 'diningOptions',\n    'name': 'Dining Options',\n    'summary': 'Delivery',\n    'count': 5,\n    'items': [{'displayName': 'Delivery', 'displayValue': 'Delivery'}]}]},\n 'bestPhoto': {'id': '4fad980de4b091b4626c3633',\n  'createdAt': 1336776717,\n  'source': {'name': 'Foursquare for Android',\n   'url': 'https://foursquare.com/download/#/android'},\n  'prefix': 'https://fastly.4sqi.net/img/general/',\n  'suffix': '/ya1iQFI7pLjuIJp1PGDKlrZS3OJdHCF7tpILMmjv_2w.jpg',\n  'width': 480,\n  'height': 640,\n  'visibility': 'public'},\n 'colors': {'highlightColor': {'photoId': '4fad980de4b091b4626c3633',\n   'value': -13619152},\n  'highlightTextColor': {'photoId': '4fad980de4b091b4626c3633', 'value': -1},\n  'algoVersion': 3}}"
                    },
                    "execution_count": 12,
                    "metadata": {},
                    "output_type": "execute_result"
                }
            ],
            "source": "result = requests.get(url).json()\nprint(result['response']['venue'].keys())\nresult['response']['venue']"
        },
        {
            "cell_type": "markdown",
            "metadata": {
                "button": false,
                "new_sheet": false,
                "run_control": {
                    "read_only": false
                }
            },
            "source": "### B. Get the venue's overall rating"
        },
        {
            "cell_type": "code",
            "execution_count": 13,
            "metadata": {
                "button": false,
                "jupyter": {
                    "outputs_hidden": false
                },
                "new_sheet": false,
                "run_control": {
                    "read_only": false
                }
            },
            "outputs": [
                {
                    "name": "stdout",
                    "output_type": "stream",
                    "text": "6.9\n"
                }
            ],
            "source": "try:\n    print(result['response']['venue']['rating'])\nexcept:\n    print('This venue has not been rated yet.')"
        },
        {
            "cell_type": "markdown",
            "metadata": {
                "button": false,
                "new_sheet": false,
                "run_control": {
                    "read_only": false
                }
            },
            "source": "That is not a very good rating. Let's check the rating of the second closest Italian restaurant."
        },
        {
            "cell_type": "code",
            "execution_count": 14,
            "metadata": {
                "button": false,
                "jupyter": {
                    "outputs_hidden": false
                },
                "new_sheet": false,
                "run_control": {
                    "read_only": false
                }
            },
            "outputs": [
                {
                    "name": "stdout",
                    "output_type": "stream",
                    "text": "This venue has not been rated yet.\n"
                }
            ],
            "source": "venue_id = '4f3232e219836c91c7bfde94' # ID of Conca Cucina Italian Restaurant\nurl = 'https://api.foursquare.com/v2/venues/{}?client_id={}&client_secret={}&v={}'.format(venue_id, CLIENT_ID, CLIENT_SECRET, VERSION)\n\nresult = requests.get(url).json()\ntry:\n    print(result['response']['venue']['rating'])\nexcept:\n    print('This venue has not been rated yet.')"
        },
        {
            "cell_type": "markdown",
            "metadata": {
                "button": false,
                "new_sheet": false,
                "run_control": {
                    "read_only": false
                }
            },
            "source": "Since this restaurant has no ratings, let's check the third restaurant."
        },
        {
            "cell_type": "code",
            "execution_count": 15,
            "metadata": {
                "button": false,
                "jupyter": {
                    "outputs_hidden": false
                },
                "new_sheet": false,
                "run_control": {
                    "read_only": false
                }
            },
            "outputs": [
                {
                    "name": "stdout",
                    "output_type": "stream",
                    "text": "7.3\n"
                }
            ],
            "source": "venue_id = '3fd66200f964a520f4e41ee3' # ID of Ecco\nurl = 'https://api.foursquare.com/v2/venues/{}?client_id={}&client_secret={}&v={}'.format(venue_id, CLIENT_ID, CLIENT_SECRET, VERSION)\n\nresult = requests.get(url).json()\ntry:\n    print(result['response']['venue']['rating'])\nexcept:\n    print('This venue has not been rated yet.')"
        },
        {
            "cell_type": "markdown",
            "metadata": {
                "button": false,
                "new_sheet": false,
                "run_control": {
                    "read_only": false
                }
            },
            "source": "Since this restaurant has a slightly better rating, let's explore it further."
        },
        {
            "cell_type": "markdown",
            "metadata": {
                "button": false,
                "new_sheet": false,
                "run_control": {
                    "read_only": false
                }
            },
            "source": "### C. Get the number of tips"
        },
        {
            "cell_type": "code",
            "execution_count": 16,
            "metadata": {
                "button": false,
                "jupyter": {
                    "outputs_hidden": false
                },
                "new_sheet": false,
                "run_control": {
                    "read_only": false
                }
            },
            "outputs": [
                {
                    "data": {
                        "text/plain": "19"
                    },
                    "execution_count": 16,
                    "metadata": {},
                    "output_type": "execute_result"
                }
            ],
            "source": "result['response']['venue']['tips']['count']"
        },
        {
            "cell_type": "markdown",
            "metadata": {
                "button": false,
                "new_sheet": false,
                "run_control": {
                    "read_only": false
                }
            },
            "source": "### D. Get the venue's tips\n> `https://api.foursquare.com/v2/venues/`**VENUE_ID**`/tips?client_id=`**CLIENT_ID**`&client_secret=`**CLIENT_SECRET**`&v=`**VERSION**`&limit=`**LIMIT**"
        },
        {
            "cell_type": "markdown",
            "metadata": {
                "button": false,
                "new_sheet": false,
                "run_control": {
                    "read_only": false
                }
            },
            "source": "#### Create URL and send GET request. Make sure to set limit to get all tips"
        },
        {
            "cell_type": "code",
            "execution_count": 17,
            "metadata": {
                "button": false,
                "jupyter": {
                    "outputs_hidden": false
                },
                "new_sheet": false,
                "run_control": {
                    "read_only": false
                }
            },
            "outputs": [
                {
                    "data": {
                        "text/plain": "{'meta': {'code': 200, 'requestId': '5eff5f431582505d8fddb86e'},\n 'response': {'tips': {'count': 19,\n   'items': [{'id': '5ab1cb46c9a517174651d3fe',\n     'createdAt': 1521601350,\n     'text': 'A+ Italian food! Trust me on this: my mom\u2019s side of the family is 100% Italian. I was born and bred to know good pasta when I see it, and Ecco is one of my all-time NYC favorites',\n     'type': 'user',\n     'canonicalUrl': 'https://foursquare.com/item/5ab1cb46c9a517174651d3fe',\n     'lang': 'en',\n     'likes': {'count': 0, 'groups': []},\n     'logView': True,\n     'agreeCount': 4,\n     'disagreeCount': 0,\n     'todo': {'count': 0},\n     'user': {'id': '484542633',\n      'firstName': 'Nick',\n      'lastName': 'E',\n      'photo': {'prefix': 'https://fastly.4sqi.net/img/user/',\n       'suffix': '/484542633_unymNUmw_FdPs3GjXHujmHcYnN4hf8kEPADlOZuIrdcdm97VX3tFqL7fFNMNA_8Gl9NlU1GYg.jpg'}},\n     'authorInteractionType': 'liked'},\n    {'id': '5cb7051b180b910039f90625',\n     'createdAt': 1555498267,\n     'text': 'Excellent food!! Osso bucco special one of the best I ever had! Lobster ravioli with porcini mushroomhomemade Italian cheesecake, tiramisu and napoleons...calamari fra diavolo was saut\u00e9ed not fried',\n     'type': 'user',\n     'canonicalUrl': 'https://foursquare.com/item/5cb7051b180b910039f90625',\n     'lang': 'en',\n     'likes': {'count': 0, 'groups': []},\n     'logView': True,\n     'agreeCount': 1,\n     'disagreeCount': 0,\n     'todo': {'count': 0},\n     'user': {'id': '446298346',\n      'firstName': 'Lynn',\n      'lastName': 'B',\n      'photo': {'prefix': 'https://fastly.4sqi.net/img/user/',\n       'suffix': '/446298346_fdtqugvP_1WztOWXXDQX92HwIrjzLb6nMQsYiCVlkiTp58UGSFVBwQ0-5G5AdqxlEWphYWTnK.jpg'}},\n     'authorInteractionType': 'liked'}]}}}"
                    },
                    "execution_count": 17,
                    "metadata": {},
                    "output_type": "execute_result"
                }
            ],
            "source": "## Ecco Tips\nlimit = 20 # set limit to be greater than or equal to the total number of tips\nurl = 'https://api.foursquare.com/v2/venues/{}/tips?client_id={}&client_secret={}&v={}&limit={}'.format(venue_id, CLIENT_ID, CLIENT_SECRET, VERSION, limit)\n\nresults = requests.get(url).json()\nresults"
        },
        {
            "cell_type": "markdown",
            "metadata": {
                "button": false,
                "new_sheet": false,
                "run_control": {
                    "read_only": false
                }
            },
            "source": "#### Get tips and list of associated features"
        },
        {
            "cell_type": "code",
            "execution_count": 18,
            "metadata": {
                "button": false,
                "jupyter": {
                    "outputs_hidden": false
                },
                "new_sheet": false,
                "run_control": {
                    "read_only": false
                }
            },
            "outputs": [
                {
                    "data": {
                        "text/plain": "dict_keys(['id', 'createdAt', 'text', 'type', 'canonicalUrl', 'lang', 'likes', 'logView', 'agreeCount', 'disagreeCount', 'todo', 'user', 'authorInteractionType'])"
                    },
                    "execution_count": 18,
                    "metadata": {},
                    "output_type": "execute_result"
                }
            ],
            "source": "tips = results['response']['tips']['items']\n\ntip = results['response']['tips']['items'][0]\ntip.keys()"
        },
        {
            "cell_type": "markdown",
            "metadata": {
                "button": false,
                "new_sheet": false,
                "run_control": {
                    "read_only": false
                }
            },
            "source": "#### Format column width and display all tips"
        },
        {
            "cell_type": "code",
            "execution_count": 19,
            "metadata": {
                "button": false,
                "jupyter": {
                    "outputs_hidden": false
                },
                "new_sheet": false,
                "run_control": {
                    "read_only": false
                }
            },
            "outputs": [
                {
                    "name": "stderr",
                    "output_type": "stream",
                    "text": "/home/jupyterlab/conda/envs/python/lib/python3.6/site-packages/ipykernel_launcher.py:1: FutureWarning: Passing a negative integer is deprecated in version 1.0 and will not be supported in future version. Instead, use None to not limit the column width.\n  \"\"\"Entry point for launching an IPython kernel.\n/home/jupyterlab/conda/envs/python/lib/python3.6/site-packages/ipykernel_launcher.py:3: FutureWarning: pandas.io.json.json_normalize is deprecated, use pandas.json_normalize instead\n  This is separate from the ipykernel package so we can avoid doing imports until\n"
                },
                {
                    "data": {
                        "text/html": "<div>\n<style scoped>\n    .dataframe tbody tr th:only-of-type {\n        vertical-align: middle;\n    }\n\n    .dataframe tbody tr th {\n        vertical-align: top;\n    }\n\n    .dataframe thead th {\n        text-align: right;\n    }\n</style>\n<table border=\"1\" class=\"dataframe\">\n  <thead>\n    <tr style=\"text-align: right;\">\n      <th></th>\n      <th>text</th>\n      <th>agreeCount</th>\n      <th>disagreeCount</th>\n      <th>id</th>\n      <th>user.firstName</th>\n      <th>user.lastName</th>\n      <th>user.id</th>\n    </tr>\n  </thead>\n  <tbody>\n    <tr>\n      <th>0</th>\n      <td>A+ Italian food! Trust me on this: my mom\u2019s side of the family is 100% Italian. I was born and bred to know good pasta when I see it, and Ecco is one of my all-time NYC favorites</td>\n      <td>4</td>\n      <td>0</td>\n      <td>5ab1cb46c9a517174651d3fe</td>\n      <td>Nick</td>\n      <td>E</td>\n      <td>484542633</td>\n    </tr>\n    <tr>\n      <th>1</th>\n      <td>Excellent food!! Osso bucco special one of the best I ever had! Lobster ravioli with porcini mushroomhomemade Italian cheesecake, tiramisu and napoleons...calamari fra diavolo was saut\u00e9ed not fried</td>\n      <td>1</td>\n      <td>0</td>\n      <td>5cb7051b180b910039f90625</td>\n      <td>Lynn</td>\n      <td>B</td>\n      <td>446298346</td>\n    </tr>\n  </tbody>\n</table>\n</div>",
                        "text/plain": "                                                                                                                                                                                                    text  \\\n0  A+ Italian food! Trust me on this: my mom\u2019s side of the family is 100% Italian. I was born and bred to know good pasta when I see it, and Ecco is one of my all-time NYC favorites                      \n1  Excellent food!! Osso bucco special one of the best I ever had! Lobster ravioli with porcini mushroomhomemade Italian cheesecake, tiramisu and napoleons...calamari fra diavolo was saut\u00e9ed not fried   \n\n   agreeCount  disagreeCount                        id user.firstName  \\\n0  4           0              5ab1cb46c9a517174651d3fe  Nick            \n1  1           0              5cb7051b180b910039f90625  Lynn            \n\n  user.lastName    user.id  \n0  E             484542633  \n1  B             446298346  "
                    },
                    "execution_count": 19,
                    "metadata": {},
                    "output_type": "execute_result"
                }
            ],
            "source": "pd.set_option('display.max_colwidth', -1)\n\ntips_df = json_normalize(tips) # json normalize tips\n\n# columns to keep\nfiltered_columns = ['text', 'agreeCount', 'disagreeCount', 'id', 'user.firstName', 'user.lastName', 'user.id']\ntips_filtered = tips_df.loc[:, filtered_columns]\n\n# display tips\ntips_filtered"
        },
        {
            "cell_type": "markdown",
            "metadata": {
                "button": false,
                "new_sheet": false,
                "run_control": {
                    "read_only": false
                }
            },
            "source": "Now remember that because we are using a personal developer account, then we can access only 2 of the restaurant's tips, instead of all 15 tips."
        },
        {
            "cell_type": "markdown",
            "metadata": {
                "button": false,
                "new_sheet": false,
                "run_control": {
                    "read_only": false
                }
            },
            "source": "   "
        },
        {
            "cell_type": "markdown",
            "metadata": {
                "button": false,
                "new_sheet": false,
                "run_control": {
                    "read_only": false
                }
            },
            "source": "<a id=\"item3\"></a>"
        },
        {
            "cell_type": "markdown",
            "metadata": {
                "button": false,
                "new_sheet": false,
                "run_control": {
                    "read_only": false
                }
            },
            "source": "## 3. Search a Foursquare User\n> `https://api.foursquare.com/v2/users/`**USER_ID**`?client_id=`**CLIENT_ID**`&client_secret=`**CLIENT_SECRET**`&v=`**VERSION**"
        },
        {
            "cell_type": "markdown",
            "metadata": {
                "button": false,
                "new_sheet": false,
                "run_control": {
                    "read_only": false
                }
            },
            "source": "### Define URL, send GET request and display features associated with user"
        },
        {
            "cell_type": "code",
            "execution_count": 20,
            "metadata": {
                "button": false,
                "jupyter": {
                    "outputs_hidden": false
                },
                "new_sheet": false,
                "run_control": {
                    "read_only": false
                }
            },
            "outputs": [],
            "source": "# The code was removed by Watson Studio for sharing."
        },
        {
            "cell_type": "code",
            "execution_count": 21,
            "metadata": {},
            "outputs": [
                {
                    "data": {
                        "text/plain": "dict_keys(['id', 'firstName', 'lastName', 'gender', 'canonicalUrl', 'photo', 'friends', 'tips', 'homeCity', 'bio', 'contact', 'photos', 'checkinPings', 'pings', 'type', 'mayorships', 'checkins', 'lists', 'blockedStatus', 'lenses'])"
                    },
                    "execution_count": 21,
                    "metadata": {},
                    "output_type": "execute_result"
                }
            ],
            "source": "user_id = '484542633' # user ID with most agree counts and complete profile\n\nurl = 'https://api.foursquare.com/v2/users/{}?client_id={}&client_secret={}&oauth_token={}&v={}'.format(user_id, CLIENT_ID, CLIENT_SECRET, ACCESS_TOKEN, VERSION) # define URL\n\n# send GET request\nresults = requests.get(url).json()\nuser_data = results['response']['user']\n\n# display features associated with user\nuser_data.keys()"
        },
        {
            "cell_type": "code",
            "execution_count": 22,
            "metadata": {
                "button": false,
                "jupyter": {
                    "outputs_hidden": false
                },
                "new_sheet": false,
                "run_control": {
                    "read_only": false
                }
            },
            "outputs": [
                {
                    "name": "stdout",
                    "output_type": "stream",
                    "text": "First Name: Nick\nLast Name: El-Tawil\nHome City: New York, NY\n"
                }
            ],
            "source": "print('First Name: ' + user_data['firstName'])\nprint('Last Name: ' + user_data['lastName'])\nprint('Home City: ' + user_data['homeCity'])"
        },
        {
            "cell_type": "markdown",
            "metadata": {
                "button": false,
                "new_sheet": false,
                "run_control": {
                    "read_only": false
                }
            },
            "source": "#### How many tips has this user submitted?"
        },
        {
            "cell_type": "code",
            "execution_count": 23,
            "metadata": {
                "button": false,
                "jupyter": {
                    "outputs_hidden": false
                },
                "new_sheet": false,
                "run_control": {
                    "read_only": false
                }
            },
            "outputs": [
                {
                    "data": {
                        "text/plain": "{'count': 98}"
                    },
                    "execution_count": 23,
                    "metadata": {},
                    "output_type": "execute_result"
                }
            ],
            "source": "user_data['tips']"
        },
        {
            "cell_type": "markdown",
            "metadata": {
                "button": false,
                "new_sheet": false,
                "run_control": {
                    "read_only": false
                }
            },
            "source": "Wow! So it turns out that Nick is a very active Foursquare user, with more than 250 tips."
        },
        {
            "cell_type": "markdown",
            "metadata": {
                "button": false,
                "new_sheet": false,
                "run_control": {
                    "read_only": false
                }
            },
            "source": "### Get User's tips"
        },
        {
            "cell_type": "code",
            "execution_count": 24,
            "metadata": {
                "button": false,
                "jupyter": {
                    "outputs_hidden": false
                },
                "new_sheet": false,
                "run_control": {
                    "read_only": false
                }
            },
            "outputs": [
                {
                    "name": "stderr",
                    "output_type": "stream",
                    "text": "/home/jupyterlab/conda/envs/python/lib/python3.6/site-packages/ipykernel_launcher.py:9: FutureWarning: Passing a negative integer is deprecated in version 1.0 and will not be supported in future version. Instead, use None to not limit the column width.\n  if __name__ == '__main__':\n/home/jupyterlab/conda/envs/python/lib/python3.6/site-packages/ipykernel_launcher.py:11: FutureWarning: pandas.io.json.json_normalize is deprecated, use pandas.json_normalize instead\n  # This is added back by InteractiveShellApp.init_path()\n"
                },
                {
                    "data": {
                        "text/html": "<div>\n<style scoped>\n    .dataframe tbody tr th:only-of-type {\n        vertical-align: middle;\n    }\n\n    .dataframe tbody tr th {\n        vertical-align: top;\n    }\n\n    .dataframe thead th {\n        text-align: right;\n    }\n</style>\n<table border=\"1\" class=\"dataframe\">\n  <thead>\n    <tr style=\"text-align: right;\">\n      <th></th>\n      <th>text</th>\n      <th>agreeCount</th>\n      <th>disagreeCount</th>\n      <th>id</th>\n    </tr>\n  </thead>\n  <tbody>\n    <tr>\n      <th>0</th>\n      <td>They serve coffee!!!!!!</td>\n      <td>1</td>\n      <td>0</td>\n      <td>5accc98c0313204c9d7ec157</td>\n    </tr>\n    <tr>\n      <th>1</th>\n      <td>Quick, cheap lunch that tastes good! Way shorter line than Chipotle, too.</td>\n      <td>2</td>\n      <td>0</td>\n      <td>5acbec70a0215b732e264fe8</td>\n    </tr>\n    <tr>\n      <th>2</th>\n      <td>You\u2019re not a real New Yorker until you\u2019ve shame-ordered Insomnia Cookies for delivery at 3am</td>\n      <td>1</td>\n      <td>0</td>\n      <td>5acbbd4eb1538e45373b07f5</td>\n    </tr>\n    <tr>\n      <th>3</th>\n      <td>Good for you yet still tasty! Clean green protein is my go-to after I hit the gym \ud83d\udcaa</td>\n      <td>2</td>\n      <td>0</td>\n      <td>5acbbcda01235808d5d6dc75</td>\n    </tr>\n    <tr>\n      <th>4</th>\n      <td>Burger game strong \ud83d\udcaa</td>\n      <td>1</td>\n      <td>0</td>\n      <td>5ab575fb6bdee65f759da8c1</td>\n    </tr>\n    <tr>\n      <th>5</th>\n      <td>Great burgers &amp; fries! Also, this place is exactly what it\u2019s like when you go to a bar in the Southwest. Source: I\u2019m from Arizona.</td>\n      <td>2</td>\n      <td>0</td>\n      <td>5ab5575d73fe2516ad8f363b</td>\n    </tr>\n    <tr>\n      <th>6</th>\n      <td>A\u00e7a\u00ed bowl + peanut butter + whey protein = \ud83d\udcaa\ud83d\udcaa\ud83d\udcaa</td>\n      <td>1</td>\n      <td>0</td>\n      <td>5ab42db53c858d64af2688a4</td>\n    </tr>\n    <tr>\n      <th>7</th>\n      <td>Highly underrated and way less crowded than Central Park!</td>\n      <td>3</td>\n      <td>0</td>\n      <td>5ab42c396f706a29f53ad1a8</td>\n    </tr>\n    <tr>\n      <th>8</th>\n      <td>Way easier to navigate than the Met proper, plus the Met Breuer focuses on modern art. If I only have a limited amount of time to spend in a museum, I would rather go here than anywhere else!</td>\n      <td>6</td>\n      <td>0</td>\n      <td>5ab42b987dc9e17930e5ff5b</td>\n    </tr>\n    <tr>\n      <th>9</th>\n      <td>Get the a\u00e7a\u00ed bowl with peanut butter after your work out and thank me later \ud83d\udc4c</td>\n      <td>1</td>\n      <td>0</td>\n      <td>5ab42aca2a7ab6333652b266</td>\n    </tr>\n    <tr>\n      <th>10</th>\n      <td>When you want a burger, this should be the first thing that comes to mind. A+!</td>\n      <td>1</td>\n      <td>0</td>\n      <td>5ab42a28da5e5617d18e3a6a</td>\n    </tr>\n    <tr>\n      <th>11</th>\n      <td>Way less crowded than Central Park! People who live in the neighborhood rave about Carl Schurz Park.</td>\n      <td>3</td>\n      <td>0</td>\n      <td>5ab429db1ffe971b060083f5</td>\n    </tr>\n    <tr>\n      <th>12</th>\n      <td>The best Mexican food in the Murray Hill / Kips Bay area!</td>\n      <td>1</td>\n      <td>0</td>\n      <td>5ab3f53f8496ca57542d5549</td>\n    </tr>\n    <tr>\n      <th>13</th>\n      <td>Best coffee shop in the neighborhood!</td>\n      <td>1</td>\n      <td>0</td>\n      <td>5ab3f428da5e5617d17d1475</td>\n    </tr>\n    <tr>\n      <th>14</th>\n      <td>When there\u2019s nice weather, the rooftop at Tonic East is the best place to watch the game. Perfect for March Madness &amp; NBA finals!</td>\n      <td>2</td>\n      <td>0</td>\n      <td>5ab3f3fedd70c572de886c9d</td>\n    </tr>\n    <tr>\n      <th>15</th>\n      <td>Rib game level \ud83d\udcaf</td>\n      <td>1</td>\n      <td>0</td>\n      <td>5ab3f372da2e00604ca53924</td>\n    </tr>\n    <tr>\n      <th>16</th>\n      <td>Solid option for good Mexican food, which is hard to find in Murray Hill.</td>\n      <td>4</td>\n      <td>0</td>\n      <td>5ab3f275dff815096a61884e</td>\n    </tr>\n    <tr>\n      <th>17</th>\n      <td>My parents love this place. They always go here when they visit NYC, even though I tell them there are 5,689,097,788 other pizza places. They don\u2019t dare. That has to count for something, right?</td>\n      <td>2</td>\n      <td>0</td>\n      <td>5ab3ef834c954c7a779e20ff</td>\n    </tr>\n    <tr>\n      <th>18</th>\n      <td>So good it makes me burp after every meal. I\u2019ve been told that\u2019s a compliment in France, so I\u2019m going to keep doing it \ud83c\uddeb\ud83c\uddf7</td>\n      <td>2</td>\n      <td>0</td>\n      <td>5ab3e8d6d0336060272dd4d9</td>\n    </tr>\n    <tr>\n      <th>19</th>\n      <td>The greatest meats of all time! I get the Italian sub to go and it\u2019s \ud83d\udd25\ud83d\udd25\ud83d\udd25</td>\n      <td>2</td>\n      <td>0</td>\n      <td>5ab3e646c666662673431054</td>\n    </tr>\n  </tbody>\n</table>\n</div>",
                        "text/plain": "                                                                                                                                                                                                 text  \\\n0   They serve coffee!!!!!!                                                                                                                                                                             \n1   Quick, cheap lunch that tastes good! Way shorter line than Chipotle, too.                                                                                                                           \n2   You\u2019re not a real New Yorker until you\u2019ve shame-ordered Insomnia Cookies for delivery at 3am                                                                                                        \n3   Good for you yet still tasty! Clean green protein is my go-to after I hit the gym \ud83d\udcaa                                                                                                                 \n4   Burger game strong \ud83d\udcaa                                                                                                                                                                                \n5   Great burgers & fries! Also, this place is exactly what it\u2019s like when you go to a bar in the Southwest. Source: I\u2019m from Arizona.                                                                  \n6   A\u00e7a\u00ed bowl + peanut butter + whey protein = \ud83d\udcaa\ud83d\udcaa\ud83d\udcaa                                                                                                                                                      \n7   Highly underrated and way less crowded than Central Park!                                                                                                                                           \n8   Way easier to navigate than the Met proper, plus the Met Breuer focuses on modern art. If I only have a limited amount of time to spend in a museum, I would rather go here than anywhere else!     \n9   Get the a\u00e7a\u00ed bowl with peanut butter after your work out and thank me later \ud83d\udc4c                                                                                                                       \n10  When you want a burger, this should be the first thing that comes to mind. A+!                                                                                                                      \n11  Way less crowded than Central Park! People who live in the neighborhood rave about Carl Schurz Park.                                                                                                \n12  The best Mexican food in the Murray Hill / Kips Bay area!                                                                                                                                           \n13  Best coffee shop in the neighborhood!                                                                                                                                                               \n14  When there\u2019s nice weather, the rooftop at Tonic East is the best place to watch the game. Perfect for March Madness & NBA finals!                                                                   \n15  Rib game level \ud83d\udcaf                                                                                                                                                                                    \n16  Solid option for good Mexican food, which is hard to find in Murray Hill.                                                                                                                           \n17  My parents love this place. They always go here when they visit NYC, even though I tell them there are 5,689,097,788 other pizza places. They don\u2019t dare. That has to count for something, right?   \n18  So good it makes me burp after every meal. I\u2019ve been told that\u2019s a compliment in France, so I\u2019m going to keep doing it \ud83c\uddeb\ud83c\uddf7                                                                           \n19  The greatest meats of all time! I get the Italian sub to go and it\u2019s \ud83d\udd25\ud83d\udd25\ud83d\udd25                                                                                                                            \n\n    agreeCount  disagreeCount                        id  \n0   1           0              5accc98c0313204c9d7ec157  \n1   2           0              5acbec70a0215b732e264fe8  \n2   1           0              5acbbd4eb1538e45373b07f5  \n3   2           0              5acbbcda01235808d5d6dc75  \n4   1           0              5ab575fb6bdee65f759da8c1  \n5   2           0              5ab5575d73fe2516ad8f363b  \n6   1           0              5ab42db53c858d64af2688a4  \n7   3           0              5ab42c396f706a29f53ad1a8  \n8   6           0              5ab42b987dc9e17930e5ff5b  \n9   1           0              5ab42aca2a7ab6333652b266  \n10  1           0              5ab42a28da5e5617d18e3a6a  \n11  3           0              5ab429db1ffe971b060083f5  \n12  1           0              5ab3f53f8496ca57542d5549  \n13  1           0              5ab3f428da5e5617d17d1475  \n14  2           0              5ab3f3fedd70c572de886c9d  \n15  1           0              5ab3f372da2e00604ca53924  \n16  4           0              5ab3f275dff815096a61884e  \n17  2           0              5ab3ef834c954c7a779e20ff  \n18  2           0              5ab3e8d6d0336060272dd4d9  \n19  2           0              5ab3e646c666662673431054  "
                    },
                    "execution_count": 24,
                    "metadata": {},
                    "output_type": "execute_result"
                }
            ],
            "source": "# define tips URL\nurl = 'https://api.foursquare.com/v2/users/{}/tips?client_id={}&client_secret={}&v={}&limit={}'.format(user_id, CLIENT_ID, CLIENT_SECRET, VERSION, limit)\n\n# send GET request and get user's tips\nresults = requests.get(url).json()\ntips = results['response']['tips']['items']\n\n# format column width\npd.set_option('display.max_colwidth', -1)\n\ntips_df = json_normalize(tips)\n\n# filter columns\nfiltered_columns = ['text', 'agreeCount', 'disagreeCount', 'id']\ntips_filtered = tips_df.loc[:, filtered_columns]\n\n# display user's tips\ntips_filtered"
        },
        {
            "cell_type": "markdown",
            "metadata": {
                "button": false,
                "new_sheet": false,
                "run_control": {
                    "read_only": false
                }
            },
            "source": "#### Let's get the venue for the tip with the greatest number of agree counts"
        },
        {
            "cell_type": "code",
            "execution_count": 25,
            "metadata": {
                "button": false,
                "jupyter": {
                    "outputs_hidden": false
                },
                "new_sheet": false,
                "run_control": {
                    "read_only": false
                }
            },
            "outputs": [
                {
                    "name": "stdout",
                    "output_type": "stream",
                    "text": "Cowgirl\n{'address': '519 Hudson St', 'crossStreet': 'at W 10th St', 'lat': 40.73373338282062, 'lng': -74.0062998849649, 'labeledLatLngs': [{'label': 'display', 'lat': 40.73373338282062, 'lng': -74.0062998849649}], 'postalCode': '10014', 'cc': 'US', 'city': 'New York', 'state': 'NY', 'country': 'United States', 'formattedAddress': ['519 Hudson St (at W 10th St)', 'New York, NY 10014', 'United States']}\n"
                }
            ],
            "source": "tip_id = '5ab5575d73fe2516ad8f363b' # tip id\n\n# define URL\nurl = 'http://api.foursquare.com/v2/tips/{}?client_id={}&client_secret={}&v={}'.format(tip_id, CLIENT_ID, CLIENT_SECRET, VERSION)\n\n# send GET Request and examine results\nresult = requests.get(url).json()\nprint(result['response']['tip']['venue']['name'])\nprint(result['response']['tip']['venue']['location'])"
        },
        {
            "cell_type": "markdown",
            "metadata": {
                "button": false,
                "new_sheet": false,
                "run_control": {
                    "read_only": false
                }
            },
            "source": "### Get User's friends"
        },
        {
            "cell_type": "code",
            "execution_count": 26,
            "metadata": {
                "button": false,
                "jupyter": {
                    "outputs_hidden": false
                },
                "new_sheet": false,
                "run_control": {
                    "read_only": false
                }
            },
            "outputs": [
                {
                    "name": "stderr",
                    "output_type": "stream",
                    "text": "/home/jupyterlab/conda/envs/python/lib/python3.6/site-packages/ipykernel_launcher.py:1: FutureWarning: pandas.io.json.json_normalize is deprecated, use pandas.json_normalize instead\n  \"\"\"Entry point for launching an IPython kernel.\n"
                },
                {
                    "data": {
                        "text/html": "<div>\n<style scoped>\n    .dataframe tbody tr th:only-of-type {\n        vertical-align: middle;\n    }\n\n    .dataframe tbody tr th {\n        vertical-align: top;\n    }\n\n    .dataframe thead th {\n        text-align: right;\n    }\n</style>\n<table border=\"1\" class=\"dataframe\">\n  <thead>\n    <tr style=\"text-align: right;\">\n      <th></th>\n    </tr>\n  </thead>\n  <tbody>\n  </tbody>\n</table>\n</div>",
                        "text/plain": "Empty DataFrame\nColumns: []\nIndex: []"
                    },
                    "execution_count": 26,
                    "metadata": {},
                    "output_type": "execute_result"
                }
            ],
            "source": "user_friends = json_normalize(user_data['friends']['groups'][0]['items'])\nuser_friends"
        },
        {
            "cell_type": "markdown",
            "metadata": {
                "button": false,
                "new_sheet": false,
                "run_control": {
                    "read_only": false
                }
            },
            "source": "Interesting. Despite being very active, it turns out that Nick does not have any friends on Foursquare. This might definitely change in the future."
        },
        {
            "cell_type": "markdown",
            "metadata": {
                "button": false,
                "new_sheet": false,
                "run_control": {
                    "read_only": false
                }
            },
            "source": "### Retrieve the User's Profile Image"
        },
        {
            "cell_type": "code",
            "execution_count": 27,
            "metadata": {
                "button": false,
                "jupyter": {
                    "outputs_hidden": false
                },
                "new_sheet": false,
                "run_control": {
                    "read_only": false
                },
                "scrolled": true
            },
            "outputs": [
                {
                    "data": {
                        "text/plain": "{'id': '484542633',\n 'firstName': 'Nick',\n 'lastName': 'El-Tawil',\n 'gender': 'male',\n 'canonicalUrl': 'https://foursquare.com/user/484542633',\n 'photo': {'prefix': 'https://fastly.4sqi.net/img/user/',\n  'suffix': '/484542633_unymNUmw_FdPs3GjXHujmHcYnN4hf8kEPADlOZuIrdcdm97VX3tFqL7fFNMNA_8Gl9NlU1GYg.jpg'},\n 'friends': {'count': 0,\n  'groups': [{'type': 'friends',\n    'name': 'Mutual friends',\n    'count': 0,\n    'items': []},\n   {'type': 'others', 'name': 'Other friends', 'count': 0, 'items': []}]},\n 'tips': {'count': 98},\n 'homeCity': 'New York, NY',\n 'bio': 'https://www.tawil.team/nick-el-tawil/',\n 'contact': {'twitter': 'nickeltawil'},\n 'photos': {'count': 2,\n  'items': [{'id': '5e41a7ce346b7c00085b0f70',\n    'createdAt': 1581361102,\n    'source': {'name': 'Foursquare for iOS',\n     'url': 'https://foursquare.com/download/#/iphone'},\n    'prefix': 'https://fastly.4sqi.net/img/general/',\n    'suffix': '/484542633_cF12vc8JQJTd-hyznst-CsHHTdSoi4XwCGKhTuQXNfo.jpg',\n    'width': 1440,\n    'height': 1440,\n    'visibility': 'public',\n    'venue': {'id': '5ab194451ffed736e329b365',\n     'name': 'Tawil & Team',\n     'location': {'address': '413 W 14th St # 200',\n      'crossStreet': '9th Avenue',\n      'lat': 40.74175262451172,\n      'lng': -74.006103515625,\n      'labeledLatLngs': [{'label': 'display',\n        'lat': 40.74175262451172,\n        'lng': -74.006103515625}],\n      'postalCode': '10014',\n      'cc': 'US',\n      'city': 'New York',\n      'state': 'NY',\n      'country': 'United States',\n      'formattedAddress': ['413 W 14th St # 200 (9th Avenue)',\n       'New York, NY 10014',\n       'United States']},\n     'categories': [{'id': '5032885091d4c4b30a586d66',\n       'name': 'Real Estate Office',\n       'pluralName': 'Real Estate Offices',\n       'shortName': 'Real Estate',\n       'icon': {'prefix': 'https://ss3.4sqi.net/img/categories_v2/shops/realestate_',\n        'suffix': '.png'},\n       'primary': True}],\n     'like': False}}]},\n 'checkinPings': 'off',\n 'pings': False,\n 'type': 'user',\n 'mayorships': {'count': 0, 'items': []},\n 'checkins': {'count': 1, 'items': []},\n 'lists': {'count': 2,\n  'groups': [{'type': 'created', 'count': 0, 'items': []},\n   {'type': 'followed', 'count': 0, 'items': []},\n   {'type': 'yours',\n    'count': 2,\n    'items': [{'id': '484542633/todos',\n      'name': \"Nick's Saved Places\",\n      'description': '',\n      'type': 'todos',\n      'editable': False,\n      'public': True,\n      'collaborative': False,\n      'url': '/nickeltawil/list/todos',\n      'canonicalUrl': 'https://foursquare.com/nickeltawil/list/todos',\n      'listItems': {'count': 1}},\n     {'id': '484542633/venuelikes',\n      'name': 'Nick\u2019s Liked Places',\n      'description': '',\n      'type': 'likes',\n      'editable': False,\n      'public': True,\n      'collaborative': False,\n      'url': '/nickeltawil/list/venuelikes',\n      'canonicalUrl': 'https://foursquare.com/nickeltawil/list/venuelikes',\n      'listItems': {'count': 0}}]}]},\n 'blockedStatus': 'none',\n 'lenses': []}"
                    },
                    "execution_count": 27,
                    "metadata": {},
                    "output_type": "execute_result"
                }
            ],
            "source": "user_data"
        },
        {
            "cell_type": "code",
            "execution_count": 28,
            "metadata": {
                "button": false,
                "jupyter": {
                    "outputs_hidden": false
                },
                "new_sheet": false,
                "run_control": {
                    "read_only": false
                }
            },
            "outputs": [
                {
                    "data": {
                        "text/html": "<img src=\"https://igx.4sqi.net/img/user/300x300/484542633_mK2Yum7T_7Tn9fWpndidJsmw2Hof_6T5vJBKCHPLMK5OL-U5ZiJGj51iwBstcpDLYa3Zvhvis.jpg\"/>",
                        "text/plain": "<IPython.core.display.Image object>"
                    },
                    "execution_count": 28,
                    "metadata": {},
                    "output_type": "execute_result"
                }
            ],
            "source": "# 1. grab prefix of photo\n# 2. grab suffix of photo\n# 3. concatenate them using the image size  \nImage(url='https://igx.4sqi.net/img/user/300x300/484542633_mK2Yum7T_7Tn9fWpndidJsmw2Hof_6T5vJBKCHPLMK5OL-U5ZiJGj51iwBstcpDLYa3Zvhvis.jpg')"
        },
        {
            "cell_type": "markdown",
            "metadata": {
                "button": false,
                "new_sheet": false,
                "run_control": {
                    "read_only": false
                }
            },
            "source": "  "
        },
        {
            "cell_type": "markdown",
            "metadata": {
                "button": false,
                "new_sheet": false,
                "run_control": {
                    "read_only": false
                }
            },
            "source": "<a id=\"item4\"></a>"
        },
        {
            "cell_type": "markdown",
            "metadata": {
                "button": false,
                "new_sheet": false,
                "run_control": {
                    "read_only": false
                }
            },
            "source": "## 4. Explore a location\n> `https://api.foursquare.com/v2/venues/`**explore**`?client_id=`**CLIENT_ID**`&client_secret=`**CLIENT_SECRET**`&ll=`**LATITUDE**`,`**LONGITUDE**`&v=`**VERSION**`&limit=`**LIMIT**"
        },
        {
            "cell_type": "markdown",
            "metadata": {
                "button": false,
                "new_sheet": false,
                "run_control": {
                    "read_only": false
                }
            },
            "source": "#### So, you just finished your gourmet dish at Ecco, and are just curious about the popular spots around the restaurant. In order to explore the area, let's start by getting the latitude and longitude values of Ecco Restaurant."
        },
        {
            "cell_type": "code",
            "execution_count": 29,
            "metadata": {
                "button": false,
                "new_sheet": false,
                "run_control": {
                    "read_only": false
                }
            },
            "outputs": [],
            "source": "latitude = 40.715337\nlongitude = -74.008848"
        },
        {
            "cell_type": "markdown",
            "metadata": {
                "button": false,
                "new_sheet": false,
                "run_control": {
                    "read_only": false
                }
            },
            "source": "#### Define URL"
        },
        {
            "cell_type": "code",
            "execution_count": 30,
            "metadata": {
                "button": false,
                "jupyter": {
                    "outputs_hidden": false
                },
                "new_sheet": false,
                "run_control": {
                    "read_only": false
                }
            },
            "outputs": [],
            "source": "url = 'https://api.foursquare.com/v2/venues/explore?client_id={}&client_secret={}&ll={},{}&v={}&radius={}&limit={}'.format(CLIENT_ID, CLIENT_SECRET, latitude, longitude, VERSION, radius, LIMIT)"
        },
        {
            "cell_type": "markdown",
            "metadata": {
                "button": false,
                "new_sheet": false,
                "run_control": {
                    "read_only": false
                }
            },
            "source": "#### Send GET request and examine results"
        },
        {
            "cell_type": "code",
            "execution_count": 31,
            "metadata": {
                "button": false,
                "new_sheet": false,
                "run_control": {
                    "read_only": false
                }
            },
            "outputs": [],
            "source": "import requests"
        },
        {
            "cell_type": "code",
            "execution_count": 32,
            "metadata": {
                "button": false,
                "jupyter": {
                    "outputs_hidden": false
                },
                "new_sheet": false,
                "run_control": {
                    "read_only": false
                }
            },
            "outputs": [
                {
                    "data": {
                        "text/plain": "'There are 30 around Ecco restaurant.'"
                    },
                    "execution_count": 32,
                    "metadata": {},
                    "output_type": "execute_result"
                }
            ],
            "source": "results = requests.get(url).json()\n'There are {} around Ecco restaurant.'.format(len(results['response']['groups'][0]['items']))"
        },
        {
            "cell_type": "markdown",
            "metadata": {
                "button": false,
                "new_sheet": false,
                "run_control": {
                    "read_only": false
                }
            },
            "source": "#### Get relevant part of JSON"
        },
        {
            "cell_type": "code",
            "execution_count": 33,
            "metadata": {
                "button": false,
                "jupyter": {
                    "outputs_hidden": false
                },
                "new_sheet": false,
                "run_control": {
                    "read_only": false
                }
            },
            "outputs": [
                {
                    "data": {
                        "text/plain": "{'reasons': {'count': 0,\n  'items': [{'summary': 'This spot is popular',\n    'type': 'general',\n    'reasonName': 'globalInteractionReason'}]},\n 'venue': {'id': '5d5f24ec09484500079aee00',\n  'name': 'Los Tacos No. 1',\n  'location': {'address': '136 Church St',\n   'lat': 40.714267,\n   'lng': -74.008756,\n   'labeledLatLngs': [{'label': 'display',\n     'lat': 40.714267,\n     'lng': -74.008756}],\n   'distance': 119,\n   'postalCode': '10007',\n   'cc': 'US',\n   'city': 'New York',\n   'state': 'NY',\n   'country': 'United States',\n   'formattedAddress': ['136 Church St',\n    'New York, NY 10007',\n    'United States']},\n  'categories': [{'id': '4bf58dd8d48988d151941735',\n    'name': 'Taco Place',\n    'pluralName': 'Taco Places',\n    'shortName': 'Tacos',\n    'icon': {'prefix': 'https://ss3.4sqi.net/img/categories_v2/food/taco_',\n     'suffix': '.png'},\n    'primary': True}],\n  'photos': {'count': 0, 'groups': []}},\n 'referralId': 'e-0-5d5f24ec09484500079aee00-0'}"
                    },
                    "execution_count": 33,
                    "metadata": {},
                    "output_type": "execute_result"
                }
            ],
            "source": "items = results['response']['groups'][0]['items']\nitems[0]"
        },
        {
            "cell_type": "markdown",
            "metadata": {
                "button": false,
                "new_sheet": false,
                "run_control": {
                    "read_only": false
                }
            },
            "source": "#### Process JSON and convert it to a clean dataframe"
        },
        {
            "cell_type": "code",
            "execution_count": 34,
            "metadata": {
                "button": false,
                "jupyter": {
                    "outputs_hidden": false
                },
                "new_sheet": false,
                "run_control": {
                    "read_only": false
                }
            },
            "outputs": [
                {
                    "name": "stderr",
                    "output_type": "stream",
                    "text": "/home/jupyterlab/conda/envs/python/lib/python3.6/site-packages/ipykernel_launcher.py:1: FutureWarning: pandas.io.json.json_normalize is deprecated, use pandas.json_normalize instead\n  \"\"\"Entry point for launching an IPython kernel.\n"
                },
                {
                    "data": {
                        "text/html": "<div>\n<style scoped>\n    .dataframe tbody tr th:only-of-type {\n        vertical-align: middle;\n    }\n\n    .dataframe tbody tr th {\n        vertical-align: top;\n    }\n\n    .dataframe thead th {\n        text-align: right;\n    }\n</style>\n<table border=\"1\" class=\"dataframe\">\n  <thead>\n    <tr style=\"text-align: right;\">\n      <th></th>\n      <th>name</th>\n      <th>categories</th>\n      <th>address</th>\n      <th>lat</th>\n      <th>lng</th>\n      <th>labeledLatLngs</th>\n      <th>distance</th>\n      <th>postalCode</th>\n      <th>cc</th>\n      <th>city</th>\n      <th>state</th>\n      <th>country</th>\n      <th>formattedAddress</th>\n      <th>crossStreet</th>\n      <th>neighborhood</th>\n      <th>id</th>\n    </tr>\n  </thead>\n  <tbody>\n    <tr>\n      <th>0</th>\n      <td>Los Tacos No. 1</td>\n      <td>Taco Place</td>\n      <td>136 Church St</td>\n      <td>40.714267</td>\n      <td>-74.008756</td>\n      <td>[{'label': 'display', 'lat': 40.714267, 'lng': -74.008756}]</td>\n      <td>119</td>\n      <td>10007</td>\n      <td>US</td>\n      <td>New York</td>\n      <td>NY</td>\n      <td>United States</td>\n      <td>[136 Church St, New York, NY 10007, United States]</td>\n      <td>NaN</td>\n      <td>NaN</td>\n      <td>5d5f24ec09484500079aee00</td>\n    </tr>\n    <tr>\n      <th>1</th>\n      <td>Korin</td>\n      <td>Furniture / Home Store</td>\n      <td>57 Warren St</td>\n      <td>40.714824</td>\n      <td>-74.009404</td>\n      <td>[{'label': 'display', 'lat': 40.71482437714839, 'lng': -74.00940425461492}, {'label': 'entrance', 'lat': 40.714727, 'lng': -74.009399}]</td>\n      <td>73</td>\n      <td>10007</td>\n      <td>US</td>\n      <td>New York</td>\n      <td>NY</td>\n      <td>United States</td>\n      <td>[57 Warren St (Church St), New York, NY 10007, United States]</td>\n      <td>Church St</td>\n      <td>Tribeca</td>\n      <td>4af5d65ff964a52091fd21e3</td>\n    </tr>\n    <tr>\n      <th>2</th>\n      <td>Juice Press</td>\n      <td>Vegetarian / Vegan Restaurant</td>\n      <td>83 Murray St</td>\n      <td>40.714788</td>\n      <td>-74.011132</td>\n      <td>[{'label': 'display', 'lat': 40.71478769908051, 'lng': -74.0111317502157}]</td>\n      <td>202</td>\n      <td>10007</td>\n      <td>US</td>\n      <td>New York</td>\n      <td>NY</td>\n      <td>United States</td>\n      <td>[83 Murray St (btwn Greenwich St &amp; W Broadway), New York, NY 10007, United States]</td>\n      <td>btwn Greenwich St &amp; W Broadway</td>\n      <td>NaN</td>\n      <td>54148bc6498ea7bb8c05b70a</td>\n    </tr>\n    <tr>\n      <th>3</th>\n      <td>Exceed Physical Culture</td>\n      <td>Gym / Fitness Center</td>\n      <td>97 Reade St</td>\n      <td>40.715629</td>\n      <td>-74.007992</td>\n      <td>[{'label': 'display', 'lat': 40.7156286200256, 'lng': -74.0079922583853}, {'label': 'entrance', 'lat': 40.715589, 'lng': -74.008105}]</td>\n      <td>79</td>\n      <td>10013</td>\n      <td>US</td>\n      <td>New York</td>\n      <td>NY</td>\n      <td>United States</td>\n      <td>[97 Reade St (bet W Broadway &amp; Church St), New York, NY 10013, United States]</td>\n      <td>bet W Broadway &amp; Church St</td>\n      <td>Tribeca</td>\n      <td>53910ac3498e57a5dc0eb160</td>\n    </tr>\n    <tr>\n      <th>4</th>\n      <td>Takahachi Bakery</td>\n      <td>Bakery</td>\n      <td>25 Murray St</td>\n      <td>40.713653</td>\n      <td>-74.008804</td>\n      <td>[{'label': 'display', 'lat': 40.713652845301894, 'lng': -74.0088038953017}, {'label': 'entrance', 'lat': 40.713716, 'lng': -74.008443}]</td>\n      <td>187</td>\n      <td>10007</td>\n      <td>US</td>\n      <td>New York</td>\n      <td>NY</td>\n      <td>United States</td>\n      <td>[25 Murray St (at Church St), New York, NY 10007, United States]</td>\n      <td>at Church St</td>\n      <td>NaN</td>\n      <td>4c154c9a77cea593c401d260</td>\n    </tr>\n    <tr>\n      <th>5</th>\n      <td>Takahachi</td>\n      <td>Sushi Restaurant</td>\n      <td>145 Duane St</td>\n      <td>40.716526</td>\n      <td>-74.008101</td>\n      <td>[{'label': 'display', 'lat': 40.71652647412374, 'lng': -74.00810108466207}, {'label': 'entrance', 'lat': 40.716508, 'lng': -74.007989}]</td>\n      <td>146</td>\n      <td>10013</td>\n      <td>US</td>\n      <td>New York</td>\n      <td>NY</td>\n      <td>United States</td>\n      <td>[145 Duane St (btwn W Broadway &amp; Church St), New York, NY 10013, United States]</td>\n      <td>btwn W Broadway &amp; Church St</td>\n      <td>NaN</td>\n      <td>4a8f2f39f964a520471420e3</td>\n    </tr>\n    <tr>\n      <th>6</th>\n      <td>Chambers Street Wines</td>\n      <td>Wine Shop</td>\n      <td>148 Chambers St</td>\n      <td>40.715773</td>\n      <td>-74.009718</td>\n      <td>[{'label': 'display', 'lat': 40.715773063928374, 'lng': -74.00971823312332}, {'label': 'entrance', 'lat': 40.715696, 'lng': -74.00988}]</td>\n      <td>88</td>\n      <td>10007</td>\n      <td>US</td>\n      <td>New York</td>\n      <td>NY</td>\n      <td>United States</td>\n      <td>[148 Chambers St (btwn West Broadway &amp; Hudson St), New York, NY 10007, United States]</td>\n      <td>btwn West Broadway &amp; Hudson St</td>\n      <td>NaN</td>\n      <td>4adcf23cf964a520cc6221e3</td>\n    </tr>\n    <tr>\n      <th>7</th>\n      <td>Nish N\u016bsh</td>\n      <td>Falafel Restaurant</td>\n      <td>88 Reade St</td>\n      <td>40.715537</td>\n      <td>-74.007725</td>\n      <td>[{'label': 'display', 'lat': 40.71553710116416, 'lng': -74.00772452925565}, {'label': 'entrance', 'lat': 40.715615, 'lng': -74.00773}]</td>\n      <td>97</td>\n      <td>10013</td>\n      <td>US</td>\n      <td>New York</td>\n      <td>NY</td>\n      <td>United States</td>\n      <td>[88 Reade St (at Church St), New York, NY 10013, United States]</td>\n      <td>at Church St</td>\n      <td>NaN</td>\n      <td>50ba9119e4b071a4bae6dc10</td>\n    </tr>\n    <tr>\n      <th>8</th>\n      <td>Restaurant Marc Forgione</td>\n      <td>New American Restaurant</td>\n      <td>134 Reade St</td>\n      <td>40.716380</td>\n      <td>-74.009629</td>\n      <td>[{'label': 'display', 'lat': 40.71637984317071, 'lng': -74.00962933453428}]</td>\n      <td>133</td>\n      <td>10013</td>\n      <td>US</td>\n      <td>New York</td>\n      <td>NY</td>\n      <td>United States</td>\n      <td>[134 Reade St (btwn Hudson and Greenwich St), New York, NY 10013, United States]</td>\n      <td>btwn Hudson and Greenwich St</td>\n      <td>NaN</td>\n      <td>48510cf9f964a520a5501fe3</td>\n    </tr>\n    <tr>\n      <th>9</th>\n      <td>Whole Foods Market</td>\n      <td>Grocery Store</td>\n      <td>270 Greenwich Street</td>\n      <td>40.715579</td>\n      <td>-74.011368</td>\n      <td>[{'label': 'display', 'lat': 40.715579155420606, 'lng': -74.01136823958119}]</td>\n      <td>214</td>\n      <td>10007</td>\n      <td>US</td>\n      <td>New York</td>\n      <td>NY</td>\n      <td>United States</td>\n      <td>[270 Greenwich Street (at Warren St), New York, NY 10007, United States]</td>\n      <td>at Warren St</td>\n      <td>Tribeca</td>\n      <td>49bc3b0af964a52020541fe3</td>\n    </tr>\n  </tbody>\n</table>\n</div>",
                        "text/plain": "                       name                     categories  \\\n0  Los Tacos No. 1           Taco Place                      \n1  Korin                     Furniture / Home Store          \n2  Juice Press               Vegetarian / Vegan Restaurant   \n3  Exceed Physical Culture   Gym / Fitness Center            \n4  Takahachi Bakery          Bakery                          \n5  Takahachi                 Sushi Restaurant                \n6  Chambers Street Wines     Wine Shop                       \n7  Nish N\u016bsh                 Falafel Restaurant              \n8  Restaurant Marc Forgione  New American Restaurant         \n9  Whole Foods Market        Grocery Store                   \n\n                address        lat        lng  \\\n0  136 Church St         40.714267 -74.008756   \n1  57 Warren St          40.714824 -74.009404   \n2  83 Murray St          40.714788 -74.011132   \n3  97 Reade St           40.715629 -74.007992   \n4  25 Murray St          40.713653 -74.008804   \n5  145 Duane St          40.716526 -74.008101   \n6  148 Chambers St       40.715773 -74.009718   \n7  88 Reade St           40.715537 -74.007725   \n8  134 Reade St          40.716380 -74.009629   \n9  270 Greenwich Street  40.715579 -74.011368   \n\n                                                                                                                            labeledLatLngs  \\\n0  [{'label': 'display', 'lat': 40.714267, 'lng': -74.008756}]                                                                               \n1  [{'label': 'display', 'lat': 40.71482437714839, 'lng': -74.00940425461492}, {'label': 'entrance', 'lat': 40.714727, 'lng': -74.009399}]   \n2  [{'label': 'display', 'lat': 40.71478769908051, 'lng': -74.0111317502157}]                                                                \n3  [{'label': 'display', 'lat': 40.7156286200256, 'lng': -74.0079922583853}, {'label': 'entrance', 'lat': 40.715589, 'lng': -74.008105}]     \n4  [{'label': 'display', 'lat': 40.713652845301894, 'lng': -74.0088038953017}, {'label': 'entrance', 'lat': 40.713716, 'lng': -74.008443}]   \n5  [{'label': 'display', 'lat': 40.71652647412374, 'lng': -74.00810108466207}, {'label': 'entrance', 'lat': 40.716508, 'lng': -74.007989}]   \n6  [{'label': 'display', 'lat': 40.715773063928374, 'lng': -74.00971823312332}, {'label': 'entrance', 'lat': 40.715696, 'lng': -74.00988}]   \n7  [{'label': 'display', 'lat': 40.71553710116416, 'lng': -74.00772452925565}, {'label': 'entrance', 'lat': 40.715615, 'lng': -74.00773}]    \n8  [{'label': 'display', 'lat': 40.71637984317071, 'lng': -74.00962933453428}]                                                               \n9  [{'label': 'display', 'lat': 40.715579155420606, 'lng': -74.01136823958119}]                                                              \n\n   distance postalCode  cc      city state        country  \\\n0  119       10007      US  New York  NY    United States   \n1  73        10007      US  New York  NY    United States   \n2  202       10007      US  New York  NY    United States   \n3  79        10013      US  New York  NY    United States   \n4  187       10007      US  New York  NY    United States   \n5  146       10013      US  New York  NY    United States   \n6  88        10007      US  New York  NY    United States   \n7  97        10013      US  New York  NY    United States   \n8  133       10013      US  New York  NY    United States   \n9  214       10007      US  New York  NY    United States   \n\n                                                                        formattedAddress  \\\n0  [136 Church St, New York, NY 10007, United States]                                      \n1  [57 Warren St (Church St), New York, NY 10007, United States]                           \n2  [83 Murray St (btwn Greenwich St & W Broadway), New York, NY 10007, United States]      \n3  [97 Reade St (bet W Broadway & Church St), New York, NY 10013, United States]           \n4  [25 Murray St (at Church St), New York, NY 10007, United States]                        \n5  [145 Duane St (btwn W Broadway & Church St), New York, NY 10013, United States]         \n6  [148 Chambers St (btwn West Broadway & Hudson St), New York, NY 10007, United States]   \n7  [88 Reade St (at Church St), New York, NY 10013, United States]                         \n8  [134 Reade St (btwn Hudson and Greenwich St), New York, NY 10013, United States]        \n9  [270 Greenwich Street (at Warren St), New York, NY 10007, United States]                \n\n                      crossStreet neighborhood                        id  \n0  NaN                             NaN          5d5f24ec09484500079aee00  \n1  Church St                       Tribeca      4af5d65ff964a52091fd21e3  \n2  btwn Greenwich St & W Broadway  NaN          54148bc6498ea7bb8c05b70a  \n3  bet W Broadway & Church St      Tribeca      53910ac3498e57a5dc0eb160  \n4  at Church St                    NaN          4c154c9a77cea593c401d260  \n5  btwn W Broadway & Church St     NaN          4a8f2f39f964a520471420e3  \n6  btwn West Broadway & Hudson St  NaN          4adcf23cf964a520cc6221e3  \n7  at Church St                    NaN          50ba9119e4b071a4bae6dc10  \n8  btwn Hudson and Greenwich St    NaN          48510cf9f964a520a5501fe3  \n9  at Warren St                    Tribeca      49bc3b0af964a52020541fe3  "
                    },
                    "execution_count": 34,
                    "metadata": {},
                    "output_type": "execute_result"
                }
            ],
            "source": "dataframe = json_normalize(items) # flatten JSON\n\n# filter columns\nfiltered_columns = ['venue.name', 'venue.categories'] + [col for col in dataframe.columns if col.startswith('venue.location.')] + ['venue.id']\ndataframe_filtered = dataframe.loc[:, filtered_columns]\n\n# filter the category for each row\ndataframe_filtered['venue.categories'] = dataframe_filtered.apply(get_category_type, axis=1)\n\n# clean columns\ndataframe_filtered.columns = [col.split('.')[-1] for col in dataframe_filtered.columns]\n\ndataframe_filtered.head(10)"
        },
        {
            "cell_type": "markdown",
            "metadata": {
                "button": false,
                "new_sheet": false,
                "run_control": {
                    "read_only": false
                }
            },
            "source": "#### Let's visualize these items on the map around our location"
        },
        {
            "cell_type": "code",
            "execution_count": 35,
            "metadata": {
                "button": false,
                "jupyter": {
                    "outputs_hidden": false
                },
                "new_sheet": false,
                "run_control": {
                    "read_only": false
                }
            },
            "outputs": [
                {
                    "data": {
                        "text/html": "<div style=\"width:100%;\"><div style=\"position:relative;width:100%;height:0;padding-bottom:60%;\"><span style=\"color:#565656\">Make this Notebook Trusted to load map: File -> Trust Notebook</span><iframe src=\"about:blank\" style=\"position:absolute;width:100%;height:100%;left:0;top:0;border:none !important;\" data-html=PCFET0NUWVBFIGh0bWw+CjxoZWFkPiAgICAKICAgIDxtZXRhIGh0dHAtZXF1aXY9ImNvbnRlbnQtdHlwZSIgY29udGVudD0idGV4dC9odG1sOyBjaGFyc2V0PVVURi04IiAvPgogICAgPHNjcmlwdD5MX1BSRUZFUl9DQU5WQVMgPSBmYWxzZTsgTF9OT19UT1VDSCA9IGZhbHNlOyBMX0RJU0FCTEVfM0QgPSBmYWxzZTs8L3NjcmlwdD4KICAgIDxzY3JpcHQgc3JjPSJodHRwczovL2Nkbi5qc2RlbGl2ci5uZXQvbnBtL2xlYWZsZXRAMS4yLjAvZGlzdC9sZWFmbGV0LmpzIj48L3NjcmlwdD4KICAgIDxzY3JpcHQgc3JjPSJodHRwczovL2FqYXguZ29vZ2xlYXBpcy5jb20vYWpheC9saWJzL2pxdWVyeS8xLjExLjEvanF1ZXJ5Lm1pbi5qcyI+PC9zY3JpcHQ+CiAgICA8c2NyaXB0IHNyYz0iaHR0cHM6Ly9tYXhjZG4uYm9vdHN0cmFwY2RuLmNvbS9ib290c3RyYXAvMy4yLjAvanMvYm9vdHN0cmFwLm1pbi5qcyI+PC9zY3JpcHQ+CiAgICA8c2NyaXB0IHNyYz0iaHR0cHM6Ly9jZG5qcy5jbG91ZGZsYXJlLmNvbS9hamF4L2xpYnMvTGVhZmxldC5hd2Vzb21lLW1hcmtlcnMvMi4wLjIvbGVhZmxldC5hd2Vzb21lLW1hcmtlcnMuanMiPjwvc2NyaXB0PgogICAgPGxpbmsgcmVsPSJzdHlsZXNoZWV0IiBocmVmPSJodHRwczovL2Nkbi5qc2RlbGl2ci5uZXQvbnBtL2xlYWZsZXRAMS4yLjAvZGlzdC9sZWFmbGV0LmNzcyIvPgogICAgPGxpbmsgcmVsPSJzdHlsZXNoZWV0IiBocmVmPSJodHRwczovL21heGNkbi5ib290c3RyYXBjZG4uY29tL2Jvb3RzdHJhcC8zLjIuMC9jc3MvYm9vdHN0cmFwLm1pbi5jc3MiLz4KICAgIDxsaW5rIHJlbD0ic3R5bGVzaGVldCIgaHJlZj0iaHR0cHM6Ly9tYXhjZG4uYm9vdHN0cmFwY2RuLmNvbS9ib290c3RyYXAvMy4yLjAvY3NzL2Jvb3RzdHJhcC10aGVtZS5taW4uY3NzIi8+CiAgICA8bGluayByZWw9InN0eWxlc2hlZXQiIGhyZWY9Imh0dHBzOi8vbWF4Y2RuLmJvb3RzdHJhcGNkbi5jb20vZm9udC1hd2Vzb21lLzQuNi4zL2Nzcy9mb250LWF3ZXNvbWUubWluLmNzcyIvPgogICAgPGxpbmsgcmVsPSJzdHlsZXNoZWV0IiBocmVmPSJodHRwczovL2NkbmpzLmNsb3VkZmxhcmUuY29tL2FqYXgvbGlicy9MZWFmbGV0LmF3ZXNvbWUtbWFya2Vycy8yLjAuMi9sZWFmbGV0LmF3ZXNvbWUtbWFya2Vycy5jc3MiLz4KICAgIDxsaW5rIHJlbD0ic3R5bGVzaGVldCIgaHJlZj0iaHR0cHM6Ly9yYXdnaXQuY29tL3B5dGhvbi12aXN1YWxpemF0aW9uL2ZvbGl1bS9tYXN0ZXIvZm9saXVtL3RlbXBsYXRlcy9sZWFmbGV0LmF3ZXNvbWUucm90YXRlLmNzcyIvPgogICAgPHN0eWxlPmh0bWwsIGJvZHkge3dpZHRoOiAxMDAlO2hlaWdodDogMTAwJTttYXJnaW46IDA7cGFkZGluZzogMDt9PC9zdHlsZT4KICAgIDxzdHlsZT4jbWFwIHtwb3NpdGlvbjphYnNvbHV0ZTt0b3A6MDtib3R0b206MDtyaWdodDowO2xlZnQ6MDt9PC9zdHlsZT4KICAgIAogICAgICAgICAgICA8c3R5bGU+ICNtYXBfYzE0NzFkYzFlZWFkNDQ4YWJkOTc1MTE0YTRhMDdiNmQgewogICAgICAgICAgICAgICAgcG9zaXRpb24gOiByZWxhdGl2ZTsKICAgICAgICAgICAgICAgIHdpZHRoIDogMTAwLjAlOwogICAgICAgICAgICAgICAgaGVpZ2h0OiAxMDAuMCU7CiAgICAgICAgICAgICAgICBsZWZ0OiAwLjAlOwogICAgICAgICAgICAgICAgdG9wOiAwLjAlOwogICAgICAgICAgICAgICAgfQogICAgICAgICAgICA8L3N0eWxlPgogICAgICAgIAo8L2hlYWQ+Cjxib2R5PiAgICAKICAgIAogICAgICAgICAgICA8ZGl2IGNsYXNzPSJmb2xpdW0tbWFwIiBpZD0ibWFwX2MxNDcxZGMxZWVhZDQ0OGFiZDk3NTExNGE0YTA3YjZkIiA+PC9kaXY+CiAgICAgICAgCjwvYm9keT4KPHNjcmlwdD4gICAgCiAgICAKCiAgICAgICAgICAgIAogICAgICAgICAgICAgICAgdmFyIGJvdW5kcyA9IG51bGw7CiAgICAgICAgICAgIAoKICAgICAgICAgICAgdmFyIG1hcF9jMTQ3MWRjMWVlYWQ0NDhhYmQ5NzUxMTRhNGEwN2I2ZCA9IEwubWFwKAogICAgICAgICAgICAgICAgICAgICAgICAgICAgICAgICAgJ21hcF9jMTQ3MWRjMWVlYWQ0NDhhYmQ5NzUxMTRhNGEwN2I2ZCcsCiAgICAgICAgICAgICAgICAgICAgICAgICAgICAgICAgICB7Y2VudGVyOiBbNDAuNzE1MzM3LC03NC4wMDg4NDhdLAogICAgICAgICAgICAgICAgICAgICAgICAgICAgICAgICAgem9vbTogMTUsCiAgICAgICAgICAgICAgICAgICAgICAgICAgICAgICAgICBtYXhCb3VuZHM6IGJvdW5kcywKICAgICAgICAgICAgICAgICAgICAgICAgICAgICAgICAgIGxheWVyczogW10sCiAgICAgICAgICAgICAgICAgICAgICAgICAgICAgICAgICB3b3JsZENvcHlKdW1wOiBmYWxzZSwKICAgICAgICAgICAgICAgICAgICAgICAgICAgICAgICAgIGNyczogTC5DUlMuRVBTRzM4NTcKICAgICAgICAgICAgICAgICAgICAgICAgICAgICAgICAgfSk7CiAgICAgICAgICAgIAogICAgICAgIAogICAgCiAgICAgICAgICAgIHZhciB0aWxlX2xheWVyXzQ0YWIzZTYwYzBhNTQxODhiZDIzNGRkYWI5NzFhZjg3ID0gTC50aWxlTGF5ZXIoCiAgICAgICAgICAgICAgICAnaHR0cHM6Ly97c30udGlsZS5vcGVuc3RyZWV0bWFwLm9yZy97en0ve3h9L3t5fS5wbmcnLAogICAgICAgICAgICAgICAgewogICJhdHRyaWJ1dGlvbiI6IG51bGwsCiAgImRldGVjdFJldGluYSI6IGZhbHNlLAogICJtYXhab29tIjogMTgsCiAgIm1pblpvb20iOiAxLAogICJub1dyYXAiOiBmYWxzZSwKICAic3ViZG9tYWlucyI6ICJhYmMiCn0KICAgICAgICAgICAgICAgICkuYWRkVG8obWFwX2MxNDcxZGMxZWVhZDQ0OGFiZDk3NTExNGE0YTA3YjZkKTsKICAgICAgICAKICAgIAogICAgICAgICAgICB2YXIgY2lyY2xlX21hcmtlcl80OTgzNmIzZTk2MWQ0Njc1ODk0NDNjMmJhZTgwM2E5NiA9IEwuY2lyY2xlTWFya2VyKAogICAgICAgICAgICAgICAgWzQwLjcxNTMzNywtNzQuMDA4ODQ4XSwKICAgICAgICAgICAgICAgIHsKICAiYnViYmxpbmdNb3VzZUV2ZW50cyI6IHRydWUsCiAgImNvbG9yIjogInJlZCIsCiAgImRhc2hBcnJheSI6IG51bGwsCiAgImRhc2hPZmZzZXQiOiBudWxsLAogICJmaWxsIjogdHJ1ZSwKICAiZmlsbENvbG9yIjogInJlZCIsCiAgImZpbGxPcGFjaXR5IjogMC42LAogICJmaWxsUnVsZSI6ICJldmVub2RkIiwKICAibGluZUNhcCI6ICJyb3VuZCIsCiAgImxpbmVKb2luIjogInJvdW5kIiwKICAib3BhY2l0eSI6IDEuMCwKICAicmFkaXVzIjogMTAsCiAgInN0cm9rZSI6IHRydWUsCiAgIndlaWdodCI6IDMKfQogICAgICAgICAgICAgICAgKS5hZGRUbyhtYXBfYzE0NzFkYzFlZWFkNDQ4YWJkOTc1MTE0YTRhMDdiNmQpOwogICAgICAgICAgICAKICAgIAogICAgICAgICAgICB2YXIgcG9wdXBfMTg0M2NiNjI1ZWVhNDhkYWFmODlkNjg1ZDNiZTVlZGQgPSBMLnBvcHVwKHttYXhXaWR0aDogJzMwMCd9KTsKCiAgICAgICAgICAgIAogICAgICAgICAgICAgICAgdmFyIGh0bWxfYzk4NDY5ZjQxMDU0NGVhNWI5ZjU5Yjc5ZTg2MWQxOGUgPSAkKCc8ZGl2IGlkPSJodG1sX2M5ODQ2OWY0MTA1NDRlYTViOWY1OWI3OWU4NjFkMThlIiBzdHlsZT0id2lkdGg6IDEwMC4wJTsgaGVpZ2h0OiAxMDAuMCU7Ij5FY2NvPC9kaXY+JylbMF07CiAgICAgICAgICAgICAgICBwb3B1cF8xODQzY2I2MjVlZWE0OGRhYWY4OWQ2ODVkM2JlNWVkZC5zZXRDb250ZW50KGh0bWxfYzk4NDY5ZjQxMDU0NGVhNWI5ZjU5Yjc5ZTg2MWQxOGUpOwogICAgICAgICAgICAKCiAgICAgICAgICAgIGNpcmNsZV9tYXJrZXJfNDk4MzZiM2U5NjFkNDY3NTg5NDQzYzJiYWU4MDNhOTYuYmluZFBvcHVwKHBvcHVwXzE4NDNjYjYyNWVlYTQ4ZGFhZjg5ZDY4NWQzYmU1ZWRkKTsKCiAgICAgICAgICAgIAogICAgICAgIAogICAgCiAgICAgICAgICAgIHZhciBjaXJjbGVfbWFya2VyXzRiMmEwMTcyZjBiOTRkNzI4NWI3MmM1NTBlNGI5MmZlID0gTC5jaXJjbGVNYXJrZXIoCiAgICAgICAgICAgICAgICBbNDAuNzE0MjY3LC03NC4wMDg3NTZdLAogICAgICAgICAgICAgICAgewogICJidWJibGluZ01vdXNlRXZlbnRzIjogdHJ1ZSwKICAiY29sb3IiOiAiYmx1ZSIsCiAgImRhc2hBcnJheSI6IG51bGwsCiAgImRhc2hPZmZzZXQiOiBudWxsLAogICJmaWxsIjogdHJ1ZSwKICAiZmlsbENvbG9yIjogImJsdWUiLAogICJmaWxsT3BhY2l0eSI6IDAuNiwKICAiZmlsbFJ1bGUiOiAiZXZlbm9kZCIsCiAgImxpbmVDYXAiOiAicm91bmQiLAogICJsaW5lSm9pbiI6ICJyb3VuZCIsCiAgIm9wYWNpdHkiOiAxLjAsCiAgInJhZGl1cyI6IDUsCiAgInN0cm9rZSI6IHRydWUsCiAgIndlaWdodCI6IDMKfQogICAgICAgICAgICAgICAgKS5hZGRUbyhtYXBfYzE0NzFkYzFlZWFkNDQ4YWJkOTc1MTE0YTRhMDdiNmQpOwogICAgICAgICAgICAKICAgIAogICAgICAgICAgICB2YXIgcG9wdXBfNDE2YTNmMTU2MjlhNDgwZDkwYzk3ZjU2MmU0MDIxM2UgPSBMLnBvcHVwKHttYXhXaWR0aDogJzMwMCd9KTsKCiAgICAgICAgICAgIAogICAgICAgICAgICAgICAgdmFyIGh0bWxfZjI3MjdkMTQzZTk4NDdkYWFmNjQ1YmU5ZTEwYTIzMzQgPSAkKCc8ZGl2IGlkPSJodG1sX2YyNzI3ZDE0M2U5ODQ3ZGFhZjY0NWJlOWUxMGEyMzM0IiBzdHlsZT0id2lkdGg6IDEwMC4wJTsgaGVpZ2h0OiAxMDAuMCU7Ij5UYWNvIFBsYWNlPC9kaXY+JylbMF07CiAgICAgICAgICAgICAgICBwb3B1cF80MTZhM2YxNTYyOWE0ODBkOTBjOTdmNTYyZTQwMjEzZS5zZXRDb250ZW50KGh0bWxfZjI3MjdkMTQzZTk4NDdkYWFmNjQ1YmU5ZTEwYTIzMzQpOwogICAgICAgICAgICAKCiAgICAgICAgICAgIGNpcmNsZV9tYXJrZXJfNGIyYTAxNzJmMGI5NGQ3Mjg1YjcyYzU1MGU0YjkyZmUuYmluZFBvcHVwKHBvcHVwXzQxNmEzZjE1NjI5YTQ4MGQ5MGM5N2Y1NjJlNDAyMTNlKTsKCiAgICAgICAgICAgIAogICAgICAgIAogICAgCiAgICAgICAgICAgIHZhciBjaXJjbGVfbWFya2VyXzU3ZjQzMzhjYzhhODQ3ZjJhNWVhYjY5ZTQ3NDJiZTlhID0gTC5jaXJjbGVNYXJrZXIoCiAgICAgICAgICAgICAgICBbNDAuNzE0ODI0Mzc3MTQ4MzksLTc0LjAwOTQwNDI1NDYxNDkyXSwKICAgICAgICAgICAgICAgIHsKICAiYnViYmxpbmdNb3VzZUV2ZW50cyI6IHRydWUsCiAgImNvbG9yIjogImJsdWUiLAogICJkYXNoQXJyYXkiOiBudWxsLAogICJkYXNoT2Zmc2V0IjogbnVsbCwKICAiZmlsbCI6IHRydWUsCiAgImZpbGxDb2xvciI6ICJibHVlIiwKICAiZmlsbE9wYWNpdHkiOiAwLjYsCiAgImZpbGxSdWxlIjogImV2ZW5vZGQiLAogICJsaW5lQ2FwIjogInJvdW5kIiwKICAibGluZUpvaW4iOiAicm91bmQiLAogICJvcGFjaXR5IjogMS4wLAogICJyYWRpdXMiOiA1LAogICJzdHJva2UiOiB0cnVlLAogICJ3ZWlnaHQiOiAzCn0KICAgICAgICAgICAgICAgICkuYWRkVG8obWFwX2MxNDcxZGMxZWVhZDQ0OGFiZDk3NTExNGE0YTA3YjZkKTsKICAgICAgICAgICAgCiAgICAKICAgICAgICAgICAgdmFyIHBvcHVwX2JlNmRhMmZmM2ExMDRlZGFiYWI2YjBjN2M2ZTU2MjI5ID0gTC5wb3B1cCh7bWF4V2lkdGg6ICczMDAnfSk7CgogICAgICAgICAgICAKICAgICAgICAgICAgICAgIHZhciBodG1sX2E1YzQzMThlOTdmNzRmZWU4ZWRiOTJmMmM4ZWJkZDFmID0gJCgnPGRpdiBpZD0iaHRtbF9hNWM0MzE4ZTk3Zjc0ZmVlOGVkYjkyZjJjOGViZGQxZiIgc3R5bGU9IndpZHRoOiAxMDAuMCU7IGhlaWdodDogMTAwLjAlOyI+RnVybml0dXJlIC8gSG9tZSBTdG9yZTwvZGl2PicpWzBdOwogICAgICAgICAgICAgICAgcG9wdXBfYmU2ZGEyZmYzYTEwNGVkYWJhYjZiMGM3YzZlNTYyMjkuc2V0Q29udGVudChodG1sX2E1YzQzMThlOTdmNzRmZWU4ZWRiOTJmMmM4ZWJkZDFmKTsKICAgICAgICAgICAgCgogICAgICAgICAgICBjaXJjbGVfbWFya2VyXzU3ZjQzMzhjYzhhODQ3ZjJhNWVhYjY5ZTQ3NDJiZTlhLmJpbmRQb3B1cChwb3B1cF9iZTZkYTJmZjNhMTA0ZWRhYmFiNmIwYzdjNmU1NjIyOSk7CgogICAgICAgICAgICAKICAgICAgICAKICAgIAogICAgICAgICAgICB2YXIgY2lyY2xlX21hcmtlcl9mMWY0OWYxMDNmY2M0ZGZhODI5YTkwZjhhYjNlZThjNiA9IEwuY2lyY2xlTWFya2VyKAogICAgICAgICAgICAgICAgWzQwLjcxNDc4NzY5OTA4MDUxLC03NC4wMTExMzE3NTAyMTU3XSwKICAgICAgICAgICAgICAgIHsKICAiYnViYmxpbmdNb3VzZUV2ZW50cyI6IHRydWUsCiAgImNvbG9yIjogImJsdWUiLAogICJkYXNoQXJyYXkiOiBudWxsLAogICJkYXNoT2Zmc2V0IjogbnVsbCwKICAiZmlsbCI6IHRydWUsCiAgImZpbGxDb2xvciI6ICJibHVlIiwKICAiZmlsbE9wYWNpdHkiOiAwLjYsCiAgImZpbGxSdWxlIjogImV2ZW5vZGQiLAogICJsaW5lQ2FwIjogInJvdW5kIiwKICAibGluZUpvaW4iOiAicm91bmQiLAogICJvcGFjaXR5IjogMS4wLAogICJyYWRpdXMiOiA1LAogICJzdHJva2UiOiB0cnVlLAogICJ3ZWlnaHQiOiAzCn0KICAgICAgICAgICAgICAgICkuYWRkVG8obWFwX2MxNDcxZGMxZWVhZDQ0OGFiZDk3NTExNGE0YTA3YjZkKTsKICAgICAgICAgICAgCiAgICAKICAgICAgICAgICAgdmFyIHBvcHVwXzA3NTE2MjdmY2UzODQ0MzZhN2E5ZGZmNWNmZjY4MDUyID0gTC5wb3B1cCh7bWF4V2lkdGg6ICczMDAnfSk7CgogICAgICAgICAgICAKICAgICAgICAgICAgICAgIHZhciBodG1sXzkwYTRkNDM0ZTIzYzQ2NjVhZjIxOGQyNjRlNmI3MWMzID0gJCgnPGRpdiBpZD0iaHRtbF85MGE0ZDQzNGUyM2M0NjY1YWYyMThkMjY0ZTZiNzFjMyIgc3R5bGU9IndpZHRoOiAxMDAuMCU7IGhlaWdodDogMTAwLjAlOyI+VmVnZXRhcmlhbiAvIFZlZ2FuIFJlc3RhdXJhbnQ8L2Rpdj4nKVswXTsKICAgICAgICAgICAgICAgIHBvcHVwXzA3NTE2MjdmY2UzODQ0MzZhN2E5ZGZmNWNmZjY4MDUyLnNldENvbnRlbnQoaHRtbF85MGE0ZDQzNGUyM2M0NjY1YWYyMThkMjY0ZTZiNzFjMyk7CiAgICAgICAgICAgIAoKICAgICAgICAgICAgY2lyY2xlX21hcmtlcl9mMWY0OWYxMDNmY2M0ZGZhODI5YTkwZjhhYjNlZThjNi5iaW5kUG9wdXAocG9wdXBfMDc1MTYyN2ZjZTM4NDQzNmE3YTlkZmY1Y2ZmNjgwNTIpOwoKICAgICAgICAgICAgCiAgICAgICAgCiAgICAKICAgICAgICAgICAgdmFyIGNpcmNsZV9tYXJrZXJfYTQ4MjYzNGJiNDJiNGQ1ZmE5ZjcxY2ZiOThlZDM0OWIgPSBMLmNpcmNsZU1hcmtlcigKICAgICAgICAgICAgICAgIFs0MC43MTU2Mjg2MjAwMjU2LC03NC4wMDc5OTIyNTgzODUzXSwKICAgICAgICAgICAgICAgIHsKICAiYnViYmxpbmdNb3VzZUV2ZW50cyI6IHRydWUsCiAgImNvbG9yIjogImJsdWUiLAogICJkYXNoQXJyYXkiOiBudWxsLAogICJkYXNoT2Zmc2V0IjogbnVsbCwKICAiZmlsbCI6IHRydWUsCiAgImZpbGxDb2xvciI6ICJibHVlIiwKICAiZmlsbE9wYWNpdHkiOiAwLjYsCiAgImZpbGxSdWxlIjogImV2ZW5vZGQiLAogICJsaW5lQ2FwIjogInJvdW5kIiwKICAibGluZUpvaW4iOiAicm91bmQiLAogICJvcGFjaXR5IjogMS4wLAogICJyYWRpdXMiOiA1LAogICJzdHJva2UiOiB0cnVlLAogICJ3ZWlnaHQiOiAzCn0KICAgICAgICAgICAgICAgICkuYWRkVG8obWFwX2MxNDcxZGMxZWVhZDQ0OGFiZDk3NTExNGE0YTA3YjZkKTsKICAgICAgICAgICAgCiAgICAKICAgICAgICAgICAgdmFyIHBvcHVwXzhkNTQ3ODc3OWY0MzQ4YjE5NTAyNmVlYzlhYWQyYzBmID0gTC5wb3B1cCh7bWF4V2lkdGg6ICczMDAnfSk7CgogICAgICAgICAgICAKICAgICAgICAgICAgICAgIHZhciBodG1sX2MyNDc3NjE4NjMxNjQ4MTc4ZjNhOGI4YTFjNzVhMmQ0ID0gJCgnPGRpdiBpZD0iaHRtbF9jMjQ3NzYxODYzMTY0ODE3OGYzYThiOGExYzc1YTJkNCIgc3R5bGU9IndpZHRoOiAxMDAuMCU7IGhlaWdodDogMTAwLjAlOyI+R3ltIC8gRml0bmVzcyBDZW50ZXI8L2Rpdj4nKVswXTsKICAgICAgICAgICAgICAgIHBvcHVwXzhkNTQ3ODc3OWY0MzQ4YjE5NTAyNmVlYzlhYWQyYzBmLnNldENvbnRlbnQoaHRtbF9jMjQ3NzYxODYzMTY0ODE3OGYzYThiOGExYzc1YTJkNCk7CiAgICAgICAgICAgIAoKICAgICAgICAgICAgY2lyY2xlX21hcmtlcl9hNDgyNjM0YmI0MmI0ZDVmYTlmNzFjZmI5OGVkMzQ5Yi5iaW5kUG9wdXAocG9wdXBfOGQ1NDc4Nzc5ZjQzNDhiMTk1MDI2ZWVjOWFhZDJjMGYpOwoKICAgICAgICAgICAgCiAgICAgICAgCiAgICAKICAgICAgICAgICAgdmFyIGNpcmNsZV9tYXJrZXJfMDA1NmE0YjRiNjViNDZhNjkyYTVkNTBhZTdlZjZlYjYgPSBMLmNpcmNsZU1hcmtlcigKICAgICAgICAgICAgICAgIFs0MC43MTM2NTI4NDUzMDE4OTQsLTc0LjAwODgwMzg5NTMwMTddLAogICAgICAgICAgICAgICAgewogICJidWJibGluZ01vdXNlRXZlbnRzIjogdHJ1ZSwKICAiY29sb3IiOiAiYmx1ZSIsCiAgImRhc2hBcnJheSI6IG51bGwsCiAgImRhc2hPZmZzZXQiOiBudWxsLAogICJmaWxsIjogdHJ1ZSwKICAiZmlsbENvbG9yIjogImJsdWUiLAogICJmaWxsT3BhY2l0eSI6IDAuNiwKICAiZmlsbFJ1bGUiOiAiZXZlbm9kZCIsCiAgImxpbmVDYXAiOiAicm91bmQiLAogICJsaW5lSm9pbiI6ICJyb3VuZCIsCiAgIm9wYWNpdHkiOiAxLjAsCiAgInJhZGl1cyI6IDUsCiAgInN0cm9rZSI6IHRydWUsCiAgIndlaWdodCI6IDMKfQogICAgICAgICAgICAgICAgKS5hZGRUbyhtYXBfYzE0NzFkYzFlZWFkNDQ4YWJkOTc1MTE0YTRhMDdiNmQpOwogICAgICAgICAgICAKICAgIAogICAgICAgICAgICB2YXIgcG9wdXBfYjE5YmI0MjdhODJlNDMwMTgyYjBlMzdmNjU3Nzc4ZjggPSBMLnBvcHVwKHttYXhXaWR0aDogJzMwMCd9KTsKCiAgICAgICAgICAgIAogICAgICAgICAgICAgICAgdmFyIGh0bWxfMzlkZjg0ODM3NGFkNGFkMTlhNDQzNjM5YTY2ZGEzYTggPSAkKCc8ZGl2IGlkPSJodG1sXzM5ZGY4NDgzNzRhZDRhZDE5YTQ0MzYzOWE2NmRhM2E4IiBzdHlsZT0id2lkdGg6IDEwMC4wJTsgaGVpZ2h0OiAxMDAuMCU7Ij5CYWtlcnk8L2Rpdj4nKVswXTsKICAgICAgICAgICAgICAgIHBvcHVwX2IxOWJiNDI3YTgyZTQzMDE4MmIwZTM3ZjY1Nzc3OGY4LnNldENvbnRlbnQoaHRtbF8zOWRmODQ4Mzc0YWQ0YWQxOWE0NDM2MzlhNjZkYTNhOCk7CiAgICAgICAgICAgIAoKICAgICAgICAgICAgY2lyY2xlX21hcmtlcl8wMDU2YTRiNGI2NWI0NmE2OTJhNWQ1MGFlN2VmNmViNi5iaW5kUG9wdXAocG9wdXBfYjE5YmI0MjdhODJlNDMwMTgyYjBlMzdmNjU3Nzc4ZjgpOwoKICAgICAgICAgICAgCiAgICAgICAgCiAgICAKICAgICAgICAgICAgdmFyIGNpcmNsZV9tYXJrZXJfMjkxYTA5NTNhYzk1NDJjNmIxYWMyNDQ4MTQ4OTM1NDYgPSBMLmNpcmNsZU1hcmtlcigKICAgICAgICAgICAgICAgIFs0MC43MTY1MjY0NzQxMjM3NCwtNzQuMDA4MTAxMDg0NjYyMDddLAogICAgICAgICAgICAgICAgewogICJidWJibGluZ01vdXNlRXZlbnRzIjogdHJ1ZSwKICAiY29sb3IiOiAiYmx1ZSIsCiAgImRhc2hBcnJheSI6IG51bGwsCiAgImRhc2hPZmZzZXQiOiBudWxsLAogICJmaWxsIjogdHJ1ZSwKICAiZmlsbENvbG9yIjogImJsdWUiLAogICJmaWxsT3BhY2l0eSI6IDAuNiwKICAiZmlsbFJ1bGUiOiAiZXZlbm9kZCIsCiAgImxpbmVDYXAiOiAicm91bmQiLAogICJsaW5lSm9pbiI6ICJyb3VuZCIsCiAgIm9wYWNpdHkiOiAxLjAsCiAgInJhZGl1cyI6IDUsCiAgInN0cm9rZSI6IHRydWUsCiAgIndlaWdodCI6IDMKfQogICAgICAgICAgICAgICAgKS5hZGRUbyhtYXBfYzE0NzFkYzFlZWFkNDQ4YWJkOTc1MTE0YTRhMDdiNmQpOwogICAgICAgICAgICAKICAgIAogICAgICAgICAgICB2YXIgcG9wdXBfMDc2NGU1YWNmZTNkNDc1MjgzMThkMDc1OTI1NWExMzUgPSBMLnBvcHVwKHttYXhXaWR0aDogJzMwMCd9KTsKCiAgICAgICAgICAgIAogICAgICAgICAgICAgICAgdmFyIGh0bWxfM2Q2ZGRmMmU3YzY1NGQwZDhmNTU5MTA3MDc1ZjQ1ODUgPSAkKCc8ZGl2IGlkPSJodG1sXzNkNmRkZjJlN2M2NTRkMGQ4ZjU1OTEwNzA3NWY0NTg1IiBzdHlsZT0id2lkdGg6IDEwMC4wJTsgaGVpZ2h0OiAxMDAuMCU7Ij5TdXNoaSBSZXN0YXVyYW50PC9kaXY+JylbMF07CiAgICAgICAgICAgICAgICBwb3B1cF8wNzY0ZTVhY2ZlM2Q0NzUyODMxOGQwNzU5MjU1YTEzNS5zZXRDb250ZW50KGh0bWxfM2Q2ZGRmMmU3YzY1NGQwZDhmNTU5MTA3MDc1ZjQ1ODUpOwogICAgICAgICAgICAKCiAgICAgICAgICAgIGNpcmNsZV9tYXJrZXJfMjkxYTA5NTNhYzk1NDJjNmIxYWMyNDQ4MTQ4OTM1NDYuYmluZFBvcHVwKHBvcHVwXzA3NjRlNWFjZmUzZDQ3NTI4MzE4ZDA3NTkyNTVhMTM1KTsKCiAgICAgICAgICAgIAogICAgICAgIAogICAgCiAgICAgICAgICAgIHZhciBjaXJjbGVfbWFya2VyX2FlOGZjYzFiYTRkNjRiZmM4NGFlOGVkYjNhM2Y4ODcxID0gTC5jaXJjbGVNYXJrZXIoCiAgICAgICAgICAgICAgICBbNDAuNzE1NzczMDYzOTI4Mzc0LC03NC4wMDk3MTgyMzMxMjMzMl0sCiAgICAgICAgICAgICAgICB7CiAgImJ1YmJsaW5nTW91c2VFdmVudHMiOiB0cnVlLAogICJjb2xvciI6ICJibHVlIiwKICAiZGFzaEFycmF5IjogbnVsbCwKICAiZGFzaE9mZnNldCI6IG51bGwsCiAgImZpbGwiOiB0cnVlLAogICJmaWxsQ29sb3IiOiAiYmx1ZSIsCiAgImZpbGxPcGFjaXR5IjogMC42LAogICJmaWxsUnVsZSI6ICJldmVub2RkIiwKICAibGluZUNhcCI6ICJyb3VuZCIsCiAgImxpbmVKb2luIjogInJvdW5kIiwKICAib3BhY2l0eSI6IDEuMCwKICAicmFkaXVzIjogNSwKICAic3Ryb2tlIjogdHJ1ZSwKICAid2VpZ2h0IjogMwp9CiAgICAgICAgICAgICAgICApLmFkZFRvKG1hcF9jMTQ3MWRjMWVlYWQ0NDhhYmQ5NzUxMTRhNGEwN2I2ZCk7CiAgICAgICAgICAgIAogICAgCiAgICAgICAgICAgIHZhciBwb3B1cF9kOTNiOTI4MWIwNzg0NzkxODA1YzQ5NGE3ODAwNjRkMyA9IEwucG9wdXAoe21heFdpZHRoOiAnMzAwJ30pOwoKICAgICAgICAgICAgCiAgICAgICAgICAgICAgICB2YXIgaHRtbF8zYjJiNjQxNDBiZTc0MjIzOWFhOWVhMWFkYjEzZjJmZCA9ICQoJzxkaXYgaWQ9Imh0bWxfM2IyYjY0MTQwYmU3NDIyMzlhYTllYTFhZGIxM2YyZmQiIHN0eWxlPSJ3aWR0aDogMTAwLjAlOyBoZWlnaHQ6IDEwMC4wJTsiPldpbmUgU2hvcDwvZGl2PicpWzBdOwogICAgICAgICAgICAgICAgcG9wdXBfZDkzYjkyODFiMDc4NDc5MTgwNWM0OTRhNzgwMDY0ZDMuc2V0Q29udGVudChodG1sXzNiMmI2NDE0MGJlNzQyMjM5YWE5ZWExYWRiMTNmMmZkKTsKICAgICAgICAgICAgCgogICAgICAgICAgICBjaXJjbGVfbWFya2VyX2FlOGZjYzFiYTRkNjRiZmM4NGFlOGVkYjNhM2Y4ODcxLmJpbmRQb3B1cChwb3B1cF9kOTNiOTI4MWIwNzg0NzkxODA1YzQ5NGE3ODAwNjRkMyk7CgogICAgICAgICAgICAKICAgICAgICAKICAgIAogICAgICAgICAgICB2YXIgY2lyY2xlX21hcmtlcl9lMWJjYjUxODZhMDg0NzAxYTY5OWJhYmZiNmRjMzNiZiA9IEwuY2lyY2xlTWFya2VyKAogICAgICAgICAgICAgICAgWzQwLjcxNTUzNzEwMTE2NDE2LC03NC4wMDc3MjQ1MjkyNTU2NV0sCiAgICAgICAgICAgICAgICB7CiAgImJ1YmJsaW5nTW91c2VFdmVudHMiOiB0cnVlLAogICJjb2xvciI6ICJibHVlIiwKICAiZGFzaEFycmF5IjogbnVsbCwKICAiZGFzaE9mZnNldCI6IG51bGwsCiAgImZpbGwiOiB0cnVlLAogICJmaWxsQ29sb3IiOiAiYmx1ZSIsCiAgImZpbGxPcGFjaXR5IjogMC42LAogICJmaWxsUnVsZSI6ICJldmVub2RkIiwKICAibGluZUNhcCI6ICJyb3VuZCIsCiAgImxpbmVKb2luIjogInJvdW5kIiwKICAib3BhY2l0eSI6IDEuMCwKICAicmFkaXVzIjogNSwKICAic3Ryb2tlIjogdHJ1ZSwKICAid2VpZ2h0IjogMwp9CiAgICAgICAgICAgICAgICApLmFkZFRvKG1hcF9jMTQ3MWRjMWVlYWQ0NDhhYmQ5NzUxMTRhNGEwN2I2ZCk7CiAgICAgICAgICAgIAogICAgCiAgICAgICAgICAgIHZhciBwb3B1cF9iZjNlODJjYzgwNGY0YTUxOTE5NTEwNmQ4MzRjN2IyMSA9IEwucG9wdXAoe21heFdpZHRoOiAnMzAwJ30pOwoKICAgICAgICAgICAgCiAgICAgICAgICAgICAgICB2YXIgaHRtbF9iZjg3MjEwYjBjYjI0YTNmOWNlMDA2ZGRkODU2MmMyOCA9ICQoJzxkaXYgaWQ9Imh0bWxfYmY4NzIxMGIwY2IyNGEzZjljZTAwNmRkZDg1NjJjMjgiIHN0eWxlPSJ3aWR0aDogMTAwLjAlOyBoZWlnaHQ6IDEwMC4wJTsiPkZhbGFmZWwgUmVzdGF1cmFudDwvZGl2PicpWzBdOwogICAgICAgICAgICAgICAgcG9wdXBfYmYzZTgyY2M4MDRmNGE1MTkxOTUxMDZkODM0YzdiMjEuc2V0Q29udGVudChodG1sX2JmODcyMTBiMGNiMjRhM2Y5Y2UwMDZkZGQ4NTYyYzI4KTsKICAgICAgICAgICAgCgogICAgICAgICAgICBjaXJjbGVfbWFya2VyX2UxYmNiNTE4NmEwODQ3MDFhNjk5YmFiZmI2ZGMzM2JmLmJpbmRQb3B1cChwb3B1cF9iZjNlODJjYzgwNGY0YTUxOTE5NTEwNmQ4MzRjN2IyMSk7CgogICAgICAgICAgICAKICAgICAgICAKICAgIAogICAgICAgICAgICB2YXIgY2lyY2xlX21hcmtlcl9iYWNlY2RlOTg3ZmM0NmI0YTczNzllZDM1MmFmODA1MiA9IEwuY2lyY2xlTWFya2VyKAogICAgICAgICAgICAgICAgWzQwLjcxNjM3OTg0MzE3MDcxLC03NC4wMDk2MjkzMzQ1MzQyOF0sCiAgICAgICAgICAgICAgICB7CiAgImJ1YmJsaW5nTW91c2VFdmVudHMiOiB0cnVlLAogICJjb2xvciI6ICJibHVlIiwKICAiZGFzaEFycmF5IjogbnVsbCwKICAiZGFzaE9mZnNldCI6IG51bGwsCiAgImZpbGwiOiB0cnVlLAogICJmaWxsQ29sb3IiOiAiYmx1ZSIsCiAgImZpbGxPcGFjaXR5IjogMC42LAogICJmaWxsUnVsZSI6ICJldmVub2RkIiwKICAibGluZUNhcCI6ICJyb3VuZCIsCiAgImxpbmVKb2luIjogInJvdW5kIiwKICAib3BhY2l0eSI6IDEuMCwKICAicmFkaXVzIjogNSwKICAic3Ryb2tlIjogdHJ1ZSwKICAid2VpZ2h0IjogMwp9CiAgICAgICAgICAgICAgICApLmFkZFRvKG1hcF9jMTQ3MWRjMWVlYWQ0NDhhYmQ5NzUxMTRhNGEwN2I2ZCk7CiAgICAgICAgICAgIAogICAgCiAgICAgICAgICAgIHZhciBwb3B1cF8zNDM5ZWYyMzM5NWE0NTRhYTU4OTZiYzdhNjFiYzg4MyA9IEwucG9wdXAoe21heFdpZHRoOiAnMzAwJ30pOwoKICAgICAgICAgICAgCiAgICAgICAgICAgICAgICB2YXIgaHRtbF9kZTljNmZiY2E0OTI0YjhmOTkxZGFjNzllZTEzY2MzNCA9ICQoJzxkaXYgaWQ9Imh0bWxfZGU5YzZmYmNhNDkyNGI4Zjk5MWRhYzc5ZWUxM2NjMzQiIHN0eWxlPSJ3aWR0aDogMTAwLjAlOyBoZWlnaHQ6IDEwMC4wJTsiPk5ldyBBbWVyaWNhbiBSZXN0YXVyYW50PC9kaXY+JylbMF07CiAgICAgICAgICAgICAgICBwb3B1cF8zNDM5ZWYyMzM5NWE0NTRhYTU4OTZiYzdhNjFiYzg4My5zZXRDb250ZW50KGh0bWxfZGU5YzZmYmNhNDkyNGI4Zjk5MWRhYzc5ZWUxM2NjMzQpOwogICAgICAgICAgICAKCiAgICAgICAgICAgIGNpcmNsZV9tYXJrZXJfYmFjZWNkZTk4N2ZjNDZiNGE3Mzc5ZWQzNTJhZjgwNTIuYmluZFBvcHVwKHBvcHVwXzM0MzllZjIzMzk1YTQ1NGFhNTg5NmJjN2E2MWJjODgzKTsKCiAgICAgICAgICAgIAogICAgICAgIAogICAgCiAgICAgICAgICAgIHZhciBjaXJjbGVfbWFya2VyX2M1MzliOTIyYzA1NzQyZTNiNjU2MWMyODQzNDg0MmVmID0gTC5jaXJjbGVNYXJrZXIoCiAgICAgICAgICAgICAgICBbNDAuNzE1NTc5MTU1NDIwNjA2LC03NC4wMTEzNjgyMzk1ODExOV0sCiAgICAgICAgICAgICAgICB7CiAgImJ1YmJsaW5nTW91c2VFdmVudHMiOiB0cnVlLAogICJjb2xvciI6ICJibHVlIiwKICAiZGFzaEFycmF5IjogbnVsbCwKICAiZGFzaE9mZnNldCI6IG51bGwsCiAgImZpbGwiOiB0cnVlLAogICJmaWxsQ29sb3IiOiAiYmx1ZSIsCiAgImZpbGxPcGFjaXR5IjogMC42LAogICJmaWxsUnVsZSI6ICJldmVub2RkIiwKICAibGluZUNhcCI6ICJyb3VuZCIsCiAgImxpbmVKb2luIjogInJvdW5kIiwKICAib3BhY2l0eSI6IDEuMCwKICAicmFkaXVzIjogNSwKICAic3Ryb2tlIjogdHJ1ZSwKICAid2VpZ2h0IjogMwp9CiAgICAgICAgICAgICAgICApLmFkZFRvKG1hcF9jMTQ3MWRjMWVlYWQ0NDhhYmQ5NzUxMTRhNGEwN2I2ZCk7CiAgICAgICAgICAgIAogICAgCiAgICAgICAgICAgIHZhciBwb3B1cF84YWVkNzQyYTUzMWE0OWM1OWRiNTdiNGZiMTkzMzk3MSA9IEwucG9wdXAoe21heFdpZHRoOiAnMzAwJ30pOwoKICAgICAgICAgICAgCiAgICAgICAgICAgICAgICB2YXIgaHRtbF82Njc5ZjJlNjFlMjY0NjFmODk5ZjU0OWQ5NjJjMWNjMSA9ICQoJzxkaXYgaWQ9Imh0bWxfNjY3OWYyZTYxZTI2NDYxZjg5OWY1NDlkOTYyYzFjYzEiIHN0eWxlPSJ3aWR0aDogMTAwLjAlOyBoZWlnaHQ6IDEwMC4wJTsiPkdyb2NlcnkgU3RvcmU8L2Rpdj4nKVswXTsKICAgICAgICAgICAgICAgIHBvcHVwXzhhZWQ3NDJhNTMxYTQ5YzU5ZGI1N2I0ZmIxOTMzOTcxLnNldENvbnRlbnQoaHRtbF82Njc5ZjJlNjFlMjY0NjFmODk5ZjU0OWQ5NjJjMWNjMSk7CiAgICAgICAgICAgIAoKICAgICAgICAgICAgY2lyY2xlX21hcmtlcl9jNTM5YjkyMmMwNTc0MmUzYjY1NjFjMjg0MzQ4NDJlZi5iaW5kUG9wdXAocG9wdXBfOGFlZDc0MmE1MzFhNDljNTlkYjU3YjRmYjE5MzM5NzEpOwoKICAgICAgICAgICAgCiAgICAgICAgCiAgICAKICAgICAgICAgICAgdmFyIGNpcmNsZV9tYXJrZXJfNDNmNDM3YmY4MTc5NGNhZThhMjVkOGVkNTczNDllMmMgPSBMLmNpcmNsZU1hcmtlcigKICAgICAgICAgICAgICAgIFs0MC43MTY3NTI4MTY4NzY2MzUsLTc0LjAwODU4Mzc2Mjk1MjIxXSwKICAgICAgICAgICAgICAgIHsKICAiYnViYmxpbmdNb3VzZUV2ZW50cyI6IHRydWUsCiAgImNvbG9yIjogImJsdWUiLAogICJkYXNoQXJyYXkiOiBudWxsLAogICJkYXNoT2Zmc2V0IjogbnVsbCwKICAiZmlsbCI6IHRydWUsCiAgImZpbGxDb2xvciI6ICJibHVlIiwKICAiZmlsbE9wYWNpdHkiOiAwLjYsCiAgImZpbGxSdWxlIjogImV2ZW5vZGQiLAogICJsaW5lQ2FwIjogInJvdW5kIiwKICAibGluZUpvaW4iOiAicm91bmQiLAogICJvcGFjaXR5IjogMS4wLAogICJyYWRpdXMiOiA1LAogICJzdHJva2UiOiB0cnVlLAogICJ3ZWlnaHQiOiAzCn0KICAgICAgICAgICAgICAgICkuYWRkVG8obWFwX2MxNDcxZGMxZWVhZDQ0OGFiZDk3NTExNGE0YTA3YjZkKTsKICAgICAgICAgICAgCiAgICAKICAgICAgICAgICAgdmFyIHBvcHVwXzNhMGUwNTU1ZTRkYzRkZThhNDBiODRhODllYjE4M2U0ID0gTC5wb3B1cCh7bWF4V2lkdGg6ICczMDAnfSk7CgogICAgICAgICAgICAKICAgICAgICAgICAgICAgIHZhciBodG1sXzdlNDA4MjRhMjU5YjQ2OWVhYjA5ODllNmIyNjQ2MDI0ID0gJCgnPGRpdiBpZD0iaHRtbF83ZTQwODI0YTI1OWI0NjllYWIwOTg5ZTZiMjY0NjAyNCIgc3R5bGU9IndpZHRoOiAxMDAuMCU7IGhlaWdodDogMTAwLjAlOyI+QXNpYW4gUmVzdGF1cmFudDwvZGl2PicpWzBdOwogICAgICAgICAgICAgICAgcG9wdXBfM2EwZTA1NTVlNGRjNGRlOGE0MGI4NGE4OWViMTgzZTQuc2V0Q29udGVudChodG1sXzdlNDA4MjRhMjU5YjQ2OWVhYjA5ODllNmIyNjQ2MDI0KTsKICAgICAgICAgICAgCgogICAgICAgICAgICBjaXJjbGVfbWFya2VyXzQzZjQzN2JmODE3OTRjYWU4YTI1ZDhlZDU3MzQ5ZTJjLmJpbmRQb3B1cChwb3B1cF8zYTBlMDU1NWU0ZGM0ZGU4YTQwYjg0YTg5ZWIxODNlNCk7CgogICAgICAgICAgICAKICAgICAgICAKICAgIAogICAgICAgICAgICB2YXIgY2lyY2xlX21hcmtlcl9jZWFkOGU0MDg4Yjc0YjhmOWVjOTdkOTFhMTZjMjZiYiA9IEwuY2lyY2xlTWFya2VyKAogICAgICAgICAgICAgICAgWzQwLjcxNTUwMDkyOTY1ODU5LC03NC4wMDg5NzY3NzM5MjM5NV0sCiAgICAgICAgICAgICAgICB7CiAgImJ1YmJsaW5nTW91c2VFdmVudHMiOiB0cnVlLAogICJjb2xvciI6ICJibHVlIiwKICAiZGFzaEFycmF5IjogbnVsbCwKICAiZGFzaE9mZnNldCI6IG51bGwsCiAgImZpbGwiOiB0cnVlLAogICJmaWxsQ29sb3IiOiAiYmx1ZSIsCiAgImZpbGxPcGFjaXR5IjogMC42LAogICJmaWxsUnVsZSI6ICJldmVub2RkIiwKICAibGluZUNhcCI6ICJyb3VuZCIsCiAgImxpbmVKb2luIjogInJvdW5kIiwKICAib3BhY2l0eSI6IDEuMCwKICAicmFkaXVzIjogNSwKICAic3Ryb2tlIjogdHJ1ZSwKICAid2VpZ2h0IjogMwp9CiAgICAgICAgICAgICAgICApLmFkZFRvKG1hcF9jMTQ3MWRjMWVlYWQ0NDhhYmQ5NzUxMTRhNGEwN2I2ZCk7CiAgICAgICAgICAgIAogICAgCiAgICAgICAgICAgIHZhciBwb3B1cF8zZTZlYzYxZTgzZDQ0NjllYWZhYmNhMTQ4YjM4MWM4MSA9IEwucG9wdXAoe21heFdpZHRoOiAnMzAwJ30pOwoKICAgICAgICAgICAgCiAgICAgICAgICAgICAgICB2YXIgaHRtbF82NDk5NGE2NDA1ZmE0YTVhYmZlOGU2MTI2MzI2NDM1ZCA9ICQoJzxkaXYgaWQ9Imh0bWxfNjQ5OTRhNjQwNWZhNGE1YWJmZThlNjEyNjMyNjQzNWQiIHN0eWxlPSJ3aWR0aDogMTAwLjAlOyBoZWlnaHQ6IDEwMC4wJTsiPkNvY2t0YWlsIEJhcjwvZGl2PicpWzBdOwogICAgICAgICAgICAgICAgcG9wdXBfM2U2ZWM2MWU4M2Q0NDY5ZWFmYWJjYTE0OGIzODFjODEuc2V0Q29udGVudChodG1sXzY0OTk0YTY0MDVmYTRhNWFiZmU4ZTYxMjYzMjY0MzVkKTsKICAgICAgICAgICAgCgogICAgICAgICAgICBjaXJjbGVfbWFya2VyX2NlYWQ4ZTQwODhiNzRiOGY5ZWM5N2Q5MWExNmMyNmJiLmJpbmRQb3B1cChwb3B1cF8zZTZlYzYxZTgzZDQ0NjllYWZhYmNhMTQ4YjM4MWM4MSk7CgogICAgICAgICAgICAKICAgICAgICAKICAgIAogICAgICAgICAgICB2YXIgY2lyY2xlX21hcmtlcl85NjIxZjZmZDkyYjE0YzYxOWIwNTI2ZGI1M2U1MDk0MiA9IEwuY2lyY2xlTWFya2VyKAogICAgICAgICAgICAgICAgWzQwLjcxNDA5ODYwNzI2MDQxLC03NC4wMDk2ODU3MTc5MjgzXSwKICAgICAgICAgICAgICAgIHsKICAiYnViYmxpbmdNb3VzZUV2ZW50cyI6IHRydWUsCiAgImNvbG9yIjogImJsdWUiLAogICJkYXNoQXJyYXkiOiBudWxsLAogICJkYXNoT2Zmc2V0IjogbnVsbCwKICAiZmlsbCI6IHRydWUsCiAgImZpbGxDb2xvciI6ICJibHVlIiwKICAiZmlsbE9wYWNpdHkiOiAwLjYsCiAgImZpbGxSdWxlIjogImV2ZW5vZGQiLAogICJsaW5lQ2FwIjogInJvdW5kIiwKICAibGluZUpvaW4iOiAicm91bmQiLAogICJvcGFjaXR5IjogMS4wLAogICJyYWRpdXMiOiA1LAogICJzdHJva2UiOiB0cnVlLAogICJ3ZWlnaHQiOiAzCn0KICAgICAgICAgICAgICAgICkuYWRkVG8obWFwX2MxNDcxZGMxZWVhZDQ0OGFiZDk3NTExNGE0YTA3YjZkKTsKICAgICAgICAgICAgCiAgICAKICAgICAgICAgICAgdmFyIHBvcHVwXzFiZDY1MTFmZGI2NDRkMTFiY2MyYjgwNWM0N2M1OWJhID0gTC5wb3B1cCh7bWF4V2lkdGg6ICczMDAnfSk7CgogICAgICAgICAgICAKICAgICAgICAgICAgICAgIHZhciBodG1sXzQzYzUyZTBjNThjNzQ4ZGM4YzkxYTc5OWM3NmJmMDk3ID0gJCgnPGRpdiBpZD0iaHRtbF80M2M1MmUwYzU4Yzc0OGRjOGM5MWE3OTljNzZiZjA5NyIgc3R5bGU9IndpZHRoOiAxMDAuMCU7IGhlaWdodDogMTAwLjAlOyI+R3ltPC9kaXY+JylbMF07CiAgICAgICAgICAgICAgICBwb3B1cF8xYmQ2NTExZmRiNjQ0ZDExYmNjMmI4MDVjNDdjNTliYS5zZXRDb250ZW50KGh0bWxfNDNjNTJlMGM1OGM3NDhkYzhjOTFhNzk5Yzc2YmYwOTcpOwogICAgICAgICAgICAKCiAgICAgICAgICAgIGNpcmNsZV9tYXJrZXJfOTYyMWY2ZmQ5MmIxNGM2MTliMDUyNmRiNTNlNTA5NDIuYmluZFBvcHVwKHBvcHVwXzFiZDY1MTFmZGI2NDRkMTFiY2MyYjgwNWM0N2M1OWJhKTsKCiAgICAgICAgICAgIAogICAgICAgIAogICAgCiAgICAgICAgICAgIHZhciBjaXJjbGVfbWFya2VyXzQ1NzMzMzE2NzBkMzRlZWM4ZmMxYmExMDQ4OTA3NmU2ID0gTC5jaXJjbGVNYXJrZXIoCiAgICAgICAgICAgICAgICBbNDAuNzE1OTQxMjU1NjY5MzEsLTc0LjAwODcyMDUzNTY0NDk0XSwKICAgICAgICAgICAgICAgIHsKICAiYnViYmxpbmdNb3VzZUV2ZW50cyI6IHRydWUsCiAgImNvbG9yIjogImJsdWUiLAogICJkYXNoQXJyYXkiOiBudWxsLAogICJkYXNoT2Zmc2V0IjogbnVsbCwKICAiZmlsbCI6IHRydWUsCiAgImZpbGxDb2xvciI6ICJibHVlIiwKICAiZmlsbE9wYWNpdHkiOiAwLjYsCiAgImZpbGxSdWxlIjogImV2ZW5vZGQiLAogICJsaW5lQ2FwIjogInJvdW5kIiwKICAibGluZUpvaW4iOiAicm91bmQiLAogICJvcGFjaXR5IjogMS4wLAogICJyYWRpdXMiOiA1LAogICJzdHJva2UiOiB0cnVlLAogICJ3ZWlnaHQiOiAzCn0KICAgICAgICAgICAgICAgICkuYWRkVG8obWFwX2MxNDcxZGMxZWVhZDQ0OGFiZDk3NTExNGE0YTA3YjZkKTsKICAgICAgICAgICAgCiAgICAKICAgICAgICAgICAgdmFyIHBvcHVwXzg1ZDM4NWYxZTE0MjQ3ZTJhYmYwNmZmOTUxYWMwOTZiID0gTC5wb3B1cCh7bWF4V2lkdGg6ICczMDAnfSk7CgogICAgICAgICAgICAKICAgICAgICAgICAgICAgIHZhciBodG1sX2E1NzkxNWE3ZTNhNTRmZTBiNzc1ZjU1NDdlZjk0MjgxID0gJCgnPGRpdiBpZD0iaHRtbF9hNTc5MTVhN2UzYTU0ZmUwYjc3NWY1NTQ3ZWY5NDI4MSIgc3R5bGU9IndpZHRoOiAxMDAuMCU7IGhlaWdodDogMTAwLjAlOyI+TmFpbCBTYWxvbjwvZGl2PicpWzBdOwogICAgICAgICAgICAgICAgcG9wdXBfODVkMzg1ZjFlMTQyNDdlMmFiZjA2ZmY5NTFhYzA5NmIuc2V0Q29udGVudChodG1sX2E1NzkxNWE3ZTNhNTRmZTBiNzc1ZjU1NDdlZjk0MjgxKTsKICAgICAgICAgICAgCgogICAgICAgICAgICBjaXJjbGVfbWFya2VyXzQ1NzMzMzE2NzBkMzRlZWM4ZmMxYmExMDQ4OTA3NmU2LmJpbmRQb3B1cChwb3B1cF84NWQzODVmMWUxNDI0N2UyYWJmMDZmZjk1MWFjMDk2Yik7CgogICAgICAgICAgICAKICAgICAgICAKICAgIAogICAgICAgICAgICB2YXIgY2lyY2xlX21hcmtlcl84Y2JjZTg2YTNlZDE0MjJlODhjZWViNzQ1YWE1YTgwZiA9IEwuY2lyY2xlTWFya2VyKAogICAgICAgICAgICAgICAgWzQwLjcxNjc0MDg0MTYzMzY5LC03NC4wMDg2NjY0NDM4ODkzXSwKICAgICAgICAgICAgICAgIHsKICAiYnViYmxpbmdNb3VzZUV2ZW50cyI6IHRydWUsCiAgImNvbG9yIjogImJsdWUiLAogICJkYXNoQXJyYXkiOiBudWxsLAogICJkYXNoT2Zmc2V0IjogbnVsbCwKICAiZmlsbCI6IHRydWUsCiAgImZpbGxDb2xvciI6ICJibHVlIiwKICAiZmlsbE9wYWNpdHkiOiAwLjYsCiAgImZpbGxSdWxlIjogImV2ZW5vZGQiLAogICJsaW5lQ2FwIjogInJvdW5kIiwKICAibGluZUpvaW4iOiAicm91bmQiLAogICJvcGFjaXR5IjogMS4wLAogICJyYWRpdXMiOiA1LAogICJzdHJva2UiOiB0cnVlLAogICJ3ZWlnaHQiOiAzCn0KICAgICAgICAgICAgICAgICkuYWRkVG8obWFwX2MxNDcxZGMxZWVhZDQ0OGFiZDk3NTExNGE0YTA3YjZkKTsKICAgICAgICAgICAgCiAgICAKICAgICAgICAgICAgdmFyIHBvcHVwX2VhZWYxY2Q5MDhmNDQyN2ViMWJmNmU5YTg5MGQ5YWUyID0gTC5wb3B1cCh7bWF4V2lkdGg6ICczMDAnfSk7CgogICAgICAgICAgICAKICAgICAgICAgICAgICAgIHZhciBodG1sXzM5Y2I5MzUxMzRmNTQ4OGRhODAxMWViYWZhYzBjNDE5ID0gJCgnPGRpdiBpZD0iaHRtbF8zOWNiOTM1MTM0ZjU0ODhkYTgwMTFlYmFmYWMwYzQxOSIgc3R5bGU9IndpZHRoOiAxMDAuMCU7IGhlaWdodDogMTAwLjAlOyI+Q29ja3RhaWwgQmFyPC9kaXY+JylbMF07CiAgICAgICAgICAgICAgICBwb3B1cF9lYWVmMWNkOTA4ZjQ0MjdlYjFiZjZlOWE4OTBkOWFlMi5zZXRDb250ZW50KGh0bWxfMzljYjkzNTEzNGY1NDg4ZGE4MDExZWJhZmFjMGM0MTkpOwogICAgICAgICAgICAKCiAgICAgICAgICAgIGNpcmNsZV9tYXJrZXJfOGNiY2U4NmEzZWQxNDIyZTg4Y2VlYjc0NWFhNWE4MGYuYmluZFBvcHVwKHBvcHVwX2VhZWYxY2Q5MDhmNDQyN2ViMWJmNmU5YTg5MGQ5YWUyKTsKCiAgICAgICAgICAgIAogICAgICAgIAogICAgCiAgICAgICAgICAgIHZhciBjaXJjbGVfbWFya2VyXzIyYjQ5MDBkYTJmYzQ0NmE5MWI3Yjg0ZGRkMDY2MmVmID0gTC5jaXJjbGVNYXJrZXIoCiAgICAgICAgICAgICAgICBbNDAuNzE3MDEwMTE0MDk5MDYsLTc0LjAwODA0MjQ0NTYyMjI1XSwKICAgICAgICAgICAgICAgIHsKICAiYnViYmxpbmdNb3VzZUV2ZW50cyI6IHRydWUsCiAgImNvbG9yIjogImJsdWUiLAogICJkYXNoQXJyYXkiOiBudWxsLAogICJkYXNoT2Zmc2V0IjogbnVsbCwKICAiZmlsbCI6IHRydWUsCiAgImZpbGxDb2xvciI6ICJibHVlIiwKICAiZmlsbE9wYWNpdHkiOiAwLjYsCiAgImZpbGxSdWxlIjogImV2ZW5vZGQiLAogICJsaW5lQ2FwIjogInJvdW5kIiwKICAibGluZUpvaW4iOiAicm91bmQiLAogICJvcGFjaXR5IjogMS4wLAogICJyYWRpdXMiOiA1LAogICJzdHJva2UiOiB0cnVlLAogICJ3ZWlnaHQiOiAzCn0KICAgICAgICAgICAgICAgICkuYWRkVG8obWFwX2MxNDcxZGMxZWVhZDQ0OGFiZDk3NTExNGE0YTA3YjZkKTsKICAgICAgICAgICAgCiAgICAKICAgICAgICAgICAgdmFyIHBvcHVwX2FhYTNiMzUxMzMwMjQ2YWU5ZGNiZDI1YzhkZWU2YTBkID0gTC5wb3B1cCh7bWF4V2lkdGg6ICczMDAnfSk7CgogICAgICAgICAgICAKICAgICAgICAgICAgICAgIHZhciBodG1sX2MxYWIxZmM5Y2Y3MDQ4MTNhZmQ0MWRkNGM4ZTZiZmMyID0gJCgnPGRpdiBpZD0iaHRtbF9jMWFiMWZjOWNmNzA0ODEzYWZkNDFkZDRjOGU2YmZjMiIgc3R5bGU9IndpZHRoOiAxMDAuMCU7IGhlaWdodDogMTAwLjAlOyI+RnJlbmNoIFJlc3RhdXJhbnQ8L2Rpdj4nKVswXTsKICAgICAgICAgICAgICAgIHBvcHVwX2FhYTNiMzUxMzMwMjQ2YWU5ZGNiZDI1YzhkZWU2YTBkLnNldENvbnRlbnQoaHRtbF9jMWFiMWZjOWNmNzA0ODEzYWZkNDFkZDRjOGU2YmZjMik7CiAgICAgICAgICAgIAoKICAgICAgICAgICAgY2lyY2xlX21hcmtlcl8yMmI0OTAwZGEyZmM0NDZhOTFiN2I4NGRkZDA2NjJlZi5iaW5kUG9wdXAocG9wdXBfYWFhM2IzNTEzMzAyNDZhZTlkY2JkMjVjOGRlZTZhMGQpOwoKICAgICAgICAgICAgCiAgICAgICAgCiAgICAKICAgICAgICAgICAgdmFyIGNpcmNsZV9tYXJrZXJfOTNkNmZhZDg5NmYzNDczYzk5MTM1MDExZDk2NTljMDIgPSBMLmNpcmNsZU1hcmtlcigKICAgICAgICAgICAgICAgIFs0MC43MTY3OTMwNDg1NTgwOCwtNzQuMDA4MjE5OTg4Nzg0NTddLAogICAgICAgICAgICAgICAgewogICJidWJibGluZ01vdXNlRXZlbnRzIjogdHJ1ZSwKICAiY29sb3IiOiAiYmx1ZSIsCiAgImRhc2hBcnJheSI6IG51bGwsCiAgImRhc2hPZmZzZXQiOiBudWxsLAogICJmaWxsIjogdHJ1ZSwKICAiZmlsbENvbG9yIjogImJsdWUiLAogICJmaWxsT3BhY2l0eSI6IDAuNiwKICAiZmlsbFJ1bGUiOiAiZXZlbm9kZCIsCiAgImxpbmVDYXAiOiAicm91bmQiLAogICJsaW5lSm9pbiI6ICJyb3VuZCIsCiAgIm9wYWNpdHkiOiAxLjAsCiAgInJhZGl1cyI6IDUsCiAgInN0cm9rZSI6IHRydWUsCiAgIndlaWdodCI6IDMKfQogICAgICAgICAgICAgICAgKS5hZGRUbyhtYXBfYzE0NzFkYzFlZWFkNDQ4YWJkOTc1MTE0YTRhMDdiNmQpOwogICAgICAgICAgICAKICAgIAogICAgICAgICAgICB2YXIgcG9wdXBfMGIzYzAzZWU3NTAwNDVlNjljNzU2NTk0YzJmNTllYTYgPSBMLnBvcHVwKHttYXhXaWR0aDogJzMwMCd9KTsKCiAgICAgICAgICAgIAogICAgICAgICAgICAgICAgdmFyIGh0bWxfYzk4OTIxZGQwOWQ4NGQ2ODkxOTIyNzM4NDcyYmYwOTEgPSAkKCc8ZGl2IGlkPSJodG1sX2M5ODkyMWRkMDlkODRkNjg5MTkyMjczODQ3MmJmMDkxIiBzdHlsZT0id2lkdGg6IDEwMC4wJTsgaGVpZ2h0OiAxMDAuMCU7Ij5BbWVyaWNhbiBSZXN0YXVyYW50PC9kaXY+JylbMF07CiAgICAgICAgICAgICAgICBwb3B1cF8wYjNjMDNlZTc1MDA0NWU2OWM3NTY1OTRjMmY1OWVhNi5zZXRDb250ZW50KGh0bWxfYzk4OTIxZGQwOWQ4NGQ2ODkxOTIyNzM4NDcyYmYwOTEpOwogICAgICAgICAgICAKCiAgICAgICAgICAgIGNpcmNsZV9tYXJrZXJfOTNkNmZhZDg5NmYzNDczYzk5MTM1MDExZDk2NTljMDIuYmluZFBvcHVwKHBvcHVwXzBiM2MwM2VlNzUwMDQ1ZTY5Yzc1NjU5NGMyZjU5ZWE2KTsKCiAgICAgICAgICAgIAogICAgICAgIAogICAgCiAgICAgICAgICAgIHZhciBjaXJjbGVfbWFya2VyXzJjYjkxMTNjNDA3MzRhNWJiZjVjNzI1ZTE3NWIzZDk0ID0gTC5jaXJjbGVNYXJrZXIoCiAgICAgICAgICAgICAgICBbNDAuNzE3MjI2MTcyNjM1MDEsLTc0LjAwOTQzMjk3MDEzMTAyXSwKICAgICAgICAgICAgICAgIHsKICAiYnViYmxpbmdNb3VzZUV2ZW50cyI6IHRydWUsCiAgImNvbG9yIjogImJsdWUiLAogICJkYXNoQXJyYXkiOiBudWxsLAogICJkYXNoT2Zmc2V0IjogbnVsbCwKICAiZmlsbCI6IHRydWUsCiAgImZpbGxDb2xvciI6ICJibHVlIiwKICAiZmlsbE9wYWNpdHkiOiAwLjYsCiAgImZpbGxSdWxlIjogImV2ZW5vZGQiLAogICJsaW5lQ2FwIjogInJvdW5kIiwKICAibGluZUpvaW4iOiAicm91bmQiLAogICJvcGFjaXR5IjogMS4wLAogICJyYWRpdXMiOiA1LAogICJzdHJva2UiOiB0cnVlLAogICJ3ZWlnaHQiOiAzCn0KICAgICAgICAgICAgICAgICkuYWRkVG8obWFwX2MxNDcxZGMxZWVhZDQ0OGFiZDk3NTExNGE0YTA3YjZkKTsKICAgICAgICAgICAgCiAgICAKICAgICAgICAgICAgdmFyIHBvcHVwXzU2M2UzYjM3YTAzMjRkZDA4OTQwODFlZTBiYzg3YjA3ID0gTC5wb3B1cCh7bWF4V2lkdGg6ICczMDAnfSk7CgogICAgICAgICAgICAKICAgICAgICAgICAgICAgIHZhciBodG1sXzUwYzEyNjlkOWIzMDRlNDI4NTNlY2EyNjViNzJiMzBkID0gJCgnPGRpdiBpZD0iaHRtbF81MGMxMjY5ZDliMzA0ZTQyODUzZWNhMjY1YjcyYjMwZCIgc3R5bGU9IndpZHRoOiAxMDAuMCU7IGhlaWdodDogMTAwLjAlOyI+SXRhbGlhbiBSZXN0YXVyYW50PC9kaXY+JylbMF07CiAgICAgICAgICAgICAgICBwb3B1cF81NjNlM2IzN2EwMzI0ZGQwODk0MDgxZWUwYmM4N2IwNy5zZXRDb250ZW50KGh0bWxfNTBjMTI2OWQ5YjMwNGU0Mjg1M2VjYTI2NWI3MmIzMGQpOwogICAgICAgICAgICAKCiAgICAgICAgICAgIGNpcmNsZV9tYXJrZXJfMmNiOTExM2M0MDczNGE1YmJmNWM3MjVlMTc1YjNkOTQuYmluZFBvcHVwKHBvcHVwXzU2M2UzYjM3YTAzMjRkZDA4OTQwODFlZTBiYzg3YjA3KTsKCiAgICAgICAgICAgIAogICAgICAgIAogICAgCiAgICAgICAgICAgIHZhciBjaXJjbGVfbWFya2VyXzcyYWU4YjY1ZDg3ZjRjZTg5MjU0YWNlYzAwYjQxNmIxID0gTC5jaXJjbGVNYXJrZXIoCiAgICAgICAgICAgICAgICBbNDAuNzE3Mzk0NDUyOTE2NSwtNzQuMDEwMTAzMjQ2MDcxMjVdLAogICAgICAgICAgICAgICAgewogICJidWJibGluZ01vdXNlRXZlbnRzIjogdHJ1ZSwKICAiY29sb3IiOiAiYmx1ZSIsCiAgImRhc2hBcnJheSI6IG51bGwsCiAgImRhc2hPZmZzZXQiOiBudWxsLAogICJmaWxsIjogdHJ1ZSwKICAiZmlsbENvbG9yIjogImJsdWUiLAogICJmaWxsT3BhY2l0eSI6IDAuNiwKICAiZmlsbFJ1bGUiOiAiZXZlbm9kZCIsCiAgImxpbmVDYXAiOiAicm91bmQiLAogICJsaW5lSm9pbiI6ICJyb3VuZCIsCiAgIm9wYWNpdHkiOiAxLjAsCiAgInJhZGl1cyI6IDUsCiAgInN0cm9rZSI6IHRydWUsCiAgIndlaWdodCI6IDMKfQogICAgICAgICAgICAgICAgKS5hZGRUbyhtYXBfYzE0NzFkYzFlZWFkNDQ4YWJkOTc1MTE0YTRhMDdiNmQpOwogICAgICAgICAgICAKICAgIAogICAgICAgICAgICB2YXIgcG9wdXBfZDNkMGRhNWJiODY2NGE1YThlNDY2M2YwYzJjNGEwNzYgPSBMLnBvcHVwKHttYXhXaWR0aDogJzMwMCd9KTsKCiAgICAgICAgICAgIAogICAgICAgICAgICAgICAgdmFyIGh0bWxfZTc1YjQxMTA5NzkyNDVkY2EwNTJhZjk4YzdjOTdhNWQgPSAkKCc8ZGl2IGlkPSJodG1sX2U3NWI0MTEwOTc5MjQ1ZGNhMDUyYWY5OGM3Yzk3YTVkIiBzdHlsZT0id2lkdGg6IDEwMC4wJTsgaGVpZ2h0OiAxMDAuMCU7Ij5Db2ZmZWUgU2hvcDwvZGl2PicpWzBdOwogICAgICAgICAgICAgICAgcG9wdXBfZDNkMGRhNWJiODY2NGE1YThlNDY2M2YwYzJjNGEwNzYuc2V0Q29udGVudChodG1sX2U3NWI0MTEwOTc5MjQ1ZGNhMDUyYWY5OGM3Yzk3YTVkKTsKICAgICAgICAgICAgCgogICAgICAgICAgICBjaXJjbGVfbWFya2VyXzcyYWU4YjY1ZDg3ZjRjZTg5MjU0YWNlYzAwYjQxNmIxLmJpbmRQb3B1cChwb3B1cF9kM2QwZGE1YmI4NjY0YTVhOGU0NjYzZjBjMmM0YTA3Nik7CgogICAgICAgICAgICAKICAgICAgICAKICAgIAogICAgICAgICAgICB2YXIgY2lyY2xlX21hcmtlcl82YzM1YmQ0ZGMwYTQ0YTI4YTYwZTdlZjE4NjM3ZjAwOCA9IEwuY2lyY2xlTWFya2VyKAogICAgICAgICAgICAgICAgWzQwLjcxNzA0NTk4ODUzNzA0LC03NC4wMTEwOTQ1NzAxNTk5MV0sCiAgICAgICAgICAgICAgICB7CiAgImJ1YmJsaW5nTW91c2VFdmVudHMiOiB0cnVlLAogICJjb2xvciI6ICJibHVlIiwKICAiZGFzaEFycmF5IjogbnVsbCwKICAiZGFzaE9mZnNldCI6IG51bGwsCiAgImZpbGwiOiB0cnVlLAogICJmaWxsQ29sb3IiOiAiYmx1ZSIsCiAgImZpbGxPcGFjaXR5IjogMC42LAogICJmaWxsUnVsZSI6ICJldmVub2RkIiwKICAibGluZUNhcCI6ICJyb3VuZCIsCiAgImxpbmVKb2luIjogInJvdW5kIiwKICAib3BhY2l0eSI6IDEuMCwKICAicmFkaXVzIjogNSwKICAic3Ryb2tlIjogdHJ1ZSwKICAid2VpZ2h0IjogMwp9CiAgICAgICAgICAgICAgICApLmFkZFRvKG1hcF9jMTQ3MWRjMWVlYWQ0NDhhYmQ5NzUxMTRhNGEwN2I2ZCk7CiAgICAgICAgICAgIAogICAgCiAgICAgICAgICAgIHZhciBwb3B1cF8wZTRjYTQ5MjViNTI0NTNlODcwYjlkYWQ3YzdkNjg0MSA9IEwucG9wdXAoe21heFdpZHRoOiAnMzAwJ30pOwoKICAgICAgICAgICAgCiAgICAgICAgICAgICAgICB2YXIgaHRtbF8xNjJiYzBlZjIwY2Y0MGU3YTk0ZjhjZmZiZmFkNTMwNCA9ICQoJzxkaXYgaWQ9Imh0bWxfMTYyYmMwZWYyMGNmNDBlN2E5NGY4Y2ZmYmZhZDUzMDQiIHN0eWxlPSJ3aWR0aDogMTAwLjAlOyBoZWlnaHQ6IDEwMC4wJTsiPlBsYXlncm91bmQ8L2Rpdj4nKVswXTsKICAgICAgICAgICAgICAgIHBvcHVwXzBlNGNhNDkyNWI1MjQ1M2U4NzBiOWRhZDdjN2Q2ODQxLnNldENvbnRlbnQoaHRtbF8xNjJiYzBlZjIwY2Y0MGU3YTk0ZjhjZmZiZmFkNTMwNCk7CiAgICAgICAgICAgIAoKICAgICAgICAgICAgY2lyY2xlX21hcmtlcl82YzM1YmQ0ZGMwYTQ0YTI4YTYwZTdlZjE4NjM3ZjAwOC5iaW5kUG9wdXAocG9wdXBfMGU0Y2E0OTI1YjUyNDUzZTg3MGI5ZGFkN2M3ZDY4NDEpOwoKICAgICAgICAgICAgCiAgICAgICAgCiAgICAKICAgICAgICAgICAgdmFyIGNpcmNsZV9tYXJrZXJfOGE0NzEzNWI4YjIwNGY4Nzk3MGFiOTZhNzljNThkNDYgPSBMLmNpcmNsZU1hcmtlcigKICAgICAgICAgICAgICAgIFs0MC43MTY4MDIwMzM1NzQxMjYsLTc0LjAxMDg3OTk5MzQzODcyXSwKICAgICAgICAgICAgICAgIHsKICAiYnViYmxpbmdNb3VzZUV2ZW50cyI6IHRydWUsCiAgImNvbG9yIjogImJsdWUiLAogICJkYXNoQXJyYXkiOiBudWxsLAogICJkYXNoT2Zmc2V0IjogbnVsbCwKICAiZmlsbCI6IHRydWUsCiAgImZpbGxDb2xvciI6ICJibHVlIiwKICAiZmlsbE9wYWNpdHkiOiAwLjYsCiAgImZpbGxSdWxlIjogImV2ZW5vZGQiLAogICJsaW5lQ2FwIjogInJvdW5kIiwKICAibGluZUpvaW4iOiAicm91bmQiLAogICJvcGFjaXR5IjogMS4wLAogICJyYWRpdXMiOiA1LAogICJzdHJva2UiOiB0cnVlLAogICJ3ZWlnaHQiOiAzCn0KICAgICAgICAgICAgICAgICkuYWRkVG8obWFwX2MxNDcxZGMxZWVhZDQ0OGFiZDk3NTExNGE0YTA3YjZkKTsKICAgICAgICAgICAgCiAgICAKICAgICAgICAgICAgdmFyIHBvcHVwXzQ0NjMzZGJmMGE5YzQ0MWZiNjQ3Mzg5YzQ1NTU4ZmFkID0gTC5wb3B1cCh7bWF4V2lkdGg6ICczMDAnfSk7CgogICAgICAgICAgICAKICAgICAgICAgICAgICAgIHZhciBodG1sXzkzNTVmNDY4ZDNhNjQwOTY4M2VjNjRiZmRmMDBlMjBlID0gJCgnPGRpdiBpZD0iaHRtbF85MzU1ZjQ2OGQzYTY0MDk2ODNlYzY0YmZkZjAwZTIwZSIgc3R5bGU9IndpZHRoOiAxMDAuMCU7IGhlaWdodDogMTAwLjAlOyI+RmFybWVycyBNYXJrZXQ8L2Rpdj4nKVswXTsKICAgICAgICAgICAgICAgIHBvcHVwXzQ0NjMzZGJmMGE5YzQ0MWZiNjQ3Mzg5YzQ1NTU4ZmFkLnNldENvbnRlbnQoaHRtbF85MzU1ZjQ2OGQzYTY0MDk2ODNlYzY0YmZkZjAwZTIwZSk7CiAgICAgICAgICAgIAoKICAgICAgICAgICAgY2lyY2xlX21hcmtlcl84YTQ3MTM1YjhiMjA0Zjg3OTcwYWI5NmE3OWM1OGQ0Ni5iaW5kUG9wdXAocG9wdXBfNDQ2MzNkYmYwYTljNDQxZmI2NDczODljNDU1NThmYWQpOwoKICAgICAgICAgICAgCiAgICAgICAgCiAgICAKICAgICAgICAgICAgdmFyIGNpcmNsZV9tYXJrZXJfNTRiMDQ1MTYzZjZmNDE3ZmI2NjFiNWUxZjVlNWRmZTYgPSBMLmNpcmNsZU1hcmtlcigKICAgICAgICAgICAgICAgIFs0MC43MTUwNDUxMjU1ODk5NiwtNzQuMDExNTA4NzEwMjgyMV0sCiAgICAgICAgICAgICAgICB7CiAgImJ1YmJsaW5nTW91c2VFdmVudHMiOiB0cnVlLAogICJjb2xvciI6ICJibHVlIiwKICAiZGFzaEFycmF5IjogbnVsbCwKICAiZGFzaE9mZnNldCI6IG51bGwsCiAgImZpbGwiOiB0cnVlLAogICJmaWxsQ29sb3IiOiAiYmx1ZSIsCiAgImZpbGxPcGFjaXR5IjogMC42LAogICJmaWxsUnVsZSI6ICJldmVub2RkIiwKICAibGluZUNhcCI6ICJyb3VuZCIsCiAgImxpbmVKb2luIjogInJvdW5kIiwKICAib3BhY2l0eSI6IDEuMCwKICAicmFkaXVzIjogNSwKICAic3Ryb2tlIjogdHJ1ZSwKICAid2VpZ2h0IjogMwp9CiAgICAgICAgICAgICAgICApLmFkZFRvKG1hcF9jMTQ3MWRjMWVlYWQ0NDhhYmQ5NzUxMTRhNGEwN2I2ZCk7CiAgICAgICAgICAgIAogICAgCiAgICAgICAgICAgIHZhciBwb3B1cF84MzJkNDc1MTBlMDA0MWE4OTdmMTJiMDgwMWZiZTQ2YSA9IEwucG9wdXAoe21heFdpZHRoOiAnMzAwJ30pOwoKICAgICAgICAgICAgCiAgICAgICAgICAgICAgICB2YXIgaHRtbF8zN2ZkZDc1YjQ4Njc0MDlkOTJjMmQ1NzZiYjE5YjUzNCA9ICQoJzxkaXYgaWQ9Imh0bWxfMzdmZGQ3NWI0ODY3NDA5ZDkyYzJkNTc2YmIxOWI1MzQiIHN0eWxlPSJ3aWR0aDogMTAwLjAlOyBoZWlnaHQ6IDEwMC4wJTsiPkNvZmZlZSBTaG9wPC9kaXY+JylbMF07CiAgICAgICAgICAgICAgICBwb3B1cF84MzJkNDc1MTBlMDA0MWE4OTdmMTJiMDgwMWZiZTQ2YS5zZXRDb250ZW50KGh0bWxfMzdmZGQ3NWI0ODY3NDA5ZDkyYzJkNTc2YmIxOWI1MzQpOwogICAgICAgICAgICAKCiAgICAgICAgICAgIGNpcmNsZV9tYXJrZXJfNTRiMDQ1MTYzZjZmNDE3ZmI2NjFiNWUxZjVlNWRmZTYuYmluZFBvcHVwKHBvcHVwXzgzMmQ0NzUxMGUwMDQxYTg5N2YxMmIwODAxZmJlNDZhKTsKCiAgICAgICAgICAgIAogICAgICAgIAogICAgCiAgICAgICAgICAgIHZhciBjaXJjbGVfbWFya2VyXzgxOGE3MzQ5YTFjNTQ0YzE4ZTQ3YWQ2NzE2NzE5MGNlID0gTC5jaXJjbGVNYXJrZXIoCiAgICAgICAgICAgICAgICBbNDAuNzE3MTcyNzU4MDExNjgsLTc0LjAwOTMyODY5MTI1MTE3XSwKICAgICAgICAgICAgICAgIHsKICAiYnViYmxpbmdNb3VzZUV2ZW50cyI6IHRydWUsCiAgImNvbG9yIjogImJsdWUiLAogICJkYXNoQXJyYXkiOiBudWxsLAogICJkYXNoT2Zmc2V0IjogbnVsbCwKICAiZmlsbCI6IHRydWUsCiAgImZpbGxDb2xvciI6ICJibHVlIiwKICAiZmlsbE9wYWNpdHkiOiAwLjYsCiAgImZpbGxSdWxlIjogImV2ZW5vZGQiLAogICJsaW5lQ2FwIjogInJvdW5kIiwKICAibGluZUpvaW4iOiAicm91bmQiLAogICJvcGFjaXR5IjogMS4wLAogICJyYWRpdXMiOiA1LAogICJzdHJva2UiOiB0cnVlLAogICJ3ZWlnaHQiOiAzCn0KICAgICAgICAgICAgICAgICkuYWRkVG8obWFwX2MxNDcxZGMxZWVhZDQ0OGFiZDk3NTExNGE0YTA3YjZkKTsKICAgICAgICAgICAgCiAgICAKICAgICAgICAgICAgdmFyIHBvcHVwX2ViOTU0MzI5MWY0MzRjZTFiNzgyYWFjMDI3OGIyNTkyID0gTC5wb3B1cCh7bWF4V2lkdGg6ICczMDAnfSk7CgogICAgICAgICAgICAKICAgICAgICAgICAgICAgIHZhciBodG1sXzc2ZDM3MDdmZTNiYTQ5Y2JhYzkyYjkwYzgwMWQ2NWRiID0gJCgnPGRpdiBpZD0iaHRtbF83NmQzNzA3ZmUzYmE0OWNiYWM5MmI5MGM4MDFkNjVkYiIgc3R5bGU9IndpZHRoOiAxMDAuMCU7IGhlaWdodDogMTAwLjAlOyI+UGFyazwvZGl2PicpWzBdOwogICAgICAgICAgICAgICAgcG9wdXBfZWI5NTQzMjkxZjQzNGNlMWI3ODJhYWMwMjc4YjI1OTIuc2V0Q29udGVudChodG1sXzc2ZDM3MDdmZTNiYTQ5Y2JhYzkyYjkwYzgwMWQ2NWRiKTsKICAgICAgICAgICAgCgogICAgICAgICAgICBjaXJjbGVfbWFya2VyXzgxOGE3MzQ5YTFjNTQ0YzE4ZTQ3YWQ2NzE2NzE5MGNlLmJpbmRQb3B1cChwb3B1cF9lYjk1NDMyOTFmNDM0Y2UxYjc4MmFhYzAyNzhiMjU5Mik7CgogICAgICAgICAgICAKICAgICAgICAKICAgIAogICAgICAgICAgICB2YXIgY2lyY2xlX21hcmtlcl83Y2ZlNGNlNjIzNTU0MjMxYjg2YmM1ZmQwY2E4MGNhYSA9IEwuY2lyY2xlTWFya2VyKAogICAgICAgICAgICAgICAgWzQwLjcxNTY3NDU3NDgxMzk3NCwtNzQuMDA5MDQ2NjExNjA4OTJdLAogICAgICAgICAgICAgICAgewogICJidWJibGluZ01vdXNlRXZlbnRzIjogdHJ1ZSwKICAiY29sb3IiOiAiYmx1ZSIsCiAgImRhc2hBcnJheSI6IG51bGwsCiAgImRhc2hPZmZzZXQiOiBudWxsLAogICJmaWxsIjogdHJ1ZSwKICAiZmlsbENvbG9yIjogImJsdWUiLAogICJmaWxsT3BhY2l0eSI6IDAuNiwKICAiZmlsbFJ1bGUiOiAiZXZlbm9kZCIsCiAgImxpbmVDYXAiOiAicm91bmQiLAogICJsaW5lSm9pbiI6ICJyb3VuZCIsCiAgIm9wYWNpdHkiOiAxLjAsCiAgInJhZGl1cyI6IDUsCiAgInN0cm9rZSI6IHRydWUsCiAgIndlaWdodCI6IDMKfQogICAgICAgICAgICAgICAgKS5hZGRUbyhtYXBfYzE0NzFkYzFlZWFkNDQ4YWJkOTc1MTE0YTRhMDdiNmQpOwogICAgICAgICAgICAKICAgIAogICAgICAgICAgICB2YXIgcG9wdXBfNWFiZDAxMTI1YjE2NGQ0Mjg1OGM5NTIyNmIxMmYyY2EgPSBMLnBvcHVwKHttYXhXaWR0aDogJzMwMCd9KTsKCiAgICAgICAgICAgIAogICAgICAgICAgICAgICAgdmFyIGh0bWxfZjI2OTlkNDhlYmVhNDk2OGIxOTY1MTNiNGM0YTcwMmEgPSAkKCc8ZGl2IGlkPSJodG1sX2YyNjk5ZDQ4ZWJlYTQ5NjhiMTk2NTEzYjRjNGE3MDJhIiBzdHlsZT0id2lkdGg6IDEwMC4wJTsgaGVpZ2h0OiAxMDAuMCU7Ij5Ib3RlbDwvZGl2PicpWzBdOwogICAgICAgICAgICAgICAgcG9wdXBfNWFiZDAxMTI1YjE2NGQ0Mjg1OGM5NTIyNmIxMmYyY2Euc2V0Q29udGVudChodG1sX2YyNjk5ZDQ4ZWJlYTQ5NjhiMTk2NTEzYjRjNGE3MDJhKTsKICAgICAgICAgICAgCgogICAgICAgICAgICBjaXJjbGVfbWFya2VyXzdjZmU0Y2U2MjM1NTQyMzFiODZiYzVmZDBjYTgwY2FhLmJpbmRQb3B1cChwb3B1cF81YWJkMDExMjViMTY0ZDQyODU4Yzk1MjI2YjEyZjJjYSk7CgogICAgICAgICAgICAKICAgICAgICAKICAgIAogICAgICAgICAgICB2YXIgY2lyY2xlX21hcmtlcl84M2RjZTRmMzViNWM0MjJlOWMzMDBhYTc0NjVlZTkwMiA9IEwuY2lyY2xlTWFya2VyKAogICAgICAgICAgICAgICAgWzQwLjcxNTU4LC03NC4wMDk4NV0sCiAgICAgICAgICAgICAgICB7CiAgImJ1YmJsaW5nTW91c2VFdmVudHMiOiB0cnVlLAogICJjb2xvciI6ICJibHVlIiwKICAiZGFzaEFycmF5IjogbnVsbCwKICAiZGFzaE9mZnNldCI6IG51bGwsCiAgImZpbGwiOiB0cnVlLAogICJmaWxsQ29sb3IiOiAiYmx1ZSIsCiAgImZpbGxPcGFjaXR5IjogMC42LAogICJmaWxsUnVsZSI6ICJldmVub2RkIiwKICAibGluZUNhcCI6ICJyb3VuZCIsCiAgImxpbmVKb2luIjogInJvdW5kIiwKICAib3BhY2l0eSI6IDEuMCwKICAicmFkaXVzIjogNSwKICAic3Ryb2tlIjogdHJ1ZSwKICAid2VpZ2h0IjogMwp9CiAgICAgICAgICAgICAgICApLmFkZFRvKG1hcF9jMTQ3MWRjMWVlYWQ0NDhhYmQ5NzUxMTRhNGEwN2I2ZCk7CiAgICAgICAgICAgIAogICAgCiAgICAgICAgICAgIHZhciBwb3B1cF9iZWYyZGI1NTMxNjY0YjZjOTE0NDVhNDRlZTgzZGZkNSA9IEwucG9wdXAoe21heFdpZHRoOiAnMzAwJ30pOwoKICAgICAgICAgICAgCiAgICAgICAgICAgICAgICB2YXIgaHRtbF85NWY1NjdhODEyNjQ0OGY3YmQ2ZTgwY2NmMDhmMTg1YiA9ICQoJzxkaXYgaWQ9Imh0bWxfOTVmNTY3YTgxMjY0NDhmN2JkNmU4MGNjZjA4ZjE4NWIiIHN0eWxlPSJ3aWR0aDogMTAwLjAlOyBoZWlnaHQ6IDEwMC4wJTsiPkJhZ2VsIFNob3A8L2Rpdj4nKVswXTsKICAgICAgICAgICAgICAgIHBvcHVwX2JlZjJkYjU1MzE2NjRiNmM5MTQ0NWE0NGVlODNkZmQ1LnNldENvbnRlbnQoaHRtbF85NWY1NjdhODEyNjQ0OGY3YmQ2ZTgwY2NmMDhmMTg1Yik7CiAgICAgICAgICAgIAoKICAgICAgICAgICAgY2lyY2xlX21hcmtlcl84M2RjZTRmMzViNWM0MjJlOWMzMDBhYTc0NjVlZTkwMi5iaW5kUG9wdXAocG9wdXBfYmVmMmRiNTUzMTY2NGI2YzkxNDQ1YTQ0ZWU4M2RmZDUpOwoKICAgICAgICAgICAgCiAgICAgICAgCiAgICAKICAgICAgICAgICAgdmFyIGNpcmNsZV9tYXJrZXJfZWY2ZGRiNWRkMjA1NGEwNDgzNTEyN2Y5ODVjNWQ2ZTggPSBMLmNpcmNsZU1hcmtlcigKICAgICAgICAgICAgICAgIFs0MC43MTI3NTI1MTc3MTQ4NSwtNzQuMDA4NzMzNTU2MDE1NzFdLAogICAgICAgICAgICAgICAgewogICJidWJibGluZ01vdXNlRXZlbnRzIjogdHJ1ZSwKICAiY29sb3IiOiAiYmx1ZSIsCiAgImRhc2hBcnJheSI6IG51bGwsCiAgImRhc2hPZmZzZXQiOiBudWxsLAogICJmaWxsIjogdHJ1ZSwKICAiZmlsbENvbG9yIjogImJsdWUiLAogICJmaWxsT3BhY2l0eSI6IDAuNiwKICAiZmlsbFJ1bGUiOiAiZXZlbm9kZCIsCiAgImxpbmVDYXAiOiAicm91bmQiLAogICJsaW5lSm9pbiI6ICJyb3VuZCIsCiAgIm9wYWNpdHkiOiAxLjAsCiAgInJhZGl1cyI6IDUsCiAgInN0cm9rZSI6IHRydWUsCiAgIndlaWdodCI6IDMKfQogICAgICAgICAgICAgICAgKS5hZGRUbyhtYXBfYzE0NzFkYzFlZWFkNDQ4YWJkOTc1MTE0YTRhMDdiNmQpOwogICAgICAgICAgICAKICAgIAogICAgICAgICAgICB2YXIgcG9wdXBfZDgxYjBkMTI0OGY3NDQyN2ExMDllMDQ4OWIyNWJjYjIgPSBMLnBvcHVwKHttYXhXaWR0aDogJzMwMCd9KTsKCiAgICAgICAgICAgIAogICAgICAgICAgICAgICAgdmFyIGh0bWxfZjAxZjFlZmNmYjdkNDgxZjgxNmNkZWI4NjMyYWU4NTIgPSAkKCc8ZGl2IGlkPSJodG1sX2YwMWYxZWZjZmI3ZDQ4MWY4MTZjZGViODYzMmFlODUyIiBzdHlsZT0id2lkdGg6IDEwMC4wJTsgaGVpZ2h0OiAxMDAuMCU7Ij5HeW0gLyBGaXRuZXNzIENlbnRlcjwvZGl2PicpWzBdOwogICAgICAgICAgICAgICAgcG9wdXBfZDgxYjBkMTI0OGY3NDQyN2ExMDllMDQ4OWIyNWJjYjIuc2V0Q29udGVudChodG1sX2YwMWYxZWZjZmI3ZDQ4MWY4MTZjZGViODYzMmFlODUyKTsKICAgICAgICAgICAgCgogICAgICAgICAgICBjaXJjbGVfbWFya2VyX2VmNmRkYjVkZDIwNTRhMDQ4MzUxMjdmOTg1YzVkNmU4LmJpbmRQb3B1cChwb3B1cF9kODFiMGQxMjQ4Zjc0NDI3YTEwOWUwNDg5YjI1YmNiMik7CgogICAgICAgICAgICAKICAgICAgICAKICAgIAogICAgICAgICAgICB2YXIgY2lyY2xlX21hcmtlcl9mY2FkOTY2YzFkMjU0MDQxYTBjOGM5ZWYzYTk4MzhmOSA9IEwuY2lyY2xlTWFya2VyKAogICAgICAgICAgICAgICAgWzQwLjcxMjYxMjQ2NTAxOTgzLC03NC4wMDkzODAzMjA4NzYyOF0sCiAgICAgICAgICAgICAgICB7CiAgImJ1YmJsaW5nTW91c2VFdmVudHMiOiB0cnVlLAogICJjb2xvciI6ICJibHVlIiwKICAiZGFzaEFycmF5IjogbnVsbCwKICAiZGFzaE9mZnNldCI6IG51bGwsCiAgImZpbGwiOiB0cnVlLAogICJmaWxsQ29sb3IiOiAiYmx1ZSIsCiAgImZpbGxPcGFjaXR5IjogMC42LAogICJmaWxsUnVsZSI6ICJldmVub2RkIiwKICAibGluZUNhcCI6ICJyb3VuZCIsCiAgImxpbmVKb2luIjogInJvdW5kIiwKICAib3BhY2l0eSI6IDEuMCwKICAicmFkaXVzIjogNSwKICAic3Ryb2tlIjogdHJ1ZSwKICAid2VpZ2h0IjogMwp9CiAgICAgICAgICAgICAgICApLmFkZFRvKG1hcF9jMTQ3MWRjMWVlYWQ0NDhhYmQ5NzUxMTRhNGEwN2I2ZCk7CiAgICAgICAgICAgIAogICAgCiAgICAgICAgICAgIHZhciBwb3B1cF9lNzBkNDI5MjQ4MzY0NTVjYmUzNTdkNGQyN2M1ZWU1NyA9IEwucG9wdXAoe21heFdpZHRoOiAnMzAwJ30pOwoKICAgICAgICAgICAgCiAgICAgICAgICAgICAgICB2YXIgaHRtbF83NjBjNmViOTA3MTU0MDE3ODg2YTg0ODU1NmYzNGYyNyA9ICQoJzxkaXYgaWQ9Imh0bWxfNzYwYzZlYjkwNzE1NDAxNzg4NmE4NDg1NTZmMzRmMjciIHN0eWxlPSJ3aWR0aDogMTAwLjAlOyBoZWlnaHQ6IDEwMC4wJTsiPkhvdGVsPC9kaXY+JylbMF07CiAgICAgICAgICAgICAgICBwb3B1cF9lNzBkNDI5MjQ4MzY0NTVjYmUzNTdkNGQyN2M1ZWU1Ny5zZXRDb250ZW50KGh0bWxfNzYwYzZlYjkwNzE1NDAxNzg4NmE4NDg1NTZmMzRmMjcpOwogICAgICAgICAgICAKCiAgICAgICAgICAgIGNpcmNsZV9tYXJrZXJfZmNhZDk2NmMxZDI1NDA0MWEwYzhjOWVmM2E5ODM4ZjkuYmluZFBvcHVwKHBvcHVwX2U3MGQ0MjkyNDgzNjQ1NWNiZTM1N2Q0ZDI3YzVlZTU3KTsKCiAgICAgICAgICAgIAogICAgICAgIAogICAgCiAgICAgICAgICAgIHZhciBjaXJjbGVfbWFya2VyX2FlMTY0ZDBjMjM2YzQzNzQ4MGI0MTc1YzMzNDFmOTcyID0gTC5jaXJjbGVNYXJrZXIoCiAgICAgICAgICAgICAgICBbNDAuNzE0NTM3NDMxMTcwNDg0LC03NC4wMDU5OTg1MjYxMTU5Ml0sCiAgICAgICAgICAgICAgICB7CiAgImJ1YmJsaW5nTW91c2VFdmVudHMiOiB0cnVlLAogICJjb2xvciI6ICJibHVlIiwKICAiZGFzaEFycmF5IjogbnVsbCwKICAiZGFzaE9mZnNldCI6IG51bGwsCiAgImZpbGwiOiB0cnVlLAogICJmaWxsQ29sb3IiOiAiYmx1ZSIsCiAgImZpbGxPcGFjaXR5IjogMC42LAogICJmaWxsUnVsZSI6ICJldmVub2RkIiwKICAibGluZUNhcCI6ICJyb3VuZCIsCiAgImxpbmVKb2luIjogInJvdW5kIiwKICAib3BhY2l0eSI6IDEuMCwKICAicmFkaXVzIjogNSwKICAic3Ryb2tlIjogdHJ1ZSwKICAid2VpZ2h0IjogMwp9CiAgICAgICAgICAgICAgICApLmFkZFRvKG1hcF9jMTQ3MWRjMWVlYWQ0NDhhYmQ5NzUxMTRhNGEwN2I2ZCk7CiAgICAgICAgICAgIAogICAgCiAgICAgICAgICAgIHZhciBwb3B1cF9iMTJlMTZjNDFiMTA0NzEyYTEyMTgxODIxZDFhMmZjMiA9IEwucG9wdXAoe21heFdpZHRoOiAnMzAwJ30pOwoKICAgICAgICAgICAgCiAgICAgICAgICAgICAgICB2YXIgaHRtbF9lYTY4OTBjNDU0YTQ0OTA2YmIxZjI1NGE2ZTQxYjU2MCA9ICQoJzxkaXYgaWQ9Imh0bWxfZWE2ODkwYzQ1NGE0NDkwNmJiMWYyNTRhNmU0MWI1NjAiIHN0eWxlPSJ3aWR0aDogMTAwLjAlOyBoZWlnaHQ6IDEwMC4wJTsiPkd5bTwvZGl2PicpWzBdOwogICAgICAgICAgICAgICAgcG9wdXBfYjEyZTE2YzQxYjEwNDcxMmExMjE4MTgyMWQxYTJmYzIuc2V0Q29udGVudChodG1sX2VhNjg5MGM0NTRhNDQ5MDZiYjFmMjU0YTZlNDFiNTYwKTsKICAgICAgICAgICAgCgogICAgICAgICAgICBjaXJjbGVfbWFya2VyX2FlMTY0ZDBjMjM2YzQzNzQ4MGI0MTc1YzMzNDFmOTcyLmJpbmRQb3B1cChwb3B1cF9iMTJlMTZjNDFiMTA0NzEyYTEyMTgxODIxZDFhMmZjMik7CgogICAgICAgICAgICAKICAgICAgICAKICAgIAogICAgICAgICAgICB2YXIgY2lyY2xlX21hcmtlcl82NDVkZjA1NWFmZTE0ZjQyYmRlMzdlZDUwZmYxMGQ3NSA9IEwuY2lyY2xlTWFya2VyKAogICAgICAgICAgICAgICAgWzQwLjcxNjc1MTc2MTMwNzI0LC03NC4wMDU3MTE1MDg1NTQ1N10sCiAgICAgICAgICAgICAgICB7CiAgImJ1YmJsaW5nTW91c2VFdmVudHMiOiB0cnVlLAogICJjb2xvciI6ICJibHVlIiwKICAiZGFzaEFycmF5IjogbnVsbCwKICAiZGFzaE9mZnNldCI6IG51bGwsCiAgImZpbGwiOiB0cnVlLAogICJmaWxsQ29sb3IiOiAiYmx1ZSIsCiAgImZpbGxPcGFjaXR5IjogMC42LAogICJmaWxsUnVsZSI6ICJldmVub2RkIiwKICAibGluZUNhcCI6ICJyb3VuZCIsCiAgImxpbmVKb2luIjogInJvdW5kIiwKICAib3BhY2l0eSI6IDEuMCwKICAicmFkaXVzIjogNSwKICAic3Ryb2tlIjogdHJ1ZSwKICAid2VpZ2h0IjogMwp9CiAgICAgICAgICAgICAgICApLmFkZFRvKG1hcF9jMTQ3MWRjMWVlYWQ0NDhhYmQ5NzUxMTRhNGEwN2I2ZCk7CiAgICAgICAgICAgIAogICAgCiAgICAgICAgICAgIHZhciBwb3B1cF8zZTRjMjkxZmQxMmY0YjVkYmIyNjRlZjMyMDQ3ZDI1ZCA9IEwucG9wdXAoe21heFdpZHRoOiAnMzAwJ30pOwoKICAgICAgICAgICAgCiAgICAgICAgICAgICAgICB2YXIgaHRtbF84OGIxYTQyZTAzNzY0NTdiYmMyZmQyYTgwOWExOWIxYiA9ICQoJzxkaXYgaWQ9Imh0bWxfODhiMWE0MmUwMzc2NDU3YmJjMmZkMmE4MDlhMTliMWIiIHN0eWxlPSJ3aWR0aDogMTAwLjAlOyBoZWlnaHQ6IDEwMC4wJTsiPk1vbGVjdWxhciBHYXN0cm9ub215IFJlc3RhdXJhbnQ8L2Rpdj4nKVswXTsKICAgICAgICAgICAgICAgIHBvcHVwXzNlNGMyOTFmZDEyZjRiNWRiYjI2NGVmMzIwNDdkMjVkLnNldENvbnRlbnQoaHRtbF84OGIxYTQyZTAzNzY0NTdiYmMyZmQyYTgwOWExOWIxYik7CiAgICAgICAgICAgIAoKICAgICAgICAgICAgY2lyY2xlX21hcmtlcl82NDVkZjA1NWFmZTE0ZjQyYmRlMzdlZDUwZmYxMGQ3NS5iaW5kUG9wdXAocG9wdXBfM2U0YzI5MWZkMTJmNGI1ZGJiMjY0ZWYzMjA0N2QyNWQpOwoKICAgICAgICAgICAgCiAgICAgICAgCiAgICAKICAgICAgICAgICAgdmFyIGNpcmNsZV9tYXJrZXJfNjc4NzljMTQ4YmE2NDRlNjkwMjJkYjQ3NWRjMzJiNWEgPSBMLmNpcmNsZU1hcmtlcigKICAgICAgICAgICAgICAgIFs0MC43MTQ5ODk3NTMwNjY1MiwtNzQuMDA1NTI5NzU4MjYyNzhdLAogICAgICAgICAgICAgICAgewogICJidWJibGluZ01vdXNlRXZlbnRzIjogdHJ1ZSwKICAiY29sb3IiOiAiYmx1ZSIsCiAgImRhc2hBcnJheSI6IG51bGwsCiAgImRhc2hPZmZzZXQiOiBudWxsLAogICJmaWxsIjogdHJ1ZSwKICAiZmlsbENvbG9yIjogImJsdWUiLAogICJmaWxsT3BhY2l0eSI6IDAuNiwKICAiZmlsbFJ1bGUiOiAiZXZlbm9kZCIsCiAgImxpbmVDYXAiOiAicm91bmQiLAogICJsaW5lSm9pbiI6ICJyb3VuZCIsCiAgIm9wYWNpdHkiOiAxLjAsCiAgInJhZGl1cyI6IDUsCiAgInN0cm9rZSI6IHRydWUsCiAgIndlaWdodCI6IDMKfQogICAgICAgICAgICAgICAgKS5hZGRUbyhtYXBfYzE0NzFkYzFlZWFkNDQ4YWJkOTc1MTE0YTRhMDdiNmQpOwogICAgICAgICAgICAKICAgIAogICAgICAgICAgICB2YXIgcG9wdXBfNjM5ZDNkMzRmMzVjNDAzMzg5NmM5YjMxODgxYWExZjggPSBMLnBvcHVwKHttYXhXaWR0aDogJzMwMCd9KTsKCiAgICAgICAgICAgIAogICAgICAgICAgICAgICAgdmFyIGh0bWxfZGY0YWFmY2Y2M2I4NDkyMGFlYWI4MmNlYWM1YWU2YTIgPSAkKCc8ZGl2IGlkPSJodG1sX2RmNGFhZmNmNjNiODQ5MjBhZWFiODJjZWFjNWFlNmEyIiBzdHlsZT0id2lkdGg6IDEwMC4wJTsgaGVpZ2h0OiAxMDAuMCU7Ij5Nb251bWVudCAvIExhbmRtYXJrPC9kaXY+JylbMF07CiAgICAgICAgICAgICAgICBwb3B1cF82MzlkM2QzNGYzNWM0MDMzODk2YzliMzE4ODFhYTFmOC5zZXRDb250ZW50KGh0bWxfZGY0YWFmY2Y2M2I4NDkyMGFlYWI4MmNlYWM1YWU2YTIpOwogICAgICAgICAgICAKCiAgICAgICAgICAgIGNpcmNsZV9tYXJrZXJfNjc4NzljMTQ4YmE2NDRlNjkwMjJkYjQ3NWRjMzJiNWEuYmluZFBvcHVwKHBvcHVwXzYzOWQzZDM0ZjM1YzQwMzM4OTZjOWIzMTg4MWFhMWY4KTsKCiAgICAgICAgICAgIAogICAgICAgIAo8L3NjcmlwdD4= onload=\"this.contentDocument.open();this.contentDocument.write(atob(this.getAttribute('data-html')));this.contentDocument.close();\" allowfullscreen webkitallowfullscreen mozallowfullscreen></iframe></div></div>",
                        "text/plain": "<folium.folium.Map at 0x7f128d667f60>"
                    },
                    "execution_count": 35,
                    "metadata": {},
                    "output_type": "execute_result"
                }
            ],
            "source": "venues_map = folium.Map(location=[latitude, longitude], zoom_start=15) # generate map centred around Ecco\n\n\n# add Ecco as a red circle mark\nfolium.features.CircleMarker(\n    [latitude, longitude],\n    radius=10,\n    popup='Ecco',\n    fill=True,\n    color='red',\n    fill_color='red',\n    fill_opacity=0.6\n    ).add_to(venues_map)\n\n\n# add popular spots to the map as blue circle markers\nfor lat, lng, label in zip(dataframe_filtered.lat, dataframe_filtered.lng, dataframe_filtered.categories):\n    folium.features.CircleMarker(\n        [lat, lng],\n        radius=5,\n        popup=label,\n        fill=True,\n        color='blue',\n        fill_color='blue',\n        fill_opacity=0.6\n        ).add_to(venues_map)\n    \n    \n# display map\nvenues_map"
        },
        {
            "cell_type": "markdown",
            "metadata": {
                "button": false,
                "new_sheet": false,
                "run_control": {
                    "read_only": false
                }
            },
            "source": "   "
        },
        {
            "cell_type": "markdown",
            "metadata": {
                "button": false,
                "new_sheet": false,
                "run_control": {
                    "read_only": false
                }
            },
            "source": "<a id=\"item5\"></a>"
        },
        {
            "cell_type": "markdown",
            "metadata": {
                "button": false,
                "new_sheet": false,
                "run_control": {
                    "read_only": false
                }
            },
            "source": "## 5. Explore Trending Venues\n> `https://api.foursquare.com/v2/venues/`**trending**`?client_id=`**CLIENT_ID**`&client_secret=`**CLIENT_SECRET**`&ll=`**LATITUDE**`,`**LONGITUDE**`&v=`**VERSION**"
        },
        {
            "cell_type": "markdown",
            "metadata": {
                "button": false,
                "new_sheet": false,
                "run_control": {
                    "read_only": false
                }
            },
            "source": "#### Now, instead of simply exploring the area around Ecco, you are interested in knowing the venues that are trending at the time you are done with your lunch, meaning the places with the highest foot traffic. So let's do that and get the trending venues around Ecco."
        },
        {
            "cell_type": "code",
            "execution_count": 36,
            "metadata": {
                "button": false,
                "jupyter": {
                    "outputs_hidden": false
                },
                "new_sheet": false,
                "run_control": {
                    "read_only": false
                }
            },
            "outputs": [
                {
                    "data": {
                        "text/plain": "{'meta': {'code': 200, 'requestId': '5eff5eea39be6735844fe356'},\n 'response': {'venues': []}}"
                    },
                    "execution_count": 36,
                    "metadata": {},
                    "output_type": "execute_result"
                }
            ],
            "source": "# define URL\nurl = 'https://api.foursquare.com/v2/venues/trending?client_id={}&client_secret={}&ll={},{}&v={}'.format(CLIENT_ID, CLIENT_SECRET, latitude, longitude, VERSION)\n\n# send GET request and get trending venues\nresults = requests.get(url).json()\nresults"
        },
        {
            "cell_type": "markdown",
            "metadata": {
                "button": false,
                "new_sheet": false,
                "run_control": {
                    "read_only": false
                }
            },
            "source": "### Check if any venues are trending at this time"
        },
        {
            "cell_type": "code",
            "execution_count": 37,
            "metadata": {
                "button": false,
                "new_sheet": false,
                "run_control": {
                    "read_only": false
                }
            },
            "outputs": [],
            "source": "if len(results['response']['venues']) == 0:\n    trending_venues_df = 'No trending venues are available at the moment!'\n    \nelse:\n    trending_venues = results['response']['venues']\n    trending_venues_df = json_normalize(trending_venues)\n\n    # filter columns\n    columns_filtered = ['name', 'categories'] + ['location.distance', 'location.city', 'location.postalCode', 'location.state', 'location.country', 'location.lat', 'location.lng']\n    trending_venues_df = trending_venues_df.loc[:, columns_filtered]\n\n    # filter the category for each row\n    trending_venues_df['categories'] = trending_venues_df.apply(get_category_type, axis=1)"
        },
        {
            "cell_type": "code",
            "execution_count": 38,
            "metadata": {
                "button": false,
                "jupyter": {
                    "outputs_hidden": false
                },
                "new_sheet": false,
                "run_control": {
                    "read_only": false
                }
            },
            "outputs": [
                {
                    "data": {
                        "text/plain": "'No trending venues are available at the moment!'"
                    },
                    "execution_count": 38,
                    "metadata": {},
                    "output_type": "execute_result"
                }
            ],
            "source": "# display trending venues\ntrending_venues_df"
        },
        {
            "cell_type": "markdown",
            "metadata": {
                "button": false,
                "new_sheet": false,
                "run_control": {
                    "read_only": false
                }
            },
            "source": "Now, depending on when you run the above code, you might get different venues since the venues with the highest foot traffic are fetched live. "
        },
        {
            "cell_type": "markdown",
            "metadata": {
                "button": false,
                "new_sheet": false,
                "run_control": {
                    "read_only": false
                }
            },
            "source": "### Visualize trending venues"
        },
        {
            "cell_type": "code",
            "execution_count": 39,
            "metadata": {
                "button": false,
                "jupyter": {
                    "outputs_hidden": false
                },
                "new_sheet": false,
                "run_control": {
                    "read_only": false
                }
            },
            "outputs": [],
            "source": "if len(results['response']['venues']) == 0:\n    venues_map = 'Cannot generate visual as no trending venues are available at the moment!'\n\nelse:\n    venues_map = folium.Map(location=[latitude, longitude], zoom_start=15) # generate map centred around Ecco\n\n\n    # add Ecco as a red circle mark\n    folium.features.CircleMarker(\n        [latitude, longitude],\n        radius=10,\n        popup='Ecco',\n        fill=True,\n        color='red',\n        fill_color='red',\n        fill_opacity=0.6\n    ).add_to(venues_map)\n\n\n    # add the trending venues as blue circle markers\n    for lat, lng, label in zip(trending_venues_df['location.lat'], trending_venues_df['location.lng'], trending_venues_df['name']):\n        folium.features.CircleMarker(\n            [lat, lng],\n            radius=5,\n            poup=label,\n            fill=True,\n            color='blue',\n            fill_color='blue',\n            fill_opacity=0.6\n        ).add_to(venues_map)"
        },
        {
            "cell_type": "code",
            "execution_count": 40,
            "metadata": {
                "button": false,
                "jupyter": {
                    "outputs_hidden": false
                },
                "new_sheet": false,
                "run_control": {
                    "read_only": false
                }
            },
            "outputs": [
                {
                    "data": {
                        "text/plain": "'Cannot generate visual as no trending venues are available at the moment!'"
                    },
                    "execution_count": 40,
                    "metadata": {},
                    "output_type": "execute_result"
                }
            ],
            "source": "# display map\nvenues_map"
        },
        {
            "cell_type": "markdown",
            "metadata": {
                "button": false,
                "new_sheet": false,
                "run_control": {
                    "read_only": false
                }
            },
            "source": "<a id=\"item6\"></a>"
        },
        {
            "cell_type": "markdown",
            "metadata": {
                "button": false,
                "new_sheet": false,
                "run_control": {
                    "read_only": false
                }
            },
            "source": "   "
        },
        {
            "cell_type": "markdown",
            "metadata": {
                "button": false,
                "new_sheet": false,
                "run_control": {
                    "read_only": false
                }
            },
            "source": "### Thank you for completing this lab!\n\nThis notebook was created by [Alex Aklson](https://www.linkedin.com/in/aklson/). I hope you found this lab interesting and educational. Feel free to contact me if you have any questions!"
        },
        {
            "cell_type": "markdown",
            "metadata": {
                "button": false,
                "new_sheet": false,
                "run_control": {
                    "read_only": false
                }
            },
            "source": "This notebook is part of a course on **Coursera** called *Applied Data Science Capstone*. If you accessed this notebook outside the course, you can take this course online by clicking [here](http://cocl.us/DP0701EN_Coursera_Week2_LAB1)."
        },
        {
            "cell_type": "markdown",
            "metadata": {
                "button": false,
                "new_sheet": false,
                "run_control": {
                    "read_only": false
                }
            },
            "source": "<hr>\nCopyright &copy; 2018 [Cognitive Class](https://cognitiveclass.ai/?utm_source=bducopyrightlink&utm_medium=dswb&utm_campaign=bdu). This notebook and its source code are released under the terms of the [MIT License](https://bigdatauniversity.com/mit-license/)."
        }
    ],
    "metadata": {
        "kernelspec": {
            "display_name": "Python 3.6",
            "language": "python",
            "name": "python3"
        },
        "language_info": {
            "codemirror_mode": {
                "name": "ipython",
                "version": 3
            },
            "file_extension": ".py",
            "mimetype": "text/x-python",
            "name": "python",
            "nbconvert_exporter": "python",
            "pygments_lexer": "ipython3",
            "version": "3.6.9"
        },
        "widgets": {
            "state": {},
            "version": "1.1.2"
        }
    },
    "nbformat": 4,
    "nbformat_minor": 4
}
