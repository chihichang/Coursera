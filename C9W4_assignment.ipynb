{
 "cells": [
  {
   "cell_type": "markdown",
   "metadata": {},
   "source": [
    "#### Coursera: IBM Data Science Professional Certificate <br> Course 9: Applied Data Science Capstone <br> Week 4 peer-graded assignment"
   ]
  },
  {
   "cell_type": "markdown",
   "metadata": {},
   "source": [
    "# Landing Sites in London: <br> Recommendation for Emerging Top Fashion and Jewellery Houses\n"
   ]
  },
  {
   "cell_type": "markdown",
   "metadata": {},
   "source": [
    "## 1. Business Problem"
   ]
  },
  {
   "cell_type": "markdown",
   "metadata": {},
   "source": [
    "When a brand starts to rise in the industry and wishes to expand its business by reaching new clients, one thing they commonly do is to establish new physical shops in metropolises. In fashion or jewellery industry, the destinations are typically metropolises in Europe or North America, such as London, Paris, Milan and New York. \n",
    "\n",
    "This study aims to suggest a list of landing sites in London for emerging luxurious fashion and jewellery houses (FJHs) planning to enter the London market as their first European base. These newly-established FJHs share the following characters:\n",
    "\n",
    "1. They define themselves as niche brands in the industry.\n",
    "2. Their business model operates on a qualitative producion strategy.\n",
    "3. They target only the first 0.5-1% customers in the market.\n",
    "4. They provide personalised rather than one-fit-all services.\n",
    "\n",
    "Choosing a suitable location to commence the business in a new market is crucially important for these FJHs. Geographically, it has to be easily accessible to their targeted clientele. From a marketing and branding perspective, the venue selection also suggests a brand's image and (self-)position in the market. With the targeted clientele being an extremely demanding, discerning and sophisticated one, the significance of finding a desirable store spot cannot be over-emphasized for emerging luxury brands aspiring to build themselves as truly top-tier ones."
   ]
  },
  {
   "cell_type": "markdown",
   "metadata": {},
   "source": [
    "## 2. Data"
   ]
  },
  {
   "cell_type": "markdown",
   "metadata": {},
   "source": [
    "This study will use the following data:\n",
    "\n",
    "### 2.1 Demography of London\n",
    "These FJHs’ clients are mostly succeful businesspeople or wives of successful businessmen from 35 to 65 years old. Understanding where in London people from this group live is essential in order for us to narrow down our research scope.\n",
    "\n",
    "The Greater London area is composed of 32 London boroughs and the City of London. For convenience, all 33 of them will just be refered to as ‘boroughs’. in this article. A wide range of statistical data of each borough will be looked into, including but not limited to age, gender, income/wealth, education level, etc. Once the data are gathered and scrutinised, we will choose 5 boroughs for further study.\n",
    "\n",
    "### 2.2 Geographical coordinates of London boroughs’ constituent areas\n",
    "Each London borough comprises several disctricts, or areas as a more formal term. We will gather corresponding geographical coordinates before processing to each area’s detailed analysis using Foursquare.\n",
    "\n",
    "### 2.3\tFoursquare location data\n",
    "We will use Foursquare location data to understand each area’s features. In particular, we will determine its most common business type(s) and its approximaty to other luxury-related sites, such as high-end fashion or jewellery street shops, prestigious department stores, art galleries and concert halls. This step will tremendously help us identify spots that can befinit from economies of agglomeration, which will in turn answer the question of this study."
   ]
  },
  {
   "cell_type": "code",
   "execution_count": null,
   "metadata": {},
   "outputs": [],
   "source": []
  }
 ],
 "metadata": {
  "kernelspec": {
   "display_name": "Python 3",
   "language": "python",
   "name": "python3"
  },
  "language_info": {
   "codemirror_mode": {
    "name": "ipython",
    "version": 3
   },
   "file_extension": ".py",
   "mimetype": "text/x-python",
   "name": "python",
   "nbconvert_exporter": "python",
   "pygments_lexer": "ipython3",
   "version": "3.7.6"
  }
 },
 "nbformat": 4,
 "nbformat_minor": 4
}
